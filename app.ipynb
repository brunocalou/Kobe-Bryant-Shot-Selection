{
 "cells": [
  {
   "cell_type": "markdown",
   "metadata": {},
   "source": [
    "# Kobe Bryant Shot Selection"
   ]
  },
  {
   "cell_type": "markdown",
   "metadata": {},
   "source": [
    "## Import custom R modules"
   ]
  },
  {
   "cell_type": "code",
   "execution_count": 1,
   "metadata": {
    "collapsed": false
   },
   "outputs": [],
   "source": [
    "source('R/utils/devdependencies.R');\n",
    "source('R/pre-processing/preprocessing.R');\n",
    "source('R/pre-processing/datavis.R');"
   ]
  },
  {
   "cell_type": "markdown",
   "metadata": {},
   "source": [
    "## Install dependencies"
   ]
  },
  {
   "cell_type": "code",
   "execution_count": 2,
   "metadata": {
    "collapsed": false
   },
   "outputs": [
    {
     "name": "stdout",
     "output_type": "stream",
     "text": [
      "[1] \"Installing Project dependencies/libraries... Please wait\"\n",
      "[1] \"Status: Success\"\n"
     ]
    }
   ],
   "source": [
    "install_dependencies();"
   ]
  },
  {
   "cell_type": "code",
   "execution_count": 3,
   "metadata": {
    "collapsed": false
   },
   "outputs": [
    {
     "name": "stderr",
     "output_type": "stream",
     "text": [
      "Warning message:\n",
      "\"package 'ggplot2' was built under R version 3.3.2\"Warning message:\n",
      "\"package 'GGally' was built under R version 3.3.2\"Warning message:\n",
      "\"package 'corrplot' was built under R version 3.3.2\"Warning message:\n",
      "\"package 'caret' was built under R version 3.3.2\"Loading required package: lattice\n",
      "Warning message:\n",
      "\"package 'e1071' was built under R version 3.3.2\"Warning message:\n",
      "\"package 'randomForest' was built under R version 3.3.2\"randomForest 4.6-12\n",
      "Type rfNews() to see new features/changes/bug fixes.\n",
      "\n",
      "Attaching package: 'randomForest'\n",
      "\n",
      "The following object is masked from 'package:ggplot2':\n",
      "\n",
      "    margin\n",
      "\n",
      "Warning message:\n",
      "\"package 'RSNNS' was built under R version 3.3.2\"Loading required package: Rcpp\n",
      "\n",
      "Attaching package: 'RSNNS'\n",
      "\n",
      "The following objects are masked from 'package:caret':\n",
      "\n",
      "    confusionMatrix, train\n",
      "\n",
      "Loading required package: grid\n"
     ]
    }
   ],
   "source": [
    "# Loading libraries\n",
    "library(ggplot2)\n",
    "library(GGally)\n",
    "library(corrplot)\n",
    "library(caret)\n",
    "library(nnet)\n",
    "library(e1071)\n",
    "library(randomForest)\n",
    "library(RSNNS)\n",
    "require(grid)"
   ]
  },
  {
   "cell_type": "markdown",
   "metadata": {},
   "source": [
    "## Read the data into memory"
   ]
  },
  {
   "cell_type": "code",
   "execution_count": 4,
   "metadata": {
    "collapsed": false
   },
   "outputs": [
    {
     "data": {
      "text/html": [
       "<table>\n",
       "<thead><tr><th scope=col>action_type</th><th scope=col>combined_shot_type</th><th scope=col>game_event_id</th><th scope=col>game_id</th><th scope=col>lat</th><th scope=col>loc_x</th><th scope=col>loc_y</th><th scope=col>lon</th><th scope=col>minutes_remaining</th><th scope=col>period</th><th scope=col>...</th><th scope=col>shot_type</th><th scope=col>shot_zone_area</th><th scope=col>shot_zone_basic</th><th scope=col>shot_zone_range</th><th scope=col>team_id</th><th scope=col>team_name</th><th scope=col>game_date</th><th scope=col>matchup</th><th scope=col>opponent</th><th scope=col>shot_id</th></tr></thead>\n",
       "<tbody>\n",
       "\t<tr><td>Jump Shot            </td><td>Jump Shot            </td><td> 10                  </td><td>20000012             </td><td>33.9723              </td><td> 167                 </td><td> 72                  </td><td>-118.1028            </td><td>10                   </td><td>1                    </td><td>...                  </td><td>2PT Field Goal       </td><td>Right Side(R)        </td><td>Mid-Range            </td><td>16-24 ft.            </td><td>1610612747           </td><td>Los Angeles Lakers   </td><td>2000-10-31           </td><td>LAL @ POR            </td><td>POR                  </td><td>1                    </td></tr>\n",
       "\t<tr><td>Jump Shot            </td><td>Jump Shot            </td><td> 12                  </td><td>20000012             </td><td>34.0443              </td><td>-157                 </td><td>  0                  </td><td>-118.4268            </td><td>10                   </td><td>1                    </td><td>...                  </td><td>2PT Field Goal       </td><td>Left Side(L)         </td><td>Mid-Range            </td><td>8-16 ft.             </td><td>1610612747           </td><td>Los Angeles Lakers   </td><td>2000-10-31           </td><td>LAL @ POR            </td><td>POR                  </td><td>2                    </td></tr>\n",
       "\t<tr><td>Jump Shot            </td><td>Jump Shot            </td><td> 35                  </td><td>20000012             </td><td>33.9093              </td><td>-101                 </td><td>135                  </td><td>-118.3708            </td><td> 7                   </td><td>1                    </td><td>...                  </td><td>2PT Field Goal       </td><td>Left Side Center(LC) </td><td>Mid-Range            </td><td>16-24 ft.            </td><td>1610612747           </td><td>Los Angeles Lakers   </td><td>2000-10-31           </td><td>LAL @ POR            </td><td>POR                  </td><td>3                    </td></tr>\n",
       "\t<tr><td>Jump Shot            </td><td>Jump Shot            </td><td> 43                  </td><td>20000012             </td><td>33.8693              </td><td> 138                 </td><td>175                  </td><td>-118.1318            </td><td> 6                   </td><td>1                    </td><td>...                  </td><td>2PT Field Goal       </td><td>Right Side Center(RC)</td><td>Mid-Range            </td><td>16-24 ft.            </td><td>1610612747           </td><td>Los Angeles Lakers   </td><td>2000-10-31           </td><td>LAL @ POR            </td><td>POR                  </td><td>4                    </td></tr>\n",
       "\t<tr><td>Driving Dunk Shot    </td><td>Dunk                 </td><td>155                  </td><td>20000012             </td><td>34.0443              </td><td>   0                 </td><td>  0                  </td><td>-118.2698            </td><td> 6                   </td><td>2                    </td><td>...                  </td><td>2PT Field Goal       </td><td>Center(C)            </td><td>Restricted Area      </td><td>Less Than 8 ft.      </td><td>1610612747           </td><td>Los Angeles Lakers   </td><td>2000-10-31           </td><td>LAL @ POR            </td><td>POR                  </td><td>5                    </td></tr>\n",
       "\t<tr><td>Jump Shot            </td><td>Jump Shot            </td><td>244                  </td><td>20000012             </td><td>34.0553              </td><td>-145                 </td><td>-11                  </td><td>-118.4148            </td><td> 9                   </td><td>3                    </td><td>...                  </td><td>2PT Field Goal       </td><td>Left Side(L)         </td><td>Mid-Range            </td><td>8-16 ft.             </td><td>1610612747           </td><td>Los Angeles Lakers   </td><td>2000-10-31           </td><td>LAL @ POR            </td><td>POR                  </td><td>6                    </td></tr>\n",
       "</tbody>\n",
       "</table>\n"
      ],
      "text/latex": [
       "\\begin{tabular}{r|lllllllllllllllllllllllll}\n",
       " action\\_type & combined\\_shot\\_type & game\\_event\\_id & game\\_id & lat & loc\\_x & loc\\_y & lon & minutes\\_remaining & period & ... & shot\\_type & shot\\_zone\\_area & shot\\_zone\\_basic & shot\\_zone\\_range & team\\_id & team\\_name & game\\_date & matchup & opponent & shot\\_id\\\\\n",
       "\\hline\n",
       "\t Jump Shot             & Jump Shot             &  10                   & 20000012              & 33.9723               &  167                  &  72                   & -118.1028             & 10                    & 1                     & ...                   & 2PT Field Goal        & Right Side(R)         & Mid-Range             & 16-24 ft.             & 1610612747            & Los Angeles Lakers    & 2000-10-31            & LAL @ POR             & POR                   & 1                    \\\\\n",
       "\t Jump Shot             & Jump Shot             &  12                   & 20000012              & 34.0443               & -157                  &   0                   & -118.4268             & 10                    & 1                     & ...                   & 2PT Field Goal        & Left Side(L)          & Mid-Range             & 8-16 ft.              & 1610612747            & Los Angeles Lakers    & 2000-10-31            & LAL @ POR             & POR                   & 2                    \\\\\n",
       "\t Jump Shot             & Jump Shot             &  35                   & 20000012              & 33.9093               & -101                  & 135                   & -118.3708             &  7                    & 1                     & ...                   & 2PT Field Goal        & Left Side Center(LC)  & Mid-Range             & 16-24 ft.             & 1610612747            & Los Angeles Lakers    & 2000-10-31            & LAL @ POR             & POR                   & 3                    \\\\\n",
       "\t Jump Shot             & Jump Shot             &  43                   & 20000012              & 33.8693               &  138                  & 175                   & -118.1318             &  6                    & 1                     & ...                   & 2PT Field Goal        & Right Side Center(RC) & Mid-Range             & 16-24 ft.             & 1610612747            & Los Angeles Lakers    & 2000-10-31            & LAL @ POR             & POR                   & 4                    \\\\\n",
       "\t Driving Dunk Shot     & Dunk                  & 155                   & 20000012              & 34.0443               &    0                  &   0                   & -118.2698             &  6                    & 2                     & ...                   & 2PT Field Goal        & Center(C)             & Restricted Area       & Less Than 8 ft.       & 1610612747            & Los Angeles Lakers    & 2000-10-31            & LAL @ POR             & POR                   & 5                    \\\\\n",
       "\t Jump Shot             & Jump Shot             & 244                   & 20000012              & 34.0553               & -145                  & -11                   & -118.4148             &  9                    & 3                     & ...                   & 2PT Field Goal        & Left Side(L)          & Mid-Range             & 8-16 ft.              & 1610612747            & Los Angeles Lakers    & 2000-10-31            & LAL @ POR             & POR                   & 6                    \\\\\n",
       "\\end{tabular}\n"
      ],
      "text/plain": [
       "  action_type       combined_shot_type game_event_id game_id  lat     loc_x\n",
       "1 Jump Shot         Jump Shot           10           20000012 33.9723  167 \n",
       "2 Jump Shot         Jump Shot           12           20000012 34.0443 -157 \n",
       "3 Jump Shot         Jump Shot           35           20000012 33.9093 -101 \n",
       "4 Jump Shot         Jump Shot           43           20000012 33.8693  138 \n",
       "5 Driving Dunk Shot Dunk               155           20000012 34.0443    0 \n",
       "6 Jump Shot         Jump Shot          244           20000012 34.0553 -145 \n",
       "  loc_y lon       minutes_remaining period ... shot_type     \n",
       "1  72   -118.1028 10                1      ... 2PT Field Goal\n",
       "2   0   -118.4268 10                1      ... 2PT Field Goal\n",
       "3 135   -118.3708  7                1      ... 2PT Field Goal\n",
       "4 175   -118.1318  6                1      ... 2PT Field Goal\n",
       "5   0   -118.2698  6                2      ... 2PT Field Goal\n",
       "6 -11   -118.4148  9                3      ... 2PT Field Goal\n",
       "  shot_zone_area        shot_zone_basic shot_zone_range team_id   \n",
       "1 Right Side(R)         Mid-Range       16-24 ft.       1610612747\n",
       "2 Left Side(L)          Mid-Range       8-16 ft.        1610612747\n",
       "3 Left Side Center(LC)  Mid-Range       16-24 ft.       1610612747\n",
       "4 Right Side Center(RC) Mid-Range       16-24 ft.       1610612747\n",
       "5 Center(C)             Restricted Area Less Than 8 ft. 1610612747\n",
       "6 Left Side(L)          Mid-Range       8-16 ft.        1610612747\n",
       "  team_name          game_date  matchup   opponent shot_id\n",
       "1 Los Angeles Lakers 2000-10-31 LAL @ POR POR      1      \n",
       "2 Los Angeles Lakers 2000-10-31 LAL @ POR POR      2      \n",
       "3 Los Angeles Lakers 2000-10-31 LAL @ POR POR      3      \n",
       "4 Los Angeles Lakers 2000-10-31 LAL @ POR POR      4      \n",
       "5 Los Angeles Lakers 2000-10-31 LAL @ POR POR      5      \n",
       "6 Los Angeles Lakers 2000-10-31 LAL @ POR POR      6      "
      ]
     },
     "metadata": {},
     "output_type": "display_data"
    }
   ],
   "source": [
    "# Get the csv file from the zip file\n",
    "raw_data <- read.table(unz(\"data/rawdata_csv.zip\", \"data.csv\"), header=T, quote=\"\\\"\", sep=\",\");\n",
    "\n",
    "# Print the head of the dataframe to understand the data structure\n",
    "head(raw_data)"
   ]
  },
  {
   "cell_type": "markdown",
   "metadata": {},
   "source": [
    "## Understanding the variables"
   ]
  },
  {
   "cell_type": "code",
   "execution_count": 5,
   "metadata": {
    "collapsed": false,
    "scrolled": false
   },
   "outputs": [
    {
     "data": {
      "text/html": [
       "<ol class=list-inline>\n",
       "\t<li>'action_type'</li>\n",
       "\t<li>'combined_shot_type'</li>\n",
       "\t<li>'game_event_id'</li>\n",
       "\t<li>'game_id'</li>\n",
       "\t<li>'lat'</li>\n",
       "\t<li>'loc_x'</li>\n",
       "\t<li>'loc_y'</li>\n",
       "\t<li>'lon'</li>\n",
       "\t<li>'minutes_remaining'</li>\n",
       "\t<li>'period'</li>\n",
       "\t<li>'playoffs'</li>\n",
       "\t<li>'season'</li>\n",
       "\t<li>'seconds_remaining'</li>\n",
       "\t<li>'shot_distance'</li>\n",
       "\t<li>'shot_made_flag'</li>\n",
       "\t<li>'shot_type'</li>\n",
       "\t<li>'shot_zone_area'</li>\n",
       "\t<li>'shot_zone_basic'</li>\n",
       "\t<li>'shot_zone_range'</li>\n",
       "\t<li>'team_id'</li>\n",
       "\t<li>'team_name'</li>\n",
       "\t<li>'game_date'</li>\n",
       "\t<li>'matchup'</li>\n",
       "\t<li>'opponent'</li>\n",
       "\t<li>'shot_id'</li>\n",
       "</ol>\n"
      ],
      "text/latex": [
       "\\begin{enumerate*}\n",
       "\\item 'action\\_type'\n",
       "\\item 'combined\\_shot\\_type'\n",
       "\\item 'game\\_event\\_id'\n",
       "\\item 'game\\_id'\n",
       "\\item 'lat'\n",
       "\\item 'loc\\_x'\n",
       "\\item 'loc\\_y'\n",
       "\\item 'lon'\n",
       "\\item 'minutes\\_remaining'\n",
       "\\item 'period'\n",
       "\\item 'playoffs'\n",
       "\\item 'season'\n",
       "\\item 'seconds\\_remaining'\n",
       "\\item 'shot\\_distance'\n",
       "\\item 'shot\\_made\\_flag'\n",
       "\\item 'shot\\_type'\n",
       "\\item 'shot\\_zone\\_area'\n",
       "\\item 'shot\\_zone\\_basic'\n",
       "\\item 'shot\\_zone\\_range'\n",
       "\\item 'team\\_id'\n",
       "\\item 'team\\_name'\n",
       "\\item 'game\\_date'\n",
       "\\item 'matchup'\n",
       "\\item 'opponent'\n",
       "\\item 'shot\\_id'\n",
       "\\end{enumerate*}\n"
      ],
      "text/markdown": [
       "1. 'action_type'\n",
       "2. 'combined_shot_type'\n",
       "3. 'game_event_id'\n",
       "4. 'game_id'\n",
       "5. 'lat'\n",
       "6. 'loc_x'\n",
       "7. 'loc_y'\n",
       "8. 'lon'\n",
       "9. 'minutes_remaining'\n",
       "10. 'period'\n",
       "11. 'playoffs'\n",
       "12. 'season'\n",
       "13. 'seconds_remaining'\n",
       "14. 'shot_distance'\n",
       "15. 'shot_made_flag'\n",
       "16. 'shot_type'\n",
       "17. 'shot_zone_area'\n",
       "18. 'shot_zone_basic'\n",
       "19. 'shot_zone_range'\n",
       "20. 'team_id'\n",
       "21. 'team_name'\n",
       "22. 'game_date'\n",
       "23. 'matchup'\n",
       "24. 'opponent'\n",
       "25. 'shot_id'\n",
       "\n",
       "\n"
      ],
      "text/plain": [
       " [1] \"action_type\"        \"combined_shot_type\" \"game_event_id\"     \n",
       " [4] \"game_id\"            \"lat\"                \"loc_x\"             \n",
       " [7] \"loc_y\"              \"lon\"                \"minutes_remaining\" \n",
       "[10] \"period\"             \"playoffs\"           \"season\"            \n",
       "[13] \"seconds_remaining\"  \"shot_distance\"      \"shot_made_flag\"    \n",
       "[16] \"shot_type\"          \"shot_zone_area\"     \"shot_zone_basic\"   \n",
       "[19] \"shot_zone_range\"    \"team_id\"            \"team_name\"         \n",
       "[22] \"game_date\"          \"matchup\"            \"opponent\"          \n",
       "[25] \"shot_id\"           "
      ]
     },
     "metadata": {},
     "output_type": "display_data"
    }
   ],
   "source": [
    "colnames(raw_data)"
   ]
  },
  {
   "cell_type": "markdown",
   "metadata": {
    "collapsed": true
   },
   "source": [
    "## Separating data from submission samples"
   ]
  },
  {
   "cell_type": "code",
   "execution_count": 6,
   "metadata": {
    "collapsed": true
   },
   "outputs": [],
   "source": [
    "dataframe <- na.omit(raw_data)\n",
    "submission_sample <- raw_data[is.na(raw_data$shot_made_flag),]"
   ]
  },
  {
   "cell_type": "markdown",
   "metadata": {},
   "source": [
    "## Statistical Analysis (Descriptive statistics)"
   ]
  },
  {
   "cell_type": "code",
   "execution_count": 7,
   "metadata": {
    "collapsed": false,
    "scrolled": false
   },
   "outputs": [
    {
     "data": {
      "text/plain": [
       " game_event_id      game_id              lat            loc_x         \n",
       " Min.   :  2.0   Min.   :20000012   Min.   :33.25   Min.   :-250.000  \n",
       " 1st Qu.:111.0   1st Qu.:20500064   1st Qu.:33.88   1st Qu.: -67.000  \n",
       " Median :253.0   Median :20900337   Median :33.97   Median :   0.000  \n",
       " Mean   :249.3   Mean   :24741091   Mean   :33.95   Mean   :   7.148  \n",
       " 3rd Qu.:367.0   3rd Qu.:29600270   3rd Qu.:34.04   3rd Qu.:  94.000  \n",
       " Max.   :653.0   Max.   :49900088   Max.   :34.09   Max.   : 248.000  \n",
       "     loc_y             lon         minutes_remaining     period     \n",
       " Min.   :-44.00   Min.   :-118.5   Min.   : 0.000    Min.   :1.000  \n",
       " 1st Qu.:  4.00   1st Qu.:-118.3   1st Qu.: 2.000    1st Qu.:1.000  \n",
       " Median : 74.00   Median :-118.3   Median : 5.000    Median :3.000  \n",
       " Mean   : 91.26   Mean   :-118.3   Mean   : 4.887    Mean   :2.521  \n",
       " 3rd Qu.:160.00   3rd Qu.:-118.2   3rd Qu.: 8.000    3rd Qu.:3.000  \n",
       " Max.   :791.00   Max.   :-118.0   Max.   :11.000    Max.   :7.000  \n",
       "    playoffs      seconds_remaining shot_distance   shot_made_flag  \n",
       " Min.   :0.0000   Min.   : 0.00     Min.   : 0.00   Min.   :0.0000  \n",
       " 1st Qu.:0.0000   1st Qu.:13.00     1st Qu.: 5.00   1st Qu.:0.0000  \n",
       " Median :0.0000   Median :28.00     Median :15.00   Median :0.0000  \n",
       " Mean   :0.1462   Mean   :28.31     Mean   :13.46   Mean   :0.4462  \n",
       " 3rd Qu.:0.0000   3rd Qu.:43.00     3rd Qu.:21.00   3rd Qu.:1.0000  \n",
       " Max.   :1.0000   Max.   :59.00     Max.   :79.00   Max.   :1.0000  \n",
       "    team_id             shot_id     \n",
       " Min.   :1.611e+09   Min.   :    2  \n",
       " 1st Qu.:1.611e+09   1st Qu.: 7646  \n",
       " Median :1.611e+09   Median :15336  \n",
       " Mean   :1.611e+09   Mean   :15328  \n",
       " 3rd Qu.:1.611e+09   3rd Qu.:22976  \n",
       " Max.   :1.611e+09   Max.   :30697  "
      ]
     },
     "metadata": {},
     "output_type": "display_data"
    }
   ],
   "source": [
    "# Pick the numeric variables only\n",
    "numeric_columns <- dataframe[,sapply(dataframe, class) != 'factor']\n",
    "summary(numeric_columns)"
   ]
  },
  {
   "cell_type": "code",
   "execution_count": 8,
   "metadata": {
    "collapsed": false
   },
   "outputs": [
    {
     "data": {
      "text/plain": [
       "               action_type    combined_shot_type     season     \n",
       " Jump Shot           :15836   Bank Shot:  120    2005-06: 1924  \n",
       " Layup Shot          : 2154   Dunk     : 1056    2002-03: 1852  \n",
       " Driving Layup Shot  : 1628   Hook Shot:  127    2008-09: 1851  \n",
       " Turnaround Jump Shot:  891   Jump Shot:19710    2007-08: 1819  \n",
       " Fadeaway Jump Shot  :  872   Layup    : 4532    2009-10: 1772  \n",
       " Running Jump Shot   :  779   Tip Shot :  152    2001-02: 1708  \n",
       " (Other)             : 3537                      (Other):14771  \n",
       "          shot_type                   shot_zone_area \n",
       " 2PT Field Goal:20285   Back Court(BC)       :   72  \n",
       " 3PT Field Goal: 5412   Center(C)            :11289  \n",
       "                        Left Side Center(LC) : 3364  \n",
       "                        Left Side(L)         : 3132  \n",
       "                        Right Side Center(RC): 3981  \n",
       "                        Right Side(R)        : 3859  \n",
       "                                                     \n",
       "              shot_zone_basic         shot_zone_range\n",
       " Above the Break 3    : 4720   16-24 ft.      :6907  \n",
       " Backcourt            :   60   24+ ft.        :5281  \n",
       " In The Paint (Non-RA): 3880   8-16 ft.       :5580  \n",
       " Left Corner 3        :  240   Back Court Shot:  72  \n",
       " Mid-Range            :10532   Less Than 8 ft.:7857  \n",
       " Restricted Area      : 5932                         \n",
       " Right Corner 3       :  333                         \n",
       "              team_name          game_date            matchup     \n",
       " Los Angeles Lakers:25697   2016-04-13:   43   LAL @ SAS  :  853  \n",
       "                            2007-03-30:   41   LAL vs. SAS:  765  \n",
       "                            2002-11-07:   39   LAL @ PHX  :  751  \n",
       "                            2006-01-22:   39   LAL @ SAC  :  751  \n",
       "                            2008-01-14:   37   LAL vs. HOU:  722  \n",
       "                            2010-01-08:   36   LAL vs. PHX:  721  \n",
       "                            (Other)   :25462   (Other)    :21134  \n",
       "    opponent    \n",
       " SAS    : 1638  \n",
       " PHX    : 1535  \n",
       " HOU    : 1399  \n",
       " SAC    : 1397  \n",
       " DEN    : 1352  \n",
       " POR    : 1292  \n",
       " (Other):17084  "
      ]
     },
     "metadata": {},
     "output_type": "display_data"
    }
   ],
   "source": [
    "categorical_columns <- dataframe[,sapply(dataframe, class) == 'factor']\n",
    "summary(categorical_columns)"
   ]
  },
  {
   "cell_type": "markdown",
   "metadata": {},
   "source": [
    "## Data visualization"
   ]
  },
  {
   "cell_type": "code",
   "execution_count": 9,
   "metadata": {
    "collapsed": false
   },
   "outputs": [
    {
     "data": {
      "image/png": "[encoded data removed]",
      "text/plain": [
       "Plot with title \"Class distribution\""
      ]
     },
     "metadata": {},
     "output_type": "display_data"
    }
   ],
   "source": [
    "# Class distribution\n",
    "prop <- c(sum(dataframe$shot_made_flag == 0), sum(dataframe$shot_made_flag == 1))/nrow(dataframe)\n",
    "lbls <- c(\"0 - \", \"1 - \")\n",
    "lbls <- paste(lbls, format(round(prop*100, 2), nsmall = 2))\n",
    "lbls <- paste(lbls, \"%\", sep=\"\")\n",
    "\n",
    "options(repr.plot.width=4, repr.plot.height=4)\n",
    "pie(prop, labels=lbls, col=rainbow(length(lbls)), main=\"Class distribution\")"
   ]
  },
  {
   "cell_type": "markdown",
   "metadata": {},
   "source": [
    "### Spatial variables"
   ]
  },
  {
   "cell_type": "code",
   "execution_count": 10,
   "metadata": {
    "collapsed": false,
    "scrolled": true
   },
   "outputs": [
    {
     "data": {
      "image/png": "[encoded data removed]",
      "text/plain": [
       "plot without title"
      ]
     },
     "metadata": {},
     "output_type": "display_data"
    }
   ],
   "source": [
    "# Quartiles of 'loc_x', 'loc_y', 'lat', 'lon', 'shot_distance'\n",
    "dataframe$shot_made_flag <- factor(dataframe$shot_made_flag,levels=c(0,1), labels=c(\"0\",\"1\"))\n",
    "\n",
    "# shot_distance\n",
    "shot_dist_plot <- qplot(shot_made_flag, shot_distance, data=dataframe, geom=c(\"boxplot\"), \n",
    "   fill=shot_made_flag, main=\"Score by Shot Distance\", ylab=\"Shot Distance\")\n",
    "\n",
    "# Loc_x and Loc_y\n",
    "loc_x_plot <- qplot(shot_made_flag, loc_x, data=dataframe, geom=c(\"boxplot\"), \n",
    "   fill=shot_made_flag, main=\"loc_x\", ylab=\"loc_x\")\n",
    "\n",
    "loc_y_plot <- qplot(shot_made_flag, loc_y, data=dataframe, geom=c(\"boxplot\"), \n",
    "   fill=shot_made_flag, main=\"loc_y\", ylab=\"loc_y\")\n",
    "\n",
    "# Lat and Lon\n",
    "lat_plot <- qplot(shot_made_flag, lat, data=dataframe, geom=c(\"boxplot\"), \n",
    "   fill=shot_made_flag, main=\"Latitude\", ylab=\"Latitude\")\n",
    "\n",
    "lon_plot <- qplot(shot_made_flag, lon, data=dataframe, geom=c(\"boxplot\"), \n",
    "   fill=shot_made_flag, main=\"Longitude\", ylab=\"Longitude\")\n",
    "\n",
    "options(repr.plot.width=8, repr.plot.height=8)\n",
    "multiplot(loc_x_plot, loc_y_plot, lat_plot, lon_plot, shot_dist_plot, cols=2)"
   ]
  },
  {
   "cell_type": "code",
   "execution_count": 11,
   "metadata": {
    "collapsed": false,
    "scrolled": true
   },
   "outputs": [
    {
     "data": {},
     "metadata": {},
     "output_type": "display_data"
    },
    {
     "data": {
      "image/png": "[encoded data removed]",
      "text/plain": [
       "plot without title"
      ]
     },
     "metadata": {},
     "output_type": "display_data"
    }
   ],
   "source": [
    "# Scatter matrix of 'loc_x', 'loc_y', 'lat', 'lon', 'shot_distance'\n",
    "options(repr.plot.width=8, repr.plot.height=8)\n",
    "pm <- ggpairs(dataframe, mapping = aes(color = shot_made_flag), columns = c(\"loc_x\", \"loc_y\", \"lat\", \"lon\", \"shot_distance\"))\n",
    "pm"
   ]
  },
  {
   "cell_type": "markdown",
   "metadata": {},
   "source": [
    "### Correlation Matrix"
   ]
  },
  {
   "cell_type": "code",
   "execution_count": 12,
   "metadata": {
    "collapsed": false
   },
   "outputs": [
    {
     "data": {
      "image/png": "[encoded data removed]",
      "text/plain": [
       "Plot with title \"\""
      ]
     },
     "metadata": {},
     "output_type": "display_data"
    }
   ],
   "source": [
    "# Print and save the correlation matrix\n",
    "x <- dataframe[,c(\"loc_x\", \"loc_y\", \"lat\", \"lon\", \"shot_distance\")]\n",
    "corrplot(cor(x), method=\"color\", type=\"upper\")"
   ]
  },
  {
   "cell_type": "markdown",
   "metadata": {},
   "source": [
    "### Barplots of the other variables"
   ]
  },
  {
   "cell_type": "code",
   "execution_count": 13,
   "metadata": {
    "collapsed": false
   },
   "outputs": [
    {
     "data": {},
     "metadata": {},
     "output_type": "display_data"
    },
    {
     "data": {},
     "metadata": {},
     "output_type": "display_data"
    },
    {
     "data": {
      "image/png": "[encoded data removed]",
      "text/plain": [
       "plot without title"
      ]
     },
     "metadata": {},
     "output_type": "display_data"
    },
    {
     "data": {},
     "metadata": {},
     "output_type": "display_data"
    },
    {
     "data": {
      "image/png": "[encoded data removed]",
      "text/plain": [
       "plot without title"
      ]
     },
     "metadata": {},
     "output_type": "display_data"
    },
    {
     "data": {},
     "metadata": {},
     "output_type": "display_data"
    },
    {
     "data": {
      "image/png": "[encoded data removed]",
      "text/plain": [
       "plot without title"
      ]
     },
     "metadata": {},
     "output_type": "display_data"
    },
    {
     "data": {
      "image/png": "[encoded data removed]",
      "text/plain": [
       "plot without title"
      ]
     },
     "metadata": {},
     "output_type": "display_data"
    }
   ],
   "source": [
    "# combined_shot_type,season, period, playoffs, shot_type, shot_zone_area, shot_zone_basic, shot_zone_range\n",
    "options(repr.plot.width=8, repr.plot.height=3)\n",
    "ggplot(dataframe, aes(combined_shot_type, fill=shot_made_flag)) + geom_bar(position=\"dodge\")\n",
    "ggplot(dataframe, aes(period, fill=shot_made_flag)) + geom_bar(position=\"dodge\")\n",
    "ggplot(dataframe, aes(playoffs, fill=shot_made_flag)) + geom_bar(position=\"dodge\")\n",
    "\n",
    "options(repr.plot.width=12, repr.plot.height=3)\n",
    "ggplot(dataframe, aes(season, fill=shot_made_flag)) + geom_bar(position=\"dodge\")\n"
   ]
  },
  {
   "cell_type": "code",
   "execution_count": 14,
   "metadata": {
    "collapsed": false
   },
   "outputs": [
    {
     "data": {},
     "metadata": {},
     "output_type": "display_data"
    },
    {
     "data": {},
     "metadata": {},
     "output_type": "display_data"
    },
    {
     "data": {
      "image/png": "[encoded data removed]",
      "text/plain": [
       "plot without title"
      ]
     },
     "metadata": {},
     "output_type": "display_data"
    },
    {
     "data": {},
     "metadata": {},
     "output_type": "display_data"
    },
    {
     "data": {
      "image/png": "[encoded data removed]",
      "text/plain": [
       "plot without title"
      ]
     },
     "metadata": {},
     "output_type": "display_data"
    },
    {
     "data": {},
     "metadata": {},
     "output_type": "display_data"
    },
    {
     "data": {
      "image/png": "[encoded data removed]",
      "text/plain": [
       "plot without title"
      ]
     },
     "metadata": {},
     "output_type": "display_data"
    },
    {
     "data": {
      "image/png": "[encoded data removed]",
      "text/plain": [
       "plot without title"
      ]
     },
     "metadata": {},
     "output_type": "display_data"
    }
   ],
   "source": [
    "options(repr.plot.width=8, repr.plot.height=3)\n",
    "ggplot(dataframe, aes(shot_type, fill=shot_made_flag)) + geom_bar(position=\"dodge\")\n",
    "ggplot(dataframe, aes(shot_zone_area, fill=shot_made_flag)) + geom_bar(position=\"dodge\")\n",
    "ggplot(dataframe, aes(shot_zone_basic, fill=shot_made_flag)) + geom_bar(position=\"dodge\")\n",
    "ggplot(dataframe, aes(shot_zone_range, fill=shot_made_flag)) + geom_bar(position=\"dodge\")"
   ]
  },
  {
   "cell_type": "markdown",
   "metadata": {},
   "source": [
    "### Histograms"
   ]
  },
  {
   "cell_type": "code",
   "execution_count": 15,
   "metadata": {
    "collapsed": false
   },
   "outputs": [
    {
     "data": {
      "image/png": "[encoded data removed]",
      "text/plain": [
       "Plot with title \"Histogram of raw_data$lat\""
      ]
     },
     "metadata": {},
     "output_type": "display_data"
    },
    {
     "data": {
      "image/png": "[encoded data removed]",
      "text/plain": [
       "Plot with title \"Histogram of raw_data$lon\""
      ]
     },
     "metadata": {},
     "output_type": "display_data"
    },
    {
     "data": {
      "image/png": "[encoded data removed]",
      "text/plain": [
       "Plot with title \"Histogram of raw_data$minutes_remaining\""
      ]
     },
     "metadata": {},
     "output_type": "display_data"
    }
   ],
   "source": [
    "options(repr.plot.width=5, repr.plot.height=3)\n",
    "hist(raw_data$lat, col=blues9)\n",
    "hist(raw_data$lon, col=blues9)\n",
    "hist(raw_data$minutes_remaining, col=blues9)"
   ]
  },
  {
   "cell_type": "code",
   "execution_count": 16,
   "metadata": {
    "collapsed": false
   },
   "outputs": [
    {
     "data": {
      "image/png": "[encoded data removed]",
      "text/plain": [
       "Plot with title \"Histogram of raw_data$period\""
      ]
     },
     "metadata": {},
     "output_type": "display_data"
    },
    {
     "data": {
      "image/png": "[encoded data removed]",
      "text/plain": [
       "Plot with title \"Histogram of raw_data$seconds_remaining\""
      ]
     },
     "metadata": {},
     "output_type": "display_data"
    },
    {
     "data": {
      "image/png": "[encoded data removed]",
      "text/plain": [
       "Plot with title \"Histogram of raw_data$shot_distance\""
      ]
     },
     "metadata": {},
     "output_type": "display_data"
    }
   ],
   "source": [
    "options(repr.plot.width=5, repr.plot.height=3)\n",
    "hist(raw_data$period, col=blues9)\n",
    "hist(raw_data$seconds_remaining, col=blues9)\n",
    "hist(raw_data$shot_distance, col=blues9)"
   ]
  },
  {
   "cell_type": "markdown",
   "metadata": {
    "collapsed": true
   },
   "source": [
    "## Prepare Data"
   ]
  },
  {
   "cell_type": "markdown",
   "metadata": {},
   "source": [
    "### Data Cleaning"
   ]
  },
  {
   "cell_type": "code",
   "execution_count": 17,
   "metadata": {
    "collapsed": false
   },
   "outputs": [],
   "source": [
    "#Remove unnecessary columns. Note that lat and lon are correlated with loc_x and loc_y\n",
    "data_cl <- subset(dataframe, select = -c(shot_id, team_id, lat, lon, game_id, game_event_id, team_name))"
   ]
  },
  {
   "cell_type": "markdown",
   "metadata": {},
   "source": [
    "## Data Transformation"
   ]
  },
  {
   "cell_type": "code",
   "execution_count": 18,
   "metadata": {
    "collapsed": false
   },
   "outputs": [],
   "source": [
    "#Time\n",
    "data_cl['seconds_to_end'] = data_cl['minutes_remaining'] * 60 + data_cl['seconds_remaining']\n",
    "data_cl <- subset(data_cl, select = -c(minutes_remaining, seconds_remaining))\n",
    "\n",
    "#Game date\n",
    "dates = as.Date(data_cl$game_date, format=\"%Y-%m-%d\")\n",
    "\n",
    "data_cl['game_year'] = as.numeric(strftime(dates, \"%Y\"))\n",
    "data_cl['game_month'] = as.numeric(strftime(dates, \"%m\"))\n",
    "data_cl <- subset(data_cl, select = -c(game_date))\n",
    "\n",
    "#Away home\n",
    "data_cl['away_home'] = as.integer(grepl(\"vs.\", data_cl$matchup))\n",
    "data_cl <- subset(data_cl, select = -c(matchup))"
   ]
  },
  {
   "cell_type": "code",
   "execution_count": 19,
   "metadata": {
    "collapsed": false,
    "scrolled": true
   },
   "outputs": [
    {
     "data": {
      "text/html": [
       "<table>\n",
       "<thead><tr><th></th><th scope=col>action_type</th><th scope=col>combined_shot_type</th><th scope=col>loc_x</th><th scope=col>loc_y</th><th scope=col>period</th><th scope=col>playoffs</th><th scope=col>season</th><th scope=col>shot_distance</th><th scope=col>shot_made_flag</th><th scope=col>shot_type</th><th scope=col>shot_zone_area</th><th scope=col>shot_zone_basic</th><th scope=col>shot_zone_range</th><th scope=col>opponent</th><th scope=col>seconds_to_end</th><th scope=col>game_year</th><th scope=col>game_month</th><th scope=col>away_home</th></tr></thead>\n",
       "<tbody>\n",
       "\t<tr><th scope=row>2</th><td>Jump Shot            </td><td>Jump Shot            </td><td>-157                 </td><td>  0                  </td><td>1                    </td><td>0                    </td><td>2000-01              </td><td>15                   </td><td>0                    </td><td>2PT Field Goal       </td><td>Left Side(L)         </td><td>Mid-Range            </td><td>8-16 ft.             </td><td>POR                  </td><td>622                  </td><td>2000                 </td><td>10                   </td><td>0                    </td></tr>\n",
       "\t<tr><th scope=row>3</th><td>Jump Shot            </td><td>Jump Shot            </td><td>-101                 </td><td>135                  </td><td>1                    </td><td>0                    </td><td>2000-01              </td><td>16                   </td><td>1                    </td><td>2PT Field Goal       </td><td>Left Side Center(LC) </td><td>Mid-Range            </td><td>16-24 ft.            </td><td>POR                  </td><td>465                  </td><td>2000                 </td><td>10                   </td><td>0                    </td></tr>\n",
       "\t<tr><th scope=row>4</th><td>Jump Shot            </td><td>Jump Shot            </td><td> 138                 </td><td>175                  </td><td>1                    </td><td>0                    </td><td>2000-01              </td><td>22                   </td><td>0                    </td><td>2PT Field Goal       </td><td>Right Side Center(RC)</td><td>Mid-Range            </td><td>16-24 ft.            </td><td>POR                  </td><td>412                  </td><td>2000                 </td><td>10                   </td><td>0                    </td></tr>\n",
       "\t<tr><th scope=row>5</th><td>Driving Dunk Shot    </td><td>Dunk                 </td><td>   0                 </td><td>  0                  </td><td>2                    </td><td>0                    </td><td>2000-01              </td><td> 0                   </td><td>1                    </td><td>2PT Field Goal       </td><td>Center(C)            </td><td>Restricted Area      </td><td>Less Than 8 ft.      </td><td>POR                  </td><td>379                  </td><td>2000                 </td><td>10                   </td><td>0                    </td></tr>\n",
       "\t<tr><th scope=row>6</th><td>Jump Shot            </td><td>Jump Shot            </td><td>-145                 </td><td>-11                  </td><td>3                    </td><td>0                    </td><td>2000-01              </td><td>14                   </td><td>0                    </td><td>2PT Field Goal       </td><td>Left Side(L)         </td><td>Mid-Range            </td><td>8-16 ft.             </td><td>POR                  </td><td>572                  </td><td>2000                 </td><td>10                   </td><td>0                    </td></tr>\n",
       "\t<tr><th scope=row>7</th><td>Layup Shot           </td><td>Layup                </td><td>   0                 </td><td>  0                  </td><td>3                    </td><td>0                    </td><td>2000-01              </td><td> 0                   </td><td>1                    </td><td>2PT Field Goal       </td><td>Center(C)            </td><td>Restricted Area      </td><td>Less Than 8 ft.      </td><td>POR                  </td><td>532                  </td><td>2000                 </td><td>10                   </td><td>0                    </td></tr>\n",
       "</tbody>\n",
       "</table>\n"
      ],
      "text/latex": [
       "\\begin{tabular}{r|llllllllllllllllll}\n",
       "  & action\\_type & combined\\_shot\\_type & loc\\_x & loc\\_y & period & playoffs & season & shot\\_distance & shot\\_made\\_flag & shot\\_type & shot\\_zone\\_area & shot\\_zone\\_basic & shot\\_zone\\_range & opponent & seconds\\_to\\_end & game\\_year & game\\_month & away\\_home\\\\\n",
       "\\hline\n",
       "\t2 & Jump Shot             & Jump Shot             & -157                  &   0                   & 1                     & 0                     & 2000-01               & 15                    & 0                     & 2PT Field Goal        & Left Side(L)          & Mid-Range             & 8-16 ft.              & POR                   & 622                   & 2000                  & 10                    & 0                    \\\\\n",
       "\t3 & Jump Shot             & Jump Shot             & -101                  & 135                   & 1                     & 0                     & 2000-01               & 16                    & 1                     & 2PT Field Goal        & Left Side Center(LC)  & Mid-Range             & 16-24 ft.             & POR                   & 465                   & 2000                  & 10                    & 0                    \\\\\n",
       "\t4 & Jump Shot             & Jump Shot             &  138                  & 175                   & 1                     & 0                     & 2000-01               & 22                    & 0                     & 2PT Field Goal        & Right Side Center(RC) & Mid-Range             & 16-24 ft.             & POR                   & 412                   & 2000                  & 10                    & 0                    \\\\\n",
       "\t5 & Driving Dunk Shot     & Dunk                  &    0                  &   0                   & 2                     & 0                     & 2000-01               &  0                    & 1                     & 2PT Field Goal        & Center(C)             & Restricted Area       & Less Than 8 ft.       & POR                   & 379                   & 2000                  & 10                    & 0                    \\\\\n",
       "\t6 & Jump Shot             & Jump Shot             & -145                  & -11                   & 3                     & 0                     & 2000-01               & 14                    & 0                     & 2PT Field Goal        & Left Side(L)          & Mid-Range             & 8-16 ft.              & POR                   & 572                   & 2000                  & 10                    & 0                    \\\\\n",
       "\t7 & Layup Shot            & Layup                 &    0                  &   0                   & 3                     & 0                     & 2000-01               &  0                    & 1                     & 2PT Field Goal        & Center(C)             & Restricted Area       & Less Than 8 ft.       & POR                   & 532                   & 2000                  & 10                    & 0                    \\\\\n",
       "\\end{tabular}\n"
      ],
      "text/plain": [
       "  action_type       combined_shot_type loc_x loc_y period playoffs season \n",
       "2 Jump Shot         Jump Shot          -157    0   1      0        2000-01\n",
       "3 Jump Shot         Jump Shot          -101  135   1      0        2000-01\n",
       "4 Jump Shot         Jump Shot           138  175   1      0        2000-01\n",
       "5 Driving Dunk Shot Dunk                  0    0   2      0        2000-01\n",
       "6 Jump Shot         Jump Shot          -145  -11   3      0        2000-01\n",
       "7 Layup Shot        Layup                 0    0   3      0        2000-01\n",
       "  shot_distance shot_made_flag shot_type      shot_zone_area       \n",
       "2 15            0              2PT Field Goal Left Side(L)         \n",
       "3 16            1              2PT Field Goal Left Side Center(LC) \n",
       "4 22            0              2PT Field Goal Right Side Center(RC)\n",
       "5  0            1              2PT Field Goal Center(C)            \n",
       "6 14            0              2PT Field Goal Left Side(L)         \n",
       "7  0            1              2PT Field Goal Center(C)            \n",
       "  shot_zone_basic shot_zone_range opponent seconds_to_end game_year game_month\n",
       "2 Mid-Range       8-16 ft.        POR      622            2000      10        \n",
       "3 Mid-Range       16-24 ft.       POR      465            2000      10        \n",
       "4 Mid-Range       16-24 ft.       POR      412            2000      10        \n",
       "5 Restricted Area Less Than 8 ft. POR      379            2000      10        \n",
       "6 Mid-Range       8-16 ft.        POR      572            2000      10        \n",
       "7 Restricted Area Less Than 8 ft. POR      532            2000      10        \n",
       "  away_home\n",
       "2 0        \n",
       "3 0        \n",
       "4 0        \n",
       "5 0        \n",
       "6 0        \n",
       "7 0        "
      ]
     },
     "metadata": {},
     "output_type": "display_data"
    }
   ],
   "source": [
    "# Check the clean data\n",
    "head(data_cl)"
   ]
  },
  {
   "cell_type": "markdown",
   "metadata": {},
   "source": [
    "## Normalize the data"
   ]
  },
  {
   "cell_type": "code",
   "execution_count": 20,
   "metadata": {
    "collapsed": false
   },
   "outputs": [
    {
     "data": {
      "text/html": [
       "<table>\n",
       "<thead><tr><th></th><th scope=col>action_type</th><th scope=col>combined_shot_type</th><th scope=col>loc_x</th><th scope=col>loc_y</th><th scope=col>period</th><th scope=col>playoffs</th><th scope=col>season</th><th scope=col>shot_distance</th><th scope=col>shot_made_flag</th><th scope=col>shot_type</th><th scope=col>shot_zone_area</th><th scope=col>shot_zone_basic</th><th scope=col>shot_zone_range</th><th scope=col>opponent</th><th scope=col>seconds_to_end</th><th scope=col>game_year</th><th scope=col>game_month</th><th scope=col>away_home</th></tr></thead>\n",
       "<tbody>\n",
       "\t<tr><th scope=row>2</th><td>Jump Shot            </td><td>Jump Shot            </td><td>-1.49126674          </td><td>-1.0352259           </td><td>1                    </td><td>0                    </td><td>2000-01              </td><td> 0.16433583          </td><td>0                    </td><td>2PT Field Goal       </td><td>Left Side(L)         </td><td>Mid-Range            </td><td>8-16 ft.             </td><td>POR                  </td><td>1.4424614            </td><td>2000                 </td><td>10                   </td><td>0                    </td></tr>\n",
       "\t<tr><th scope=row>3</th><td>Jump Shot            </td><td>Jump Shot            </td><td>-0.98251413          </td><td> 0.4962179           </td><td>1                    </td><td>0                    </td><td>2000-01              </td><td> 0.27084656          </td><td>1                    </td><td>2PT Field Goal       </td><td>Left Side Center(LC) </td><td>Mid-Range            </td><td>16-24 ft.            </td><td>POR                  </td><td>0.6887808            </td><td>2000                 </td><td>10                   </td><td>0                    </td></tr>\n",
       "\t<tr><th scope=row>4</th><td>Jump Shot            </td><td>Jump Shot            </td><td> 1.18876931          </td><td> 0.9499791           </td><td>1                    </td><td>0                    </td><td>2000-01              </td><td> 0.90991099          </td><td>0                    </td><td>2PT Field Goal       </td><td>Right Side Center(RC)</td><td>Mid-Range            </td><td>16-24 ft.            </td><td>POR                  </td><td>0.4343537            </td><td>2000                 </td><td>10                   </td><td>0                    </td></tr>\n",
       "\t<tr><th scope=row>5</th><td>Driving Dunk Shot    </td><td>Dunk                 </td><td>-0.06494247          </td><td>-1.0352259           </td><td>2                    </td><td>0                    </td><td>2000-01              </td><td>-1.43332523          </td><td>1                    </td><td>2PT Field Goal       </td><td>Center(C)            </td><td>Restricted Area      </td><td>Less Than 8 ft.      </td><td>POR                  </td><td>0.2759367            </td><td>2000                 </td><td>10                   </td><td>0                    </td></tr>\n",
       "\t<tr><th scope=row>6</th><td>Jump Shot            </td><td>Jump Shot            </td><td>-1.38224832          </td><td>-1.1600102           </td><td>3                    </td><td>0                    </td><td>2000-01              </td><td> 0.05782509          </td><td>0                    </td><td>2PT Field Goal       </td><td>Left Side(L)         </td><td>Mid-Range            </td><td>8-16 ft.             </td><td>POR                  </td><td>1.2024357            </td><td>2000                 </td><td>10                   </td><td>0                    </td></tr>\n",
       "\t<tr><th scope=row>7</th><td>Layup Shot           </td><td>Layup                </td><td>-0.06494247          </td><td>-1.0352259           </td><td>3                    </td><td>0                    </td><td>2000-01              </td><td>-1.43332523          </td><td>1                    </td><td>2PT Field Goal       </td><td>Center(C)            </td><td>Restricted Area      </td><td>Less Than 8 ft.      </td><td>POR                  </td><td>1.0104152            </td><td>2000                 </td><td>10                   </td><td>0                    </td></tr>\n",
       "</tbody>\n",
       "</table>\n"
      ],
      "text/latex": [
       "\\begin{tabular}{r|llllllllllllllllll}\n",
       "  & action\\_type & combined\\_shot\\_type & loc\\_x & loc\\_y & period & playoffs & season & shot\\_distance & shot\\_made\\_flag & shot\\_type & shot\\_zone\\_area & shot\\_zone\\_basic & shot\\_zone\\_range & opponent & seconds\\_to\\_end & game\\_year & game\\_month & away\\_home\\\\\n",
       "\\hline\n",
       "\t2 & Jump Shot             & Jump Shot             & -1.49126674           & -1.0352259            & 1                     & 0                     & 2000-01               &  0.16433583           & 0                     & 2PT Field Goal        & Left Side(L)          & Mid-Range             & 8-16 ft.              & POR                   & 1.4424614             & 2000                  & 10                    & 0                    \\\\\n",
       "\t3 & Jump Shot             & Jump Shot             & -0.98251413           &  0.4962179            & 1                     & 0                     & 2000-01               &  0.27084656           & 1                     & 2PT Field Goal        & Left Side Center(LC)  & Mid-Range             & 16-24 ft.             & POR                   & 0.6887808             & 2000                  & 10                    & 0                    \\\\\n",
       "\t4 & Jump Shot             & Jump Shot             &  1.18876931           &  0.9499791            & 1                     & 0                     & 2000-01               &  0.90991099           & 0                     & 2PT Field Goal        & Right Side Center(RC) & Mid-Range             & 16-24 ft.             & POR                   & 0.4343537             & 2000                  & 10                    & 0                    \\\\\n",
       "\t5 & Driving Dunk Shot     & Dunk                  & -0.06494247           & -1.0352259            & 2                     & 0                     & 2000-01               & -1.43332523           & 1                     & 2PT Field Goal        & Center(C)             & Restricted Area       & Less Than 8 ft.       & POR                   & 0.2759367             & 2000                  & 10                    & 0                    \\\\\n",
       "\t6 & Jump Shot             & Jump Shot             & -1.38224832           & -1.1600102            & 3                     & 0                     & 2000-01               &  0.05782509           & 0                     & 2PT Field Goal        & Left Side(L)          & Mid-Range             & 8-16 ft.              & POR                   & 1.2024357             & 2000                  & 10                    & 0                    \\\\\n",
       "\t7 & Layup Shot            & Layup                 & -0.06494247           & -1.0352259            & 3                     & 0                     & 2000-01               & -1.43332523           & 1                     & 2PT Field Goal        & Center(C)             & Restricted Area       & Less Than 8 ft.       & POR                   & 1.0104152             & 2000                  & 10                    & 0                    \\\\\n",
       "\\end{tabular}\n"
      ],
      "text/plain": [
       "  action_type       combined_shot_type loc_x       loc_y      period playoffs\n",
       "2 Jump Shot         Jump Shot          -1.49126674 -1.0352259 1      0       \n",
       "3 Jump Shot         Jump Shot          -0.98251413  0.4962179 1      0       \n",
       "4 Jump Shot         Jump Shot           1.18876931  0.9499791 1      0       \n",
       "5 Driving Dunk Shot Dunk               -0.06494247 -1.0352259 2      0       \n",
       "6 Jump Shot         Jump Shot          -1.38224832 -1.1600102 3      0       \n",
       "7 Layup Shot        Layup              -0.06494247 -1.0352259 3      0       \n",
       "  season  shot_distance shot_made_flag shot_type      shot_zone_area       \n",
       "2 2000-01  0.16433583   0              2PT Field Goal Left Side(L)         \n",
       "3 2000-01  0.27084656   1              2PT Field Goal Left Side Center(LC) \n",
       "4 2000-01  0.90991099   0              2PT Field Goal Right Side Center(RC)\n",
       "5 2000-01 -1.43332523   1              2PT Field Goal Center(C)            \n",
       "6 2000-01  0.05782509   0              2PT Field Goal Left Side(L)         \n",
       "7 2000-01 -1.43332523   1              2PT Field Goal Center(C)            \n",
       "  shot_zone_basic shot_zone_range opponent seconds_to_end game_year game_month\n",
       "2 Mid-Range       8-16 ft.        POR      1.4424614      2000      10        \n",
       "3 Mid-Range       16-24 ft.       POR      0.6887808      2000      10        \n",
       "4 Mid-Range       16-24 ft.       POR      0.4343537      2000      10        \n",
       "5 Restricted Area Less Than 8 ft. POR      0.2759367      2000      10        \n",
       "6 Mid-Range       8-16 ft.        POR      1.2024357      2000      10        \n",
       "7 Restricted Area Less Than 8 ft. POR      1.0104152      2000      10        \n",
       "  away_home\n",
       "2 0        \n",
       "3 0        \n",
       "4 0        \n",
       "5 0        \n",
       "6 0        \n",
       "7 0        "
      ]
     },
     "metadata": {},
     "output_type": "display_data"
    }
   ],
   "source": [
    "#'loc_x', 'loc_y', 'lat', 'lon', 'shot_distance'\n",
    "num_columns <- c('loc_x', 'loc_y', 'lat', 'lon', 'shot_distance', 'seconds_to_end');\n",
    "preprocessParams <- preProcess(data_cl[, (colnames(data_cl) %in% num_columns)], method=c(\"center\", \"scale\"))\n",
    "data_cl <- predict(preprocessParams, data_cl);\n",
    "\n",
    "# Visualize normalized data\n",
    "head(data_cl)"
   ]
  },
  {
   "cell_type": "markdown",
   "metadata": {},
   "source": [
    "## Manipulate Categorical variables"
   ]
  },
  {
   "cell_type": "code",
   "execution_count": 21,
   "metadata": {
    "collapsed": false
   },
   "outputs": [
    {
     "name": "stdout",
     "output_type": "stream",
     "text": [
      "[1] \"Elements on data_cl$period:  1, 2, 3, 4, Others\"\n"
     ]
    },
    {
     "data": {
      "text/html": [
       "<ol class=list-inline>\n",
       "\t<li>No</li>\n",
       "\t<li>Yes</li>\n",
       "\t<li>No</li>\n",
       "\t<li>Yes</li>\n",
       "\t<li>No</li>\n",
       "\t<li>Yes</li>\n",
       "</ol>\n"
      ],
      "text/latex": [
       "\\begin{enumerate*}\n",
       "\\item No\n",
       "\\item Yes\n",
       "\\item No\n",
       "\\item Yes\n",
       "\\item No\n",
       "\\item Yes\n",
       "\\end{enumerate*}\n"
      ],
      "text/markdown": [
       "1. No\n",
       "2. Yes\n",
       "3. No\n",
       "4. Yes\n",
       "5. No\n",
       "6. Yes\n",
       "\n",
       "\n"
      ],
      "text/plain": [
       "[1] No  Yes No  Yes No  Yes\n",
       "Levels: No Yes"
      ]
     },
     "metadata": {},
     "output_type": "display_data"
    }
   ],
   "source": [
    "# Period\n",
    "data_cl$period[data_cl$period > 4] <- 'Others'\n",
    "print(paste(\"Elements on data_cl$period: \", paste(unique(data_cl$period), collapse = ', ')))\n",
    "\n",
    "# shot made flag\n",
    "levels(data_cl$shot_made_flag) <- c(\"No\", \"Yes\");\n",
    "data_cl$shot_made_flag <- factor(data_cl$shot_made_flag);\n",
    "\n",
    "head(data_cl$shot_made_flag)\n"
   ]
  },
  {
   "cell_type": "markdown",
   "metadata": {},
   "source": [
    "## Convert Categorical Variables into Indicator Variables"
   ]
  },
  {
   "cell_type": "code",
   "execution_count": 22,
   "metadata": {
    "collapsed": false
   },
   "outputs": [],
   "source": [
    "#Get the categorical columns\n",
    "\n",
    "cols_to_be_dummy = list(\n",
    "    'action_type', 'combined_shot_type', 'season', 'shot_type',\n",
    "    'shot_zone_area', 'shot_zone_basic', 'shot_zone_range', 'opponent',\n",
    "    'period'\n",
    ")\n",
    "\n",
    "for (col in cols_to_be_dummy) {\n",
    "    dummy_cols = unique(getElement(data_cl, col))\n",
    "    concat_dummy_cols = paste(col ,\"#\", dummy_cols, sep = \"\")\n",
    "    \n",
    "    data_cl[col] <- as.character(getElement(data_cl, col))\n",
    "    \n",
    "    for (i in 1:length(dummy_cols)) {\n",
    "        dummy_col = dummy_cols[i]\n",
    "        concat_dummy_col = concat_dummy_cols[i]\n",
    "        \n",
    "        #Add the column\n",
    "        data_cl[concat_dummy_col] <- 0\n",
    "        \n",
    "        #Fill with 1's\n",
    "        b = getElement(data_cl, concat_dummy_col)\n",
    "        binary = getElement(data_cl, col) == dummy_col\n",
    "        b[binary] <- 1\n",
    "        data_cl[concat_dummy_col] <- b\n",
    "    }\n",
    "}\n",
    "\n",
    "#Remove the categorical columns\n",
    "`%ni%` <- Negate(`%in%`)\n",
    "data_cl <- subset(data_cl, select = names(data_cl) %ni% cols_to_be_dummy)"
   ]
  },
  {
   "cell_type": "code",
   "execution_count": 23,
   "metadata": {
    "collapsed": false
   },
   "outputs": [
    {
     "data": {
      "text/html": [
       "<ol class=list-inline>\n",
       "\t<li>'loc_x'</li>\n",
       "\t<li>'loc_y'</li>\n",
       "\t<li>'playoffs'</li>\n",
       "\t<li>'shot_distance'</li>\n",
       "\t<li>'shot_made_flag'</li>\n",
       "\t<li>'seconds_to_end'</li>\n",
       "\t<li>'game_year'</li>\n",
       "\t<li>'game_month'</li>\n",
       "\t<li>'away_home'</li>\n",
       "\t<li>'action_type#Jump Shot'</li>\n",
       "\t<li>'action_type#Driving Dunk Shot'</li>\n",
       "\t<li>'action_type#Layup Shot'</li>\n",
       "\t<li>'action_type#Running Jump Shot'</li>\n",
       "\t<li>'action_type#Reverse Dunk Shot'</li>\n",
       "\t<li>'action_type#Slam Dunk Shot'</li>\n",
       "\t<li>'action_type#Driving Layup Shot'</li>\n",
       "\t<li>'action_type#Turnaround Jump Shot'</li>\n",
       "\t<li>'action_type#Reverse Layup Shot'</li>\n",
       "\t<li>'action_type#Tip Shot'</li>\n",
       "\t<li>'action_type#Running Hook Shot'</li>\n",
       "\t<li>'action_type#Alley Oop Dunk Shot'</li>\n",
       "\t<li>'action_type#Dunk Shot'</li>\n",
       "\t<li>'action_type#Alley Oop Layup shot'</li>\n",
       "\t<li>'action_type#Running Dunk Shot'</li>\n",
       "\t<li>'action_type#Driving Finger Roll Shot'</li>\n",
       "\t<li>'action_type#Running Layup Shot'</li>\n",
       "\t<li>'action_type#Finger Roll Shot'</li>\n",
       "\t<li>'action_type#Fadeaway Jump Shot'</li>\n",
       "\t<li>'action_type#Follow Up Dunk Shot'</li>\n",
       "\t<li>'action_type#Hook Shot'</li>\n",
       "\t<li>'action_type#Turnaround Hook Shot'</li>\n",
       "\t<li>'action_type#Jump Hook Shot'</li>\n",
       "\t<li>'action_type#Running Finger Roll Shot'</li>\n",
       "\t<li>'action_type#Jump Bank Shot'</li>\n",
       "\t<li>'action_type#Turnaround Finger Roll Shot'</li>\n",
       "\t<li>'action_type#Hook Bank Shot'</li>\n",
       "\t<li>'action_type#Driving Hook Shot'</li>\n",
       "\t<li>'action_type#Running Tip Shot'</li>\n",
       "\t<li>'action_type#Running Reverse Layup Shot'</li>\n",
       "\t<li>'action_type#Driving Finger Roll Layup Shot'</li>\n",
       "\t<li>'action_type#Fadeaway Bank shot'</li>\n",
       "\t<li>'action_type#Pullup Jump shot'</li>\n",
       "\t<li>'action_type#Finger Roll Layup Shot'</li>\n",
       "\t<li>'action_type#Turnaround Fadeaway shot'</li>\n",
       "\t<li>'action_type#Driving Reverse Layup Shot'</li>\n",
       "\t<li>'action_type#Driving Slam Dunk Shot'</li>\n",
       "\t<li>'action_type#Step Back Jump shot'</li>\n",
       "\t<li>'action_type#Turnaround Bank shot'</li>\n",
       "\t<li>'action_type#Reverse Slam Dunk Shot'</li>\n",
       "\t<li>'action_type#Floating Jump shot'</li>\n",
       "\t<li>'action_type#Putback Slam Dunk Shot'</li>\n",
       "\t<li>'action_type#Running Bank shot'</li>\n",
       "\t<li>'action_type#Driving Bank shot'</li>\n",
       "\t<li>'action_type#Driving Jump shot'</li>\n",
       "\t<li>'action_type#Putback Layup Shot'</li>\n",
       "\t<li>'action_type#Putback Dunk Shot'</li>\n",
       "\t<li>'action_type#Running Finger Roll Layup Shot'</li>\n",
       "\t<li>'action_type#Pullup Bank shot'</li>\n",
       "\t<li>'action_type#Running Slam Dunk Shot'</li>\n",
       "\t<li>'action_type#Cutting Layup Shot'</li>\n",
       "\t<li>'action_type#Driving Floating Jump Shot'</li>\n",
       "\t<li>'action_type#Running Pull-Up Jump Shot'</li>\n",
       "\t<li>'action_type#Tip Layup Shot'</li>\n",
       "\t<li>'action_type#Driving Floating Bank Jump Shot'</li>\n",
       "\t<li>'combined_shot_type#Jump Shot'</li>\n",
       "\t<li>'combined_shot_type#Dunk'</li>\n",
       "\t<li>'combined_shot_type#Layup'</li>\n",
       "\t<li>'combined_shot_type#Tip Shot'</li>\n",
       "\t<li>'combined_shot_type#Hook Shot'</li>\n",
       "\t<li>'combined_shot_type#Bank Shot'</li>\n",
       "\t<li>'season#2000-01'</li>\n",
       "\t<li>'season#2001-02'</li>\n",
       "\t<li>'season#2002-03'</li>\n",
       "\t<li>'season#2003-04'</li>\n",
       "\t<li>'season#2004-05'</li>\n",
       "\t<li>'season#2005-06'</li>\n",
       "\t<li>'season#2006-07'</li>\n",
       "\t<li>'season#2007-08'</li>\n",
       "\t<li>'season#2008-09'</li>\n",
       "\t<li>'season#2009-10'</li>\n",
       "\t<li>'season#2010-11'</li>\n",
       "\t<li>'season#2011-12'</li>\n",
       "\t<li>'season#2012-13'</li>\n",
       "\t<li>'season#2013-14'</li>\n",
       "\t<li>'season#2014-15'</li>\n",
       "\t<li>'season#2015-16'</li>\n",
       "\t<li>'season#1996-97'</li>\n",
       "\t<li>'season#1997-98'</li>\n",
       "\t<li>'season#1998-99'</li>\n",
       "\t<li>'season#1999-00'</li>\n",
       "\t<li>'shot_type#2PT Field Goal'</li>\n",
       "\t<li>'shot_type#3PT Field Goal'</li>\n",
       "\t<li>'shot_zone_area#Left Side(L)'</li>\n",
       "\t<li>'shot_zone_area#Left Side Center(LC)'</li>\n",
       "\t<li>'shot_zone_area#Right Side Center(RC)'</li>\n",
       "\t<li>'shot_zone_area#Center(C)'</li>\n",
       "\t<li>'shot_zone_area#Right Side(R)'</li>\n",
       "\t<li>'shot_zone_area#Back Court(BC)'</li>\n",
       "\t<li>'shot_zone_basic#Mid-Range'</li>\n",
       "\t<li>'shot_zone_basic#Restricted Area'</li>\n",
       "\t<li>'shot_zone_basic#In The Paint (Non-RA)'</li>\n",
       "\t<li>'shot_zone_basic#Above the Break 3'</li>\n",
       "\t<li>'shot_zone_basic#Right Corner 3'</li>\n",
       "\t<li>'shot_zone_basic#Backcourt'</li>\n",
       "\t<li>'shot_zone_basic#Left Corner 3'</li>\n",
       "\t<li>'shot_zone_range#8-16 ft.'</li>\n",
       "\t<li>'shot_zone_range#16-24 ft.'</li>\n",
       "\t<li>'shot_zone_range#Less Than 8 ft.'</li>\n",
       "\t<li>'shot_zone_range#24+ ft.'</li>\n",
       "\t<li>'shot_zone_range#Back Court Shot'</li>\n",
       "\t<li>'opponent#POR'</li>\n",
       "\t<li>'opponent#UTA'</li>\n",
       "\t<li>'opponent#VAN'</li>\n",
       "\t<li>'opponent#LAC'</li>\n",
       "\t<li>'opponent#HOU'</li>\n",
       "\t<li>'opponent#SAS'</li>\n",
       "\t<li>'opponent#DEN'</li>\n",
       "\t<li>'opponent#SAC'</li>\n",
       "\t<li>'opponent#CHI'</li>\n",
       "\t<li>'opponent#GSW'</li>\n",
       "\t<li>'opponent#MIN'</li>\n",
       "\t<li>'opponent#IND'</li>\n",
       "\t<li>'opponent#SEA'</li>\n",
       "\t<li>'opponent#DAL'</li>\n",
       "\t<li>'opponent#PHI'</li>\n",
       "\t<li>'opponent#DET'</li>\n",
       "\t<li>'opponent#MIL'</li>\n",
       "\t<li>'opponent#TOR'</li>\n",
       "\t<li>'opponent#MIA'</li>\n",
       "\t<li>'opponent#PHX'</li>\n",
       "\t<li>'opponent#CLE'</li>\n",
       "\t<li>'opponent#NJN'</li>\n",
       "\t<li>'opponent#NYK'</li>\n",
       "\t<li>'opponent#CHA'</li>\n",
       "\t<li>'opponent#WAS'</li>\n",
       "\t<li>'opponent#ORL'</li>\n",
       "\t<li>'opponent#ATL'</li>\n",
       "\t<li>'opponent#MEM'</li>\n",
       "\t<li>'opponent#BOS'</li>\n",
       "\t<li>'opponent#NOH'</li>\n",
       "\t<li>'opponent#NOP'</li>\n",
       "\t<li>'opponent#OKC'</li>\n",
       "\t<li>'opponent#BKN'</li>\n",
       "\t<li>'period#1'</li>\n",
       "\t<li>'period#2'</li>\n",
       "\t<li>'period#3'</li>\n",
       "\t<li>'period#4'</li>\n",
       "\t<li>'period#Others'</li>\n",
       "</ol>\n"
      ],
      "text/latex": [
       "\\begin{enumerate*}\n",
       "\\item 'loc\\_x'\n",
       "\\item 'loc\\_y'\n",
       "\\item 'playoffs'\n",
       "\\item 'shot\\_distance'\n",
       "\\item 'shot\\_made\\_flag'\n",
       "\\item 'seconds\\_to\\_end'\n",
       "\\item 'game\\_year'\n",
       "\\item 'game\\_month'\n",
       "\\item 'away\\_home'\n",
       "\\item 'action\\_type\\#Jump Shot'\n",
       "\\item 'action\\_type\\#Driving Dunk Shot'\n",
       "\\item 'action\\_type\\#Layup Shot'\n",
       "\\item 'action\\_type\\#Running Jump Shot'\n",
       "\\item 'action\\_type\\#Reverse Dunk Shot'\n",
       "\\item 'action\\_type\\#Slam Dunk Shot'\n",
       "\\item 'action\\_type\\#Driving Layup Shot'\n",
       "\\item 'action\\_type\\#Turnaround Jump Shot'\n",
       "\\item 'action\\_type\\#Reverse Layup Shot'\n",
       "\\item 'action\\_type\\#Tip Shot'\n",
       "\\item 'action\\_type\\#Running Hook Shot'\n",
       "\\item 'action\\_type\\#Alley Oop Dunk Shot'\n",
       "\\item 'action\\_type\\#Dunk Shot'\n",
       "\\item 'action\\_type\\#Alley Oop Layup shot'\n",
       "\\item 'action\\_type\\#Running Dunk Shot'\n",
       "\\item 'action\\_type\\#Driving Finger Roll Shot'\n",
       "\\item 'action\\_type\\#Running Layup Shot'\n",
       "\\item 'action\\_type\\#Finger Roll Shot'\n",
       "\\item 'action\\_type\\#Fadeaway Jump Shot'\n",
       "\\item 'action\\_type\\#Follow Up Dunk Shot'\n",
       "\\item 'action\\_type\\#Hook Shot'\n",
       "\\item 'action\\_type\\#Turnaround Hook Shot'\n",
       "\\item 'action\\_type\\#Jump Hook Shot'\n",
       "\\item 'action\\_type\\#Running Finger Roll Shot'\n",
       "\\item 'action\\_type\\#Jump Bank Shot'\n",
       "\\item 'action\\_type\\#Turnaround Finger Roll Shot'\n",
       "\\item 'action\\_type\\#Hook Bank Shot'\n",
       "\\item 'action\\_type\\#Driving Hook Shot'\n",
       "\\item 'action\\_type\\#Running Tip Shot'\n",
       "\\item 'action\\_type\\#Running Reverse Layup Shot'\n",
       "\\item 'action\\_type\\#Driving Finger Roll Layup Shot'\n",
       "\\item 'action\\_type\\#Fadeaway Bank shot'\n",
       "\\item 'action\\_type\\#Pullup Jump shot'\n",
       "\\item 'action\\_type\\#Finger Roll Layup Shot'\n",
       "\\item 'action\\_type\\#Turnaround Fadeaway shot'\n",
       "\\item 'action\\_type\\#Driving Reverse Layup Shot'\n",
       "\\item 'action\\_type\\#Driving Slam Dunk Shot'\n",
       "\\item 'action\\_type\\#Step Back Jump shot'\n",
       "\\item 'action\\_type\\#Turnaround Bank shot'\n",
       "\\item 'action\\_type\\#Reverse Slam Dunk Shot'\n",
       "\\item 'action\\_type\\#Floating Jump shot'\n",
       "\\item 'action\\_type\\#Putback Slam Dunk Shot'\n",
       "\\item 'action\\_type\\#Running Bank shot'\n",
       "\\item 'action\\_type\\#Driving Bank shot'\n",
       "\\item 'action\\_type\\#Driving Jump shot'\n",
       "\\item 'action\\_type\\#Putback Layup Shot'\n",
       "\\item 'action\\_type\\#Putback Dunk Shot'\n",
       "\\item 'action\\_type\\#Running Finger Roll Layup Shot'\n",
       "\\item 'action\\_type\\#Pullup Bank shot'\n",
       "\\item 'action\\_type\\#Running Slam Dunk Shot'\n",
       "\\item 'action\\_type\\#Cutting Layup Shot'\n",
       "\\item 'action\\_type\\#Driving Floating Jump Shot'\n",
       "\\item 'action\\_type\\#Running Pull-Up Jump Shot'\n",
       "\\item 'action\\_type\\#Tip Layup Shot'\n",
       "\\item 'action\\_type\\#Driving Floating Bank Jump Shot'\n",
       "\\item 'combined\\_shot\\_type\\#Jump Shot'\n",
       "\\item 'combined\\_shot\\_type\\#Dunk'\n",
       "\\item 'combined\\_shot\\_type\\#Layup'\n",
       "\\item 'combined\\_shot\\_type\\#Tip Shot'\n",
       "\\item 'combined\\_shot\\_type\\#Hook Shot'\n",
       "\\item 'combined\\_shot\\_type\\#Bank Shot'\n",
       "\\item 'season\\#2000-01'\n",
       "\\item 'season\\#2001-02'\n",
       "\\item 'season\\#2002-03'\n",
       "\\item 'season\\#2003-04'\n",
       "\\item 'season\\#2004-05'\n",
       "\\item 'season\\#2005-06'\n",
       "\\item 'season\\#2006-07'\n",
       "\\item 'season\\#2007-08'\n",
       "\\item 'season\\#2008-09'\n",
       "\\item 'season\\#2009-10'\n",
       "\\item 'season\\#2010-11'\n",
       "\\item 'season\\#2011-12'\n",
       "\\item 'season\\#2012-13'\n",
       "\\item 'season\\#2013-14'\n",
       "\\item 'season\\#2014-15'\n",
       "\\item 'season\\#2015-16'\n",
       "\\item 'season\\#1996-97'\n",
       "\\item 'season\\#1997-98'\n",
       "\\item 'season\\#1998-99'\n",
       "\\item 'season\\#1999-00'\n",
       "\\item 'shot\\_type\\#2PT Field Goal'\n",
       "\\item 'shot\\_type\\#3PT Field Goal'\n",
       "\\item 'shot\\_zone\\_area\\#Left Side(L)'\n",
       "\\item 'shot\\_zone\\_area\\#Left Side Center(LC)'\n",
       "\\item 'shot\\_zone\\_area\\#Right Side Center(RC)'\n",
       "\\item 'shot\\_zone\\_area\\#Center(C)'\n",
       "\\item 'shot\\_zone\\_area\\#Right Side(R)'\n",
       "\\item 'shot\\_zone\\_area\\#Back Court(BC)'\n",
       "\\item 'shot\\_zone\\_basic\\#Mid-Range'\n",
       "\\item 'shot\\_zone\\_basic\\#Restricted Area'\n",
       "\\item 'shot\\_zone\\_basic\\#In The Paint (Non-RA)'\n",
       "\\item 'shot\\_zone\\_basic\\#Above the Break 3'\n",
       "\\item 'shot\\_zone\\_basic\\#Right Corner 3'\n",
       "\\item 'shot\\_zone\\_basic\\#Backcourt'\n",
       "\\item 'shot\\_zone\\_basic\\#Left Corner 3'\n",
       "\\item 'shot\\_zone\\_range\\#8-16 ft.'\n",
       "\\item 'shot\\_zone\\_range\\#16-24 ft.'\n",
       "\\item 'shot\\_zone\\_range\\#Less Than 8 ft.'\n",
       "\\item 'shot\\_zone\\_range\\#24+ ft.'\n",
       "\\item 'shot\\_zone\\_range\\#Back Court Shot'\n",
       "\\item 'opponent\\#POR'\n",
       "\\item 'opponent\\#UTA'\n",
       "\\item 'opponent\\#VAN'\n",
       "\\item 'opponent\\#LAC'\n",
       "\\item 'opponent\\#HOU'\n",
       "\\item 'opponent\\#SAS'\n",
       "\\item 'opponent\\#DEN'\n",
       "\\item 'opponent\\#SAC'\n",
       "\\item 'opponent\\#CHI'\n",
       "\\item 'opponent\\#GSW'\n",
       "\\item 'opponent\\#MIN'\n",
       "\\item 'opponent\\#IND'\n",
       "\\item 'opponent\\#SEA'\n",
       "\\item 'opponent\\#DAL'\n",
       "\\item 'opponent\\#PHI'\n",
       "\\item 'opponent\\#DET'\n",
       "\\item 'opponent\\#MIL'\n",
       "\\item 'opponent\\#TOR'\n",
       "\\item 'opponent\\#MIA'\n",
       "\\item 'opponent\\#PHX'\n",
       "\\item 'opponent\\#CLE'\n",
       "\\item 'opponent\\#NJN'\n",
       "\\item 'opponent\\#NYK'\n",
       "\\item 'opponent\\#CHA'\n",
       "\\item 'opponent\\#WAS'\n",
       "\\item 'opponent\\#ORL'\n",
       "\\item 'opponent\\#ATL'\n",
       "\\item 'opponent\\#MEM'\n",
       "\\item 'opponent\\#BOS'\n",
       "\\item 'opponent\\#NOH'\n",
       "\\item 'opponent\\#NOP'\n",
       "\\item 'opponent\\#OKC'\n",
       "\\item 'opponent\\#BKN'\n",
       "\\item 'period\\#1'\n",
       "\\item 'period\\#2'\n",
       "\\item 'period\\#3'\n",
       "\\item 'period\\#4'\n",
       "\\item 'period\\#Others'\n",
       "\\end{enumerate*}\n"
      ],
      "text/markdown": [
       "1. 'loc_x'\n",
       "2. 'loc_y'\n",
       "3. 'playoffs'\n",
       "4. 'shot_distance'\n",
       "5. 'shot_made_flag'\n",
       "6. 'seconds_to_end'\n",
       "7. 'game_year'\n",
       "8. 'game_month'\n",
       "9. 'away_home'\n",
       "10. 'action_type#Jump Shot'\n",
       "11. 'action_type#Driving Dunk Shot'\n",
       "12. 'action_type#Layup Shot'\n",
       "13. 'action_type#Running Jump Shot'\n",
       "14. 'action_type#Reverse Dunk Shot'\n",
       "15. 'action_type#Slam Dunk Shot'\n",
       "16. 'action_type#Driving Layup Shot'\n",
       "17. 'action_type#Turnaround Jump Shot'\n",
       "18. 'action_type#Reverse Layup Shot'\n",
       "19. 'action_type#Tip Shot'\n",
       "20. 'action_type#Running Hook Shot'\n",
       "21. 'action_type#Alley Oop Dunk Shot'\n",
       "22. 'action_type#Dunk Shot'\n",
       "23. 'action_type#Alley Oop Layup shot'\n",
       "24. 'action_type#Running Dunk Shot'\n",
       "25. 'action_type#Driving Finger Roll Shot'\n",
       "26. 'action_type#Running Layup Shot'\n",
       "27. 'action_type#Finger Roll Shot'\n",
       "28. 'action_type#Fadeaway Jump Shot'\n",
       "29. 'action_type#Follow Up Dunk Shot'\n",
       "30. 'action_type#Hook Shot'\n",
       "31. 'action_type#Turnaround Hook Shot'\n",
       "32. 'action_type#Jump Hook Shot'\n",
       "33. 'action_type#Running Finger Roll Shot'\n",
       "34. 'action_type#Jump Bank Shot'\n",
       "35. 'action_type#Turnaround Finger Roll Shot'\n",
       "36. 'action_type#Hook Bank Shot'\n",
       "37. 'action_type#Driving Hook Shot'\n",
       "38. 'action_type#Running Tip Shot'\n",
       "39. 'action_type#Running Reverse Layup Shot'\n",
       "40. 'action_type#Driving Finger Roll Layup Shot'\n",
       "41. 'action_type#Fadeaway Bank shot'\n",
       "42. 'action_type#Pullup Jump shot'\n",
       "43. 'action_type#Finger Roll Layup Shot'\n",
       "44. 'action_type#Turnaround Fadeaway shot'\n",
       "45. 'action_type#Driving Reverse Layup Shot'\n",
       "46. 'action_type#Driving Slam Dunk Shot'\n",
       "47. 'action_type#Step Back Jump shot'\n",
       "48. 'action_type#Turnaround Bank shot'\n",
       "49. 'action_type#Reverse Slam Dunk Shot'\n",
       "50. 'action_type#Floating Jump shot'\n",
       "51. 'action_type#Putback Slam Dunk Shot'\n",
       "52. 'action_type#Running Bank shot'\n",
       "53. 'action_type#Driving Bank shot'\n",
       "54. 'action_type#Driving Jump shot'\n",
       "55. 'action_type#Putback Layup Shot'\n",
       "56. 'action_type#Putback Dunk Shot'\n",
       "57. 'action_type#Running Finger Roll Layup Shot'\n",
       "58. 'action_type#Pullup Bank shot'\n",
       "59. 'action_type#Running Slam Dunk Shot'\n",
       "60. 'action_type#Cutting Layup Shot'\n",
       "61. 'action_type#Driving Floating Jump Shot'\n",
       "62. 'action_type#Running Pull-Up Jump Shot'\n",
       "63. 'action_type#Tip Layup Shot'\n",
       "64. 'action_type#Driving Floating Bank Jump Shot'\n",
       "65. 'combined_shot_type#Jump Shot'\n",
       "66. 'combined_shot_type#Dunk'\n",
       "67. 'combined_shot_type#Layup'\n",
       "68. 'combined_shot_type#Tip Shot'\n",
       "69. 'combined_shot_type#Hook Shot'\n",
       "70. 'combined_shot_type#Bank Shot'\n",
       "71. 'season#2000-01'\n",
       "72. 'season#2001-02'\n",
       "73. 'season#2002-03'\n",
       "74. 'season#2003-04'\n",
       "75. 'season#2004-05'\n",
       "76. 'season#2005-06'\n",
       "77. 'season#2006-07'\n",
       "78. 'season#2007-08'\n",
       "79. 'season#2008-09'\n",
       "80. 'season#2009-10'\n",
       "81. 'season#2010-11'\n",
       "82. 'season#2011-12'\n",
       "83. 'season#2012-13'\n",
       "84. 'season#2013-14'\n",
       "85. 'season#2014-15'\n",
       "86. 'season#2015-16'\n",
       "87. 'season#1996-97'\n",
       "88. 'season#1997-98'\n",
       "89. 'season#1998-99'\n",
       "90. 'season#1999-00'\n",
       "91. 'shot_type#2PT Field Goal'\n",
       "92. 'shot_type#3PT Field Goal'\n",
       "93. 'shot_zone_area#Left Side(L)'\n",
       "94. 'shot_zone_area#Left Side Center(LC)'\n",
       "95. 'shot_zone_area#Right Side Center(RC)'\n",
       "96. 'shot_zone_area#Center(C)'\n",
       "97. 'shot_zone_area#Right Side(R)'\n",
       "98. 'shot_zone_area#Back Court(BC)'\n",
       "99. 'shot_zone_basic#Mid-Range'\n",
       "100. 'shot_zone_basic#Restricted Area'\n",
       "101. 'shot_zone_basic#In The Paint (Non-RA)'\n",
       "102. 'shot_zone_basic#Above the Break 3'\n",
       "103. 'shot_zone_basic#Right Corner 3'\n",
       "104. 'shot_zone_basic#Backcourt'\n",
       "105. 'shot_zone_basic#Left Corner 3'\n",
       "106. 'shot_zone_range#8-16 ft.'\n",
       "107. 'shot_zone_range#16-24 ft.'\n",
       "108. 'shot_zone_range#Less Than 8 ft.'\n",
       "109. 'shot_zone_range#24+ ft.'\n",
       "110. 'shot_zone_range#Back Court Shot'\n",
       "111. 'opponent#POR'\n",
       "112. 'opponent#UTA'\n",
       "113. 'opponent#VAN'\n",
       "114. 'opponent#LAC'\n",
       "115. 'opponent#HOU'\n",
       "116. 'opponent#SAS'\n",
       "117. 'opponent#DEN'\n",
       "118. 'opponent#SAC'\n",
       "119. 'opponent#CHI'\n",
       "120. 'opponent#GSW'\n",
       "121. 'opponent#MIN'\n",
       "122. 'opponent#IND'\n",
       "123. 'opponent#SEA'\n",
       "124. 'opponent#DAL'\n",
       "125. 'opponent#PHI'\n",
       "126. 'opponent#DET'\n",
       "127. 'opponent#MIL'\n",
       "128. 'opponent#TOR'\n",
       "129. 'opponent#MIA'\n",
       "130. 'opponent#PHX'\n",
       "131. 'opponent#CLE'\n",
       "132. 'opponent#NJN'\n",
       "133. 'opponent#NYK'\n",
       "134. 'opponent#CHA'\n",
       "135. 'opponent#WAS'\n",
       "136. 'opponent#ORL'\n",
       "137. 'opponent#ATL'\n",
       "138. 'opponent#MEM'\n",
       "139. 'opponent#BOS'\n",
       "140. 'opponent#NOH'\n",
       "141. 'opponent#NOP'\n",
       "142. 'opponent#OKC'\n",
       "143. 'opponent#BKN'\n",
       "144. 'period#1'\n",
       "145. 'period#2'\n",
       "146. 'period#3'\n",
       "147. 'period#4'\n",
       "148. 'period#Others'\n",
       "\n",
       "\n"
      ],
      "text/plain": [
       "  [1] \"loc_x\"                                      \n",
       "  [2] \"loc_y\"                                      \n",
       "  [3] \"playoffs\"                                   \n",
       "  [4] \"shot_distance\"                              \n",
       "  [5] \"shot_made_flag\"                             \n",
       "  [6] \"seconds_to_end\"                             \n",
       "  [7] \"game_year\"                                  \n",
       "  [8] \"game_month\"                                 \n",
       "  [9] \"away_home\"                                  \n",
       " [10] \"action_type#Jump Shot\"                      \n",
       " [11] \"action_type#Driving Dunk Shot\"              \n",
       " [12] \"action_type#Layup Shot\"                     \n",
       " [13] \"action_type#Running Jump Shot\"              \n",
       " [14] \"action_type#Reverse Dunk Shot\"              \n",
       " [15] \"action_type#Slam Dunk Shot\"                 \n",
       " [16] \"action_type#Driving Layup Shot\"             \n",
       " [17] \"action_type#Turnaround Jump Shot\"           \n",
       " [18] \"action_type#Reverse Layup Shot\"             \n",
       " [19] \"action_type#Tip Shot\"                       \n",
       " [20] \"action_type#Running Hook Shot\"              \n",
       " [21] \"action_type#Alley Oop Dunk Shot\"            \n",
       " [22] \"action_type#Dunk Shot\"                      \n",
       " [23] \"action_type#Alley Oop Layup shot\"           \n",
       " [24] \"action_type#Running Dunk Shot\"              \n",
       " [25] \"action_type#Driving Finger Roll Shot\"       \n",
       " [26] \"action_type#Running Layup Shot\"             \n",
       " [27] \"action_type#Finger Roll Shot\"               \n",
       " [28] \"action_type#Fadeaway Jump Shot\"             \n",
       " [29] \"action_type#Follow Up Dunk Shot\"            \n",
       " [30] \"action_type#Hook Shot\"                      \n",
       " [31] \"action_type#Turnaround Hook Shot\"           \n",
       " [32] \"action_type#Jump Hook Shot\"                 \n",
       " [33] \"action_type#Running Finger Roll Shot\"       \n",
       " [34] \"action_type#Jump Bank Shot\"                 \n",
       " [35] \"action_type#Turnaround Finger Roll Shot\"    \n",
       " [36] \"action_type#Hook Bank Shot\"                 \n",
       " [37] \"action_type#Driving Hook Shot\"              \n",
       " [38] \"action_type#Running Tip Shot\"               \n",
       " [39] \"action_type#Running Reverse Layup Shot\"     \n",
       " [40] \"action_type#Driving Finger Roll Layup Shot\" \n",
       " [41] \"action_type#Fadeaway Bank shot\"             \n",
       " [42] \"action_type#Pullup Jump shot\"               \n",
       " [43] \"action_type#Finger Roll Layup Shot\"         \n",
       " [44] \"action_type#Turnaround Fadeaway shot\"       \n",
       " [45] \"action_type#Driving Reverse Layup Shot\"     \n",
       " [46] \"action_type#Driving Slam Dunk Shot\"         \n",
       " [47] \"action_type#Step Back Jump shot\"            \n",
       " [48] \"action_type#Turnaround Bank shot\"           \n",
       " [49] \"action_type#Reverse Slam Dunk Shot\"         \n",
       " [50] \"action_type#Floating Jump shot\"             \n",
       " [51] \"action_type#Putback Slam Dunk Shot\"         \n",
       " [52] \"action_type#Running Bank shot\"              \n",
       " [53] \"action_type#Driving Bank shot\"              \n",
       " [54] \"action_type#Driving Jump shot\"              \n",
       " [55] \"action_type#Putback Layup Shot\"             \n",
       " [56] \"action_type#Putback Dunk Shot\"              \n",
       " [57] \"action_type#Running Finger Roll Layup Shot\" \n",
       " [58] \"action_type#Pullup Bank shot\"               \n",
       " [59] \"action_type#Running Slam Dunk Shot\"         \n",
       " [60] \"action_type#Cutting Layup Shot\"             \n",
       " [61] \"action_type#Driving Floating Jump Shot\"     \n",
       " [62] \"action_type#Running Pull-Up Jump Shot\"      \n",
       " [63] \"action_type#Tip Layup Shot\"                 \n",
       " [64] \"action_type#Driving Floating Bank Jump Shot\"\n",
       " [65] \"combined_shot_type#Jump Shot\"               \n",
       " [66] \"combined_shot_type#Dunk\"                    \n",
       " [67] \"combined_shot_type#Layup\"                   \n",
       " [68] \"combined_shot_type#Tip Shot\"                \n",
       " [69] \"combined_shot_type#Hook Shot\"               \n",
       " [70] \"combined_shot_type#Bank Shot\"               \n",
       " [71] \"season#2000-01\"                             \n",
       " [72] \"season#2001-02\"                             \n",
       " [73] \"season#2002-03\"                             \n",
       " [74] \"season#2003-04\"                             \n",
       " [75] \"season#2004-05\"                             \n",
       " [76] \"season#2005-06\"                             \n",
       " [77] \"season#2006-07\"                             \n",
       " [78] \"season#2007-08\"                             \n",
       " [79] \"season#2008-09\"                             \n",
       " [80] \"season#2009-10\"                             \n",
       " [81] \"season#2010-11\"                             \n",
       " [82] \"season#2011-12\"                             \n",
       " [83] \"season#2012-13\"                             \n",
       " [84] \"season#2013-14\"                             \n",
       " [85] \"season#2014-15\"                             \n",
       " [86] \"season#2015-16\"                             \n",
       " [87] \"season#1996-97\"                             \n",
       " [88] \"season#1997-98\"                             \n",
       " [89] \"season#1998-99\"                             \n",
       " [90] \"season#1999-00\"                             \n",
       " [91] \"shot_type#2PT Field Goal\"                   \n",
       " [92] \"shot_type#3PT Field Goal\"                   \n",
       " [93] \"shot_zone_area#Left Side(L)\"                \n",
       " [94] \"shot_zone_area#Left Side Center(LC)\"        \n",
       " [95] \"shot_zone_area#Right Side Center(RC)\"       \n",
       " [96] \"shot_zone_area#Center(C)\"                   \n",
       " [97] \"shot_zone_area#Right Side(R)\"               \n",
       " [98] \"shot_zone_area#Back Court(BC)\"              \n",
       " [99] \"shot_zone_basic#Mid-Range\"                  \n",
       "[100] \"shot_zone_basic#Restricted Area\"            \n",
       "[101] \"shot_zone_basic#In The Paint (Non-RA)\"      \n",
       "[102] \"shot_zone_basic#Above the Break 3\"          \n",
       "[103] \"shot_zone_basic#Right Corner 3\"             \n",
       "[104] \"shot_zone_basic#Backcourt\"                  \n",
       "[105] \"shot_zone_basic#Left Corner 3\"              \n",
       "[106] \"shot_zone_range#8-16 ft.\"                   \n",
       "[107] \"shot_zone_range#16-24 ft.\"                  \n",
       "[108] \"shot_zone_range#Less Than 8 ft.\"            \n",
       "[109] \"shot_zone_range#24+ ft.\"                    \n",
       "[110] \"shot_zone_range#Back Court Shot\"            \n",
       "[111] \"opponent#POR\"                               \n",
       "[112] \"opponent#UTA\"                               \n",
       "[113] \"opponent#VAN\"                               \n",
       "[114] \"opponent#LAC\"                               \n",
       "[115] \"opponent#HOU\"                               \n",
       "[116] \"opponent#SAS\"                               \n",
       "[117] \"opponent#DEN\"                               \n",
       "[118] \"opponent#SAC\"                               \n",
       "[119] \"opponent#CHI\"                               \n",
       "[120] \"opponent#GSW\"                               \n",
       "[121] \"opponent#MIN\"                               \n",
       "[122] \"opponent#IND\"                               \n",
       "[123] \"opponent#SEA\"                               \n",
       "[124] \"opponent#DAL\"                               \n",
       "[125] \"opponent#PHI\"                               \n",
       "[126] \"opponent#DET\"                               \n",
       "[127] \"opponent#MIL\"                               \n",
       "[128] \"opponent#TOR\"                               \n",
       "[129] \"opponent#MIA\"                               \n",
       "[130] \"opponent#PHX\"                               \n",
       "[131] \"opponent#CLE\"                               \n",
       "[132] \"opponent#NJN\"                               \n",
       "[133] \"opponent#NYK\"                               \n",
       "[134] \"opponent#CHA\"                               \n",
       "[135] \"opponent#WAS\"                               \n",
       "[136] \"opponent#ORL\"                               \n",
       "[137] \"opponent#ATL\"                               \n",
       "[138] \"opponent#MEM\"                               \n",
       "[139] \"opponent#BOS\"                               \n",
       "[140] \"opponent#NOH\"                               \n",
       "[141] \"opponent#NOP\"                               \n",
       "[142] \"opponent#OKC\"                               \n",
       "[143] \"opponent#BKN\"                               \n",
       "[144] \"period#1\"                                   \n",
       "[145] \"period#2\"                                   \n",
       "[146] \"period#3\"                                   \n",
       "[147] \"period#4\"                                   \n",
       "[148] \"period#Others\"                              "
      ]
     },
     "metadata": {},
     "output_type": "display_data"
    },
    {
     "data": {
      "text/html": [
       "<span style=white-space:pre-wrap>'Number of columns =  148'</span>"
      ],
      "text/latex": [
       "'Number of columns =  148'"
      ],
      "text/markdown": [
       "<span style=white-space:pre-wrap>'Number of columns =  148'</span>"
      ],
      "text/plain": [
       "[1] \"Number of columns =  148\""
      ]
     },
     "metadata": {},
     "output_type": "display_data"
    },
    {
     "data": {
      "text/html": [
       "<table>\n",
       "<thead><tr><th></th><th scope=col>loc_x</th><th scope=col>loc_y</th><th scope=col>playoffs</th><th scope=col>shot_distance</th><th scope=col>shot_made_flag</th><th scope=col>seconds_to_end</th><th scope=col>game_year</th><th scope=col>game_month</th><th scope=col>away_home</th><th scope=col>action_type#Jump Shot</th><th scope=col>...</th><th scope=col>opponent#BOS</th><th scope=col>opponent#NOH</th><th scope=col>opponent#NOP</th><th scope=col>opponent#OKC</th><th scope=col>opponent#BKN</th><th scope=col>period#1</th><th scope=col>period#2</th><th scope=col>period#3</th><th scope=col>period#4</th><th scope=col>period#Others</th></tr></thead>\n",
       "<tbody>\n",
       "\t<tr><th scope=row>2</th><td>-1.49126674</td><td>-1.0352259 </td><td>0          </td><td> 0.16433583</td><td>No         </td><td>1.4424614  </td><td>2000       </td><td>10         </td><td>0          </td><td>1          </td><td>...        </td><td>0          </td><td>0          </td><td>0          </td><td>0          </td><td>0          </td><td>1          </td><td>0          </td><td>0          </td><td>0          </td><td>0          </td></tr>\n",
       "\t<tr><th scope=row>3</th><td>-0.98251413</td><td> 0.4962179 </td><td>0          </td><td> 0.27084656</td><td>Yes        </td><td>0.6887808  </td><td>2000       </td><td>10         </td><td>0          </td><td>1          </td><td>...        </td><td>0          </td><td>0          </td><td>0          </td><td>0          </td><td>0          </td><td>1          </td><td>0          </td><td>0          </td><td>0          </td><td>0          </td></tr>\n",
       "\t<tr><th scope=row>4</th><td> 1.18876931</td><td> 0.9499791 </td><td>0          </td><td> 0.90991099</td><td>No         </td><td>0.4343537  </td><td>2000       </td><td>10         </td><td>0          </td><td>1          </td><td>...        </td><td>0          </td><td>0          </td><td>0          </td><td>0          </td><td>0          </td><td>1          </td><td>0          </td><td>0          </td><td>0          </td><td>0          </td></tr>\n",
       "\t<tr><th scope=row>5</th><td>-0.06494247</td><td>-1.0352259 </td><td>0          </td><td>-1.43332523</td><td>Yes        </td><td>0.2759367  </td><td>2000       </td><td>10         </td><td>0          </td><td>0          </td><td>...        </td><td>0          </td><td>0          </td><td>0          </td><td>0          </td><td>0          </td><td>0          </td><td>1          </td><td>0          </td><td>0          </td><td>0          </td></tr>\n",
       "\t<tr><th scope=row>6</th><td>-1.38224832</td><td>-1.1600102 </td><td>0          </td><td> 0.05782509</td><td>No         </td><td>1.2024357  </td><td>2000       </td><td>10         </td><td>0          </td><td>1          </td><td>...        </td><td>0          </td><td>0          </td><td>0          </td><td>0          </td><td>0          </td><td>0          </td><td>0          </td><td>1          </td><td>0          </td><td>0          </td></tr>\n",
       "\t<tr><th scope=row>7</th><td>-0.06494247</td><td>-1.0352259 </td><td>0          </td><td>-1.43332523</td><td>Yes        </td><td>1.0104152  </td><td>2000       </td><td>10         </td><td>0          </td><td>0          </td><td>...        </td><td>0          </td><td>0          </td><td>0          </td><td>0          </td><td>0          </td><td>0          </td><td>0          </td><td>1          </td><td>0          </td><td>0          </td></tr>\n",
       "</tbody>\n",
       "</table>\n"
      ],
      "text/latex": [
       "\\begin{tabular}{r|llllllllllllllllllllllllllllllllllllllllllllllllllllllllllllllllllllllllllllllllllllllllllllllllllllllllllllllllllllllllllllllllllllllllllllllllllll}\n",
       "  & loc\\_x & loc\\_y & playoffs & shot\\_distance & shot\\_made\\_flag & seconds\\_to\\_end & game\\_year & game\\_month & away\\_home & action\\_type\\#Jump Shot & ... & opponent\\#BOS & opponent\\#NOH & opponent\\#NOP & opponent\\#OKC & opponent\\#BKN & period\\#1 & period\\#2 & period\\#3 & period\\#4 & period\\#Others\\\\\n",
       "\\hline\n",
       "\t2 & -1.49126674 & -1.0352259  & 0           &  0.16433583 & No          & 1.4424614   & 2000        & 10          & 0           & 1           & ...         & 0           & 0           & 0           & 0           & 0           & 1           & 0           & 0           & 0           & 0          \\\\\n",
       "\t3 & -0.98251413 &  0.4962179  & 0           &  0.27084656 & Yes         & 0.6887808   & 2000        & 10          & 0           & 1           & ...         & 0           & 0           & 0           & 0           & 0           & 1           & 0           & 0           & 0           & 0          \\\\\n",
       "\t4 &  1.18876931 &  0.9499791  & 0           &  0.90991099 & No          & 0.4343537   & 2000        & 10          & 0           & 1           & ...         & 0           & 0           & 0           & 0           & 0           & 1           & 0           & 0           & 0           & 0          \\\\\n",
       "\t5 & -0.06494247 & -1.0352259  & 0           & -1.43332523 & Yes         & 0.2759367   & 2000        & 10          & 0           & 0           & ...         & 0           & 0           & 0           & 0           & 0           & 0           & 1           & 0           & 0           & 0          \\\\\n",
       "\t6 & -1.38224832 & -1.1600102  & 0           &  0.05782509 & No          & 1.2024357   & 2000        & 10          & 0           & 1           & ...         & 0           & 0           & 0           & 0           & 0           & 0           & 0           & 1           & 0           & 0          \\\\\n",
       "\t7 & -0.06494247 & -1.0352259  & 0           & -1.43332523 & Yes         & 1.0104152   & 2000        & 10          & 0           & 0           & ...         & 0           & 0           & 0           & 0           & 0           & 0           & 0           & 1           & 0           & 0          \\\\\n",
       "\\end{tabular}\n"
      ],
      "text/plain": [
       "  loc_x       loc_y      playoffs shot_distance shot_made_flag seconds_to_end\n",
       "2 -1.49126674 -1.0352259 0         0.16433583   No             1.4424614     \n",
       "3 -0.98251413  0.4962179 0         0.27084656   Yes            0.6887808     \n",
       "4  1.18876931  0.9499791 0         0.90991099   No             0.4343537     \n",
       "5 -0.06494247 -1.0352259 0        -1.43332523   Yes            0.2759367     \n",
       "6 -1.38224832 -1.1600102 0         0.05782509   No             1.2024357     \n",
       "7 -0.06494247 -1.0352259 0        -1.43332523   Yes            1.0104152     \n",
       "  game_year game_month away_home action_type#Jump Shot ... opponent#BOS\n",
       "2 2000      10         0         1                     ... 0           \n",
       "3 2000      10         0         1                     ... 0           \n",
       "4 2000      10         0         1                     ... 0           \n",
       "5 2000      10         0         0                     ... 0           \n",
       "6 2000      10         0         1                     ... 0           \n",
       "7 2000      10         0         0                     ... 0           \n",
       "  opponent#NOH opponent#NOP opponent#OKC opponent#BKN period#1 period#2\n",
       "2 0            0            0            0            1        0       \n",
       "3 0            0            0            0            1        0       \n",
       "4 0            0            0            0            1        0       \n",
       "5 0            0            0            0            0        1       \n",
       "6 0            0            0            0            0        0       \n",
       "7 0            0            0            0            0        0       \n",
       "  period#3 period#4 period#Others\n",
       "2 0        0        0            \n",
       "3 0        0        0            \n",
       "4 0        0        0            \n",
       "5 0        0        0            \n",
       "6 1        0        0            \n",
       "7 1        0        0            "
      ]
     },
     "metadata": {},
     "output_type": "display_data"
    }
   ],
   "source": [
    "#Check the data_cl\n",
    "colnames(data_cl)\n",
    "paste(\"Number of columns = \", ncol(data_cl))\n",
    "head(data_cl)"
   ]
  },
  {
   "cell_type": "markdown",
   "metadata": {},
   "source": [
    "## Clean Data Visualization"
   ]
  },
  {
   "cell_type": "markdown",
   "metadata": {},
   "source": [
    "### Spatial variables "
   ]
  },
  {
   "cell_type": "code",
   "execution_count": 24,
   "metadata": {
    "collapsed": false
   },
   "outputs": [
    {
     "data": {},
     "metadata": {},
     "output_type": "display_data"
    },
    {
     "data": {
      "image/png": "[encoded data removed]",
      "text/plain": [
       "plot without title"
      ]
     },
     "metadata": {},
     "output_type": "display_data"
    }
   ],
   "source": [
    "# Scatter matrix of 'loc_x', 'loc_y', 'lat', 'lon', 'shot_distance'\n",
    "options(repr.plot.width=8, repr.plot.height=8)\n",
    "pm <- ggpairs(data_cl, mapping = aes(color = shot_made_flag), columns = c(\"loc_x\", \"loc_y\", \"shot_distance\", \"seconds_to_end\"))\n",
    "pm"
   ]
  },
  {
   "cell_type": "markdown",
   "metadata": {},
   "source": [
    "### Histograms"
   ]
  },
  {
   "cell_type": "code",
   "execution_count": 25,
   "metadata": {
    "collapsed": false
   },
   "outputs": [
    {
     "data": {
      "image/png": "[encoded data removed]",
      "text/plain": [
       "Plot with title \"Histogram of data_cl$seconds_to_end\""
      ]
     },
     "metadata": {},
     "output_type": "display_data"
    }
   ],
   "source": [
    "options(repr.plot.width=5, repr.plot.height=3)\n",
    "hist(data_cl$seconds_to_end, col=blues9)"
   ]
  },
  {
   "cell_type": "markdown",
   "metadata": {
    "collapsed": true
   },
   "source": [
    "## Models"
   ]
  },
  {
   "cell_type": "markdown",
   "metadata": {},
   "source": [
    "### Pre-processing"
   ]
  },
  {
   "cell_type": "code",
   "execution_count": 26,
   "metadata": {
    "collapsed": false
   },
   "outputs": [],
   "source": [
    "set.seed(300)\n",
    "\n",
    "# Spliting data as training and test set. Using createDataPartition() function from caret\n",
    "idxTrain <- createDataPartition(y = data_cl$shot_made_flag, p = 0.8, list = FALSE)\n",
    "training <- data_cl[idxTrain,]\n",
    "testing <- data_cl[-idxTrain,]"
   ]
  },
  {
   "cell_type": "markdown",
   "metadata": {},
   "source": [
    "#### Checking distibution in origanl data and partitioned data"
   ]
  },
  {
   "cell_type": "code",
   "execution_count": 27,
   "metadata": {
    "collapsed": false
   },
   "outputs": [
    {
     "data": {
      "text/plain": [
       "\n",
       "     No     Yes \n",
       "55.3839 44.6161 "
      ]
     },
     "metadata": {},
     "output_type": "display_data"
    }
   ],
   "source": [
    "# Orignal\n",
    "prop.table(table(data_cl$shot_made_flag)) * 100"
   ]
  },
  {
   "cell_type": "code",
   "execution_count": 28,
   "metadata": {
    "collapsed": false
   },
   "outputs": [
    {
     "data": {
      "text/plain": [
       "\n",
       "      No      Yes \n",
       "55.38477 44.61523 "
      ]
     },
     "metadata": {},
     "output_type": "display_data"
    }
   ],
   "source": [
    "# Training\n",
    "prop.table(table(training$shot_made_flag)) * 100"
   ]
  },
  {
   "cell_type": "code",
   "execution_count": 29,
   "metadata": {
    "collapsed": false
   },
   "outputs": [
    {
     "data": {
      "text/plain": [
       "\n",
       "      No      Yes \n",
       "55.38042 44.61958 "
      ]
     },
     "metadata": {},
     "output_type": "display_data"
    }
   ],
   "source": [
    "# Testing\n",
    "prop.table(table(testing$shot_made_flag)) * 100"
   ]
  },
  {
   "cell_type": "markdown",
   "metadata": {},
   "source": [
    "#### Train control"
   ]
  },
  {
   "cell_type": "code",
   "execution_count": 30,
   "metadata": {
    "collapsed": true
   },
   "outputs": [],
   "source": [
    "set.seed(400)\n",
    "ctrl <- trainControl(method=\"repeatedcv\", number = 10, repeats = 1, verboseIter = TRUE)"
   ]
  },
  {
   "cell_type": "markdown",
   "metadata": {},
   "source": [
    "### KNN"
   ]
  },
  {
   "cell_type": "code",
   "execution_count": 32,
   "metadata": {
    "collapsed": false
   },
   "outputs": [
    {
     "name": "stdout",
     "output_type": "stream",
     "text": [
      "+ Fold01.Rep1: k= 5 \n",
      "- Fold01.Rep1: k= 5 \n",
      "+ Fold01.Rep1: k= 7 \n",
      "- Fold01.Rep1: k= 7 \n",
      "+ Fold01.Rep1: k= 9 \n",
      "- Fold01.Rep1: k= 9 \n",
      "+ Fold01.Rep1: k=11 \n",
      "- Fold01.Rep1: k=11 \n",
      "+ Fold01.Rep1: k=13 \n",
      "- Fold01.Rep1: k=13 \n",
      "+ Fold02.Rep1: k= 5 \n",
      "- Fold02.Rep1: k= 5 \n",
      "+ Fold02.Rep1: k= 7 \n",
      "- Fold02.Rep1: k= 7 \n",
      "+ Fold02.Rep1: k= 9 \n",
      "- Fold02.Rep1: k= 9 \n",
      "+ Fold02.Rep1: k=11 \n",
      "- Fold02.Rep1: k=11 \n",
      "+ Fold02.Rep1: k=13 \n",
      "- Fold02.Rep1: k=13 \n",
      "+ Fold03.Rep1: k= 5 \n",
      "- Fold03.Rep1: k= 5 \n",
      "+ Fold03.Rep1: k= 7 \n",
      "- Fold03.Rep1: k= 7 \n",
      "+ Fold03.Rep1: k= 9 \n",
      "- Fold03.Rep1: k= 9 \n",
      "+ Fold03.Rep1: k=11 \n",
      "- Fold03.Rep1: k=11 \n",
      "+ Fold03.Rep1: k=13 \n",
      "- Fold03.Rep1: k=13 \n",
      "+ Fold04.Rep1: k= 5 \n",
      "- Fold04.Rep1: k= 5 \n",
      "+ Fold04.Rep1: k= 7 \n",
      "- Fold04.Rep1: k= 7 \n",
      "+ Fold04.Rep1: k= 9 \n",
      "- Fold04.Rep1: k= 9 \n",
      "+ Fold04.Rep1: k=11 \n",
      "- Fold04.Rep1: k=11 \n",
      "+ Fold04.Rep1: k=13 \n",
      "- Fold04.Rep1: k=13 \n",
      "+ Fold05.Rep1: k= 5 \n",
      "- Fold05.Rep1: k= 5 \n",
      "+ Fold05.Rep1: k= 7 \n",
      "- Fold05.Rep1: k= 7 \n",
      "+ Fold05.Rep1: k= 9 \n",
      "- Fold05.Rep1: k= 9 \n",
      "+ Fold05.Rep1: k=11 \n",
      "- Fold05.Rep1: k=11 \n",
      "+ Fold05.Rep1: k=13 \n",
      "- Fold05.Rep1: k=13 \n",
      "+ Fold06.Rep1: k= 5 \n",
      "- Fold06.Rep1: k= 5 \n",
      "+ Fold06.Rep1: k= 7 \n",
      "- Fold06.Rep1: k= 7 \n",
      "+ Fold06.Rep1: k= 9 \n",
      "- Fold06.Rep1: k= 9 \n",
      "+ Fold06.Rep1: k=11 \n",
      "- Fold06.Rep1: k=11 \n",
      "+ Fold06.Rep1: k=13 \n",
      "- Fold06.Rep1: k=13 \n",
      "+ Fold07.Rep1: k= 5 \n",
      "- Fold07.Rep1: k= 5 \n",
      "+ Fold07.Rep1: k= 7 \n",
      "- Fold07.Rep1: k= 7 \n",
      "+ Fold07.Rep1: k= 9 \n",
      "- Fold07.Rep1: k= 9 \n",
      "+ Fold07.Rep1: k=11 \n",
      "- Fold07.Rep1: k=11 \n",
      "+ Fold07.Rep1: k=13 \n",
      "- Fold07.Rep1: k=13 \n",
      "+ Fold08.Rep1: k= 5 \n",
      "- Fold08.Rep1: k= 5 \n",
      "+ Fold08.Rep1: k= 7 \n",
      "- Fold08.Rep1: k= 7 \n",
      "+ Fold08.Rep1: k= 9 \n",
      "- Fold08.Rep1: k= 9 \n",
      "+ Fold08.Rep1: k=11 \n",
      "- Fold08.Rep1: k=11 \n",
      "+ Fold08.Rep1: k=13 \n",
      "- Fold08.Rep1: k=13 \n",
      "+ Fold09.Rep1: k= 5 \n",
      "- Fold09.Rep1: k= 5 \n",
      "+ Fold09.Rep1: k= 7 \n",
      "- Fold09.Rep1: k= 7 \n",
      "+ Fold09.Rep1: k= 9 \n",
      "- Fold09.Rep1: k= 9 \n",
      "+ Fold09.Rep1: k=11 \n",
      "- Fold09.Rep1: k=11 \n",
      "+ Fold09.Rep1: k=13 \n",
      "- Fold09.Rep1: k=13 \n",
      "+ Fold10.Rep1: k= 5 \n",
      "- Fold10.Rep1: k= 5 \n",
      "+ Fold10.Rep1: k= 7 \n",
      "- Fold10.Rep1: k= 7 \n",
      "+ Fold10.Rep1: k= 9 \n",
      "- Fold10.Rep1: k= 9 \n",
      "+ Fold10.Rep1: k=11 \n",
      "- Fold10.Rep1: k=11 \n",
      "+ Fold10.Rep1: k=13 \n",
      "- Fold10.Rep1: k=13 \n",
      "Aggregating results\n",
      "Selecting tuning parameters\n",
      "Fitting k = 13 on full training set\n"
     ]
    },
    {
     "data": {
      "text/plain": [
       "k-Nearest Neighbors \n",
       "\n",
       "20558 samples\n",
       "  147 predictor\n",
       "    2 classes: 'No', 'Yes' \n",
       "\n",
       "No pre-processing\n",
       "Resampling: Cross-Validated (10 fold, repeated 1 times) \n",
       "Summary of sample sizes: 18503, 18502, 18502, 18503, 18502, 18501, ... \n",
       "Resampling results across tuning parameters:\n",
       "\n",
       "  k   Accuracy   Kappa    \n",
       "   5  0.5945631  0.1642545\n",
       "   7  0.6075024  0.1877670\n",
       "   9  0.6088161  0.1876757\n",
       "  11  0.6140696  0.1962488\n",
       "  13  0.6163069  0.1993130\n",
       "\n",
       "Accuracy was used to select the optimal model using  the largest value.\n",
       "The final value used for the model was k = 13. "
      ]
     },
     "metadata": {},
     "output_type": "display_data"
    },
    {
     "data": {
      "text/plain": [
       "Time difference of 16.55802 mins"
      ]
     },
     "metadata": {},
     "output_type": "display_data"
    }
   ],
   "source": [
    "start.time <- Sys.time()\n",
    "knnFit <- caret:::train(shot_made_flag ~ ., data = training, method = \"knn\", \n",
    "                trControl = ctrl, tuneLength = 5)\n",
    "\n",
    "#Output of kNN fit\n",
    "knnFit\n",
    "\n",
    "# Time elapsed\n",
    "end.time <- Sys.time()\n",
    "time.taken <- end.time - start.time\n",
    "time.taken"
   ]
  },
  {
   "cell_type": "code",
   "execution_count": 33,
   "metadata": {
    "collapsed": false
   },
   "outputs": [
    {
     "data": {},
     "metadata": {},
     "output_type": "display_data"
    },
    {
     "data": {
      "image/png": "[encoded data removed]",
      "text/plain": [
       "plot without title"
      ]
     },
     "metadata": {},
     "output_type": "display_data"
    }
   ],
   "source": [
    "# Plot Accuracy of the cross validation\n",
    "plot(knnFit)"
   ]
  },
  {
   "cell_type": "code",
   "execution_count": 36,
   "metadata": {
    "collapsed": false
   },
   "outputs": [
    {
     "data": {
      "text/plain": [
       "Confusion Matrix and Statistics\n",
       "\n",
       "          Reference\n",
       "Prediction   No  Yes\n",
       "       No  2182 1326\n",
       "       Yes  664  967\n",
       "                                          \n",
       "               Accuracy : 0.6128          \n",
       "                 95% CI : (0.5993, 0.6261)\n",
       "    No Information Rate : 0.5538          \n",
       "    P-Value [Acc > NIR] : < 2.2e-16       \n",
       "                                          \n",
       "                  Kappa : 0.1938          \n",
       " Mcnemar's Test P-Value : < 2.2e-16       \n",
       "                                          \n",
       "            Sensitivity : 0.4217          \n",
       "            Specificity : 0.7667          \n",
       "         Pos Pred Value : 0.5929          \n",
       "         Neg Pred Value : 0.6220          \n",
       "             Prevalence : 0.4462          \n",
       "         Detection Rate : 0.1882          \n",
       "   Detection Prevalence : 0.3174          \n",
       "      Balanced Accuracy : 0.5942          \n",
       "                                          \n",
       "       'Positive' Class : Yes             \n",
       "                                          "
      ]
     },
     "metadata": {},
     "output_type": "display_data"
    }
   ],
   "source": [
    "# Now predict on test set\n",
    "knnPredict <- predict(knnFit, newdata = testing)\n",
    "# Get the confusion matrix to see accuracy value and other parameter values\n",
    "caret:::confusionMatrix(knnPredict, testing$shot_made_flag, positive = \"Yes\")"
   ]
  },
  {
   "cell_type": "markdown",
   "metadata": {},
   "source": [
    "### Logistic Regression"
   ]
  },
  {
   "cell_type": "code",
   "execution_count": 37,
   "metadata": {
    "collapsed": false
   },
   "outputs": [
    {
     "name": "stdout",
     "output_type": "stream",
     "text": [
      "+ Fold01.Rep1: parameter=none \n"
     ]
    },
    {
     "name": "stderr",
     "output_type": "stream",
     "text": [
      "Warning message in predict.lm(object, newdata, se.fit, scale = 1, type = ifelse(type == :\n",
      "\"prediction from a rank-deficient fit may be misleading\""
     ]
    },
    {
     "name": "stdout",
     "output_type": "stream",
     "text": [
      "- Fold01.Rep1: parameter=none \n",
      "+ Fold02.Rep1: parameter=none \n"
     ]
    },
    {
     "name": "stderr",
     "output_type": "stream",
     "text": [
      "Warning message in predict.lm(object, newdata, se.fit, scale = 1, type = ifelse(type == :\n",
      "\"prediction from a rank-deficient fit may be misleading\""
     ]
    },
    {
     "name": "stdout",
     "output_type": "stream",
     "text": [
      "- Fold02.Rep1: parameter=none \n",
      "+ Fold03.Rep1: parameter=none \n"
     ]
    },
    {
     "name": "stderr",
     "output_type": "stream",
     "text": [
      "Warning message in predict.lm(object, newdata, se.fit, scale = 1, type = ifelse(type == :\n",
      "\"prediction from a rank-deficient fit may be misleading\""
     ]
    },
    {
     "name": "stdout",
     "output_type": "stream",
     "text": [
      "- Fold03.Rep1: parameter=none \n",
      "+ Fold04.Rep1: parameter=none \n"
     ]
    },
    {
     "name": "stderr",
     "output_type": "stream",
     "text": [
      "Warning message in predict.lm(object, newdata, se.fit, scale = 1, type = ifelse(type == :\n",
      "\"prediction from a rank-deficient fit may be misleading\""
     ]
    },
    {
     "name": "stdout",
     "output_type": "stream",
     "text": [
      "- Fold04.Rep1: parameter=none \n",
      "+ Fold05.Rep1: parameter=none \n"
     ]
    },
    {
     "name": "stderr",
     "output_type": "stream",
     "text": [
      "Warning message in predict.lm(object, newdata, se.fit, scale = 1, type = ifelse(type == :\n",
      "\"prediction from a rank-deficient fit may be misleading\""
     ]
    },
    {
     "name": "stdout",
     "output_type": "stream",
     "text": [
      "- Fold05.Rep1: parameter=none \n",
      "+ Fold06.Rep1: parameter=none \n"
     ]
    },
    {
     "name": "stderr",
     "output_type": "stream",
     "text": [
      "Warning message:\n",
      "\"glm.fit: algorithm did not converge\"Warning message:\n",
      "\"glm.fit: fitted probabilities numerically 0 or 1 occurred\"Warning message in predict.lm(object, newdata, se.fit, scale = 1, type = ifelse(type == :\n",
      "\"prediction from a rank-deficient fit may be misleading\""
     ]
    },
    {
     "name": "stdout",
     "output_type": "stream",
     "text": [
      "- Fold06.Rep1: parameter=none \n",
      "+ Fold07.Rep1: parameter=none \n"
     ]
    },
    {
     "name": "stderr",
     "output_type": "stream",
     "text": [
      "Warning message:\n",
      "\"glm.fit: algorithm did not converge\"Warning message:\n",
      "\"glm.fit: fitted probabilities numerically 0 or 1 occurred\"Warning message in predict.lm(object, newdata, se.fit, scale = 1, type = ifelse(type == :\n",
      "\"prediction from a rank-deficient fit may be misleading\""
     ]
    },
    {
     "name": "stdout",
     "output_type": "stream",
     "text": [
      "- Fold07.Rep1: parameter=none \n",
      "+ Fold08.Rep1: parameter=none \n"
     ]
    },
    {
     "name": "stderr",
     "output_type": "stream",
     "text": [
      "Warning message in predict.lm(object, newdata, se.fit, scale = 1, type = ifelse(type == :\n",
      "\"prediction from a rank-deficient fit may be misleading\""
     ]
    },
    {
     "name": "stdout",
     "output_type": "stream",
     "text": [
      "- Fold08.Rep1: parameter=none \n",
      "+ Fold09.Rep1: parameter=none \n"
     ]
    },
    {
     "name": "stderr",
     "output_type": "stream",
     "text": [
      "Warning message in predict.lm(object, newdata, se.fit, scale = 1, type = ifelse(type == :\n",
      "\"prediction from a rank-deficient fit may be misleading\""
     ]
    },
    {
     "name": "stdout",
     "output_type": "stream",
     "text": [
      "- Fold09.Rep1: parameter=none \n",
      "+ Fold10.Rep1: parameter=none \n"
     ]
    },
    {
     "name": "stderr",
     "output_type": "stream",
     "text": [
      "Warning message in predict.lm(object, newdata, se.fit, scale = 1, type = ifelse(type == :\n",
      "\"prediction from a rank-deficient fit may be misleading\""
     ]
    },
    {
     "name": "stdout",
     "output_type": "stream",
     "text": [
      "- Fold10.Rep1: parameter=none \n",
      "Aggregating results\n",
      "Fitting final model on full training set\n"
     ]
    },
    {
     "data": {
      "text/plain": [
       "Generalized Linear Model \n",
       "\n",
       "20558 samples\n",
       "  147 predictor\n",
       "    2 classes: 'No', 'Yes' \n",
       "\n",
       "No pre-processing\n",
       "Resampling: Cross-Validated (10 fold, repeated 1 times) \n",
       "Summary of sample sizes: 18502, 18503, 18502, 18502, 18502, 18502, ... \n",
       "Resampling results:\n",
       "\n",
       "  Accuracy   Kappa    \n",
       "  0.6786659  0.3251416\n",
       "\n",
       " "
      ]
     },
     "metadata": {},
     "output_type": "display_data"
    },
    {
     "data": {
      "text/plain": [
       "Time difference of 1.612649 mins"
      ]
     },
     "metadata": {},
     "output_type": "display_data"
    }
   ],
   "source": [
    "start.time <- Sys.time()\n",
    "LRfit <- caret:::train(shot_made_flag ~ ., data = training, method = \"glm\", family = binomial, trControl = ctrl)\n",
    "\n",
    "#Output of kNN fit\n",
    "LRfit\n",
    "\n",
    "# Time elapsed\n",
    "end.time <- Sys.time()\n",
    "time.taken <- end.time - start.time\n",
    "time.taken"
   ]
  },
  {
   "cell_type": "code",
   "execution_count": 38,
   "metadata": {
    "collapsed": false
   },
   "outputs": [
    {
     "name": "stderr",
     "output_type": "stream",
     "text": [
      "Warning message in predict.lm(object, newdata, se.fit, scale = 1, type = ifelse(type == :\n",
      "\"prediction from a rank-deficient fit may be misleading\""
     ]
    },
    {
     "data": {
      "text/plain": [
       "Confusion Matrix and Statistics\n",
       "\n",
       "          Reference\n",
       "Prediction   No  Yes\n",
       "       No  2481 1208\n",
       "       Yes  365 1085\n",
       "                                          \n",
       "               Accuracy : 0.6939          \n",
       "                 95% CI : (0.6811, 0.7065)\n",
       "    No Information Rate : 0.5538          \n",
       "    P-Value [Acc > NIR] : < 2.2e-16       \n",
       "                                          \n",
       "                  Kappa : 0.3577          \n",
       " Mcnemar's Test P-Value : < 2.2e-16       \n",
       "                                          \n",
       "            Sensitivity : 0.4732          \n",
       "            Specificity : 0.8717          \n",
       "         Pos Pred Value : 0.7483          \n",
       "         Neg Pred Value : 0.6725          \n",
       "             Prevalence : 0.4462          \n",
       "         Detection Rate : 0.2111          \n",
       "   Detection Prevalence : 0.2822          \n",
       "      Balanced Accuracy : 0.6725          \n",
       "                                          \n",
       "       'Positive' Class : Yes             \n",
       "                                          "
      ]
     },
     "metadata": {},
     "output_type": "display_data"
    }
   ],
   "source": [
    "# Now predict on test set\n",
    "LRPredict <- predict(LRfit, newdata = testing)\n",
    "# Get the confusion matrix to see accuracy value and other parameter values\n",
    "caret:::confusionMatrix(LRPredict, testing$shot_made_flag, positive = \"Yes\")"
   ]
  },
  {
   "cell_type": "markdown",
   "metadata": {},
   "source": [
    "### Naive Bayes"
   ]
  },
  {
   "cell_type": "code",
   "execution_count": 39,
   "metadata": {
    "collapsed": false
   },
   "outputs": [
    {
     "name": "stderr",
     "output_type": "stream",
     "text": [
      "Loading required package: klaR\n",
      "Warning message:\n",
      "\"package 'klaR' was built under R version 3.3.2\"Loading required package: MASS\n"
     ]
    },
    {
     "name": "stdout",
     "output_type": "stream",
     "text": [
      "+ Fold01.Rep1: usekernel= TRUE, fL=0, adjust=1 \n",
      "- Fold01.Rep1: usekernel= TRUE, fL=0, adjust=1 \n",
      "+ Fold01.Rep1: usekernel=FALSE, fL=0, adjust=1 \n",
      "model fit failed for Fold01.Rep1: usekernel=FALSE, fL=0, adjust=1 Error in NaiveBayes.default(x, y, usekernel = FALSE, fL = param$fL, ...) : \n",
      "  Zero variances for at least one class in variables: X.action_type.Turnaround.Finger.Roll.Shot., X.action_type.Hook.Bank.Shot., X.action_type.Running.Tip.Shot., X.action_type.Driving.Slam.Dunk.Shot., X.action_type.Reverse.Slam.Dunk.Shot., X.action_type.Putback.Slam.Dunk.Shot., X.action_type.Driving.Bank.shot., X.action_type.Running.Slam.Dunk.Shot., X.action_type.Driving.Floating.Bank.Jump.Shot., X.shot_zone_area.Back.Court.BC.., X.shot_zone_basic.Backcourt., X.shot_zone_range.Back.Court.Shot.\n",
      " \n"
     ]
    },
    {
     "name": "stderr",
     "output_type": "stream",
     "text": [
      "Warning message in eval(expr, envir, enclos):\n",
      "\"model fit failed for Fold01.Rep1: usekernel=FALSE, fL=0, adjust=1 Error in NaiveBayes.default(x, y, usekernel = FALSE, fL = param$fL, ...) : \n",
      "  Zero variances for at least one class in variables: X.action_type.Turnaround.Finger.Roll.Shot., X.action_type.Hook.Bank.Shot., X.action_type.Running.Tip.Shot., X.action_type.Driving.Slam.Dunk.Shot., X.action_type.Reverse.Slam.Dunk.Shot., X.action_type.Putback.Slam.Dunk.Shot., X.action_type.Driving.Bank.shot., X.action_type.Running.Slam.Dunk.Shot., X.action_type.Driving.Floating.Bank.Jump.Shot., X.shot_zone_area.Back.Court.BC.., X.shot_zone_basic.Backcourt., X.shot_zone_range.Back.Court.Shot.\n",
      "\""
     ]
    },
    {
     "name": "stdout",
     "output_type": "stream",
     "text": [
      "- Fold01.Rep1: usekernel=FALSE, fL=0, adjust=1 \n",
      "+ Fold02.Rep1: usekernel= TRUE, fL=0, adjust=1 \n",
      "- Fold02.Rep1: usekernel= TRUE, fL=0, adjust=1 \n",
      "+ Fold02.Rep1: usekernel=FALSE, fL=0, adjust=1 \n",
      "model fit failed for Fold02.Rep1: usekernel=FALSE, fL=0, adjust=1 Error in NaiveBayes.default(x, y, usekernel = FALSE, fL = param$fL, ...) : \n",
      "  Zero variances for at least one class in variables: X.action_type.Turnaround.Finger.Roll.Shot., X.action_type.Hook.Bank.Shot., X.action_type.Running.Tip.Shot., X.action_type.Driving.Slam.Dunk.Shot., X.action_type.Reverse.Slam.Dunk.Shot., X.action_type.Putback.Slam.Dunk.Shot., X.action_type.Running.Slam.Dunk.Shot., X.action_type.Driving.Floating.Jump.Shot., X.action_type.Driving.Floating.Bank.Jump.Shot.\n",
      " \n"
     ]
    },
    {
     "name": "stderr",
     "output_type": "stream",
     "text": [
      "Warning message in eval(expr, envir, enclos):\n",
      "\"model fit failed for Fold02.Rep1: usekernel=FALSE, fL=0, adjust=1 Error in NaiveBayes.default(x, y, usekernel = FALSE, fL = param$fL, ...) : \n",
      "  Zero variances for at least one class in variables: X.action_type.Turnaround.Finger.Roll.Shot., X.action_type.Hook.Bank.Shot., X.action_type.Running.Tip.Shot., X.action_type.Driving.Slam.Dunk.Shot., X.action_type.Reverse.Slam.Dunk.Shot., X.action_type.Putback.Slam.Dunk.Shot., X.action_type.Running.Slam.Dunk.Shot., X.action_type.Driving.Floating.Jump.Shot., X.action_type.Driving.Floating.Bank.Jump.Shot.\n",
      "\""
     ]
    },
    {
     "name": "stdout",
     "output_type": "stream",
     "text": [
      "- Fold02.Rep1: usekernel=FALSE, fL=0, adjust=1 \n",
      "+ Fold03.Rep1: usekernel= TRUE, fL=0, adjust=1 \n",
      "- Fold03.Rep1: usekernel= TRUE, fL=0, adjust=1 \n",
      "+ Fold03.Rep1: usekernel=FALSE, fL=0, adjust=1 \n",
      "model fit failed for Fold03.Rep1: usekernel=FALSE, fL=0, adjust=1 Error in NaiveBayes.default(x, y, usekernel = FALSE, fL = param$fL, ...) : \n",
      "  Zero variances for at least one class in variables: X.action_type.Running.Finger.Roll.Shot., X.action_type.Turnaround.Finger.Roll.Shot., X.action_type.Hook.Bank.Shot., X.action_type.Running.Tip.Shot., X.action_type.Driving.Slam.Dunk.Shot., X.action_type.Reverse.Slam.Dunk.Shot., X.action_type.Putback.Slam.Dunk.Shot., X.action_type.Driving.Bank.shot., X.action_type.Running.Slam.Dunk.Shot., X.action_type.Driving.Floating.Jump.Shot., X.action_type.Driving.Floating.Bank.Jump.Shot.\n",
      " \n"
     ]
    },
    {
     "name": "stderr",
     "output_type": "stream",
     "text": [
      "Warning message in eval(expr, envir, enclos):\n",
      "\"model fit failed for Fold03.Rep1: usekernel=FALSE, fL=0, adjust=1 Error in NaiveBayes.default(x, y, usekernel = FALSE, fL = param$fL, ...) : \n",
      "  Zero variances for at least one class in variables: X.action_type.Running.Finger.Roll.Shot., X.action_type.Turnaround.Finger.Roll.Shot., X.action_type.Hook.Bank.Shot., X.action_type.Running.Tip.Shot., X.action_type.Driving.Slam.Dunk.Shot., X.action_type.Reverse.Slam.Dunk.Shot., X.action_type.Putback.Slam.Dunk.Shot., X.action_type.Driving.Bank.shot., X.action_type.Running.Slam.Dunk.Shot., X.action_type.Driving.Floating.Jump.Shot., X.action_type.Driving.Floating.Bank.Jump.Shot.\n",
      "\""
     ]
    },
    {
     "name": "stdout",
     "output_type": "stream",
     "text": [
      "- Fold03.Rep1: usekernel=FALSE, fL=0, adjust=1 \n",
      "+ Fold04.Rep1: usekernel= TRUE, fL=0, adjust=1 \n",
      "- Fold04.Rep1: usekernel= TRUE, fL=0, adjust=1 \n",
      "+ Fold04.Rep1: usekernel=FALSE, fL=0, adjust=1 \n",
      "model fit failed for Fold04.Rep1: usekernel=FALSE, fL=0, adjust=1 Error in NaiveBayes.default(x, y, usekernel = FALSE, fL = param$fL, ...) : \n",
      "  Zero variances for at least one class in variables: X.action_type.Turnaround.Finger.Roll.Shot., X.action_type.Hook.Bank.Shot., X.action_type.Running.Tip.Shot., X.action_type.Driving.Slam.Dunk.Shot., X.action_type.Reverse.Slam.Dunk.Shot., X.action_type.Putback.Slam.Dunk.Shot., X.action_type.Running.Slam.Dunk.Shot., X.action_type.Tip.Layup.Shot., X.action_type.Driving.Floating.Bank.Jump.Shot.\n",
      " \n"
     ]
    },
    {
     "name": "stderr",
     "output_type": "stream",
     "text": [
      "Warning message in eval(expr, envir, enclos):\n",
      "\"model fit failed for Fold04.Rep1: usekernel=FALSE, fL=0, adjust=1 Error in NaiveBayes.default(x, y, usekernel = FALSE, fL = param$fL, ...) : \n",
      "  Zero variances for at least one class in variables: X.action_type.Turnaround.Finger.Roll.Shot., X.action_type.Hook.Bank.Shot., X.action_type.Running.Tip.Shot., X.action_type.Driving.Slam.Dunk.Shot., X.action_type.Reverse.Slam.Dunk.Shot., X.action_type.Putback.Slam.Dunk.Shot., X.action_type.Running.Slam.Dunk.Shot., X.action_type.Tip.Layup.Shot., X.action_type.Driving.Floating.Bank.Jump.Shot.\n",
      "\""
     ]
    },
    {
     "name": "stdout",
     "output_type": "stream",
     "text": [
      "- Fold04.Rep1: usekernel=FALSE, fL=0, adjust=1 \n",
      "+ Fold05.Rep1: usekernel= TRUE, fL=0, adjust=1 \n",
      "- Fold05.Rep1: usekernel= TRUE, fL=0, adjust=1 \n",
      "+ Fold05.Rep1: usekernel=FALSE, fL=0, adjust=1 \n",
      "model fit failed for Fold05.Rep1: usekernel=FALSE, fL=0, adjust=1 Error in NaiveBayes.default(x, y, usekernel = FALSE, fL = param$fL, ...) : \n",
      "  Zero variances for at least one class in variables: X.action_type.Running.Finger.Roll.Shot., X.action_type.Turnaround.Finger.Roll.Shot., X.action_type.Hook.Bank.Shot., X.action_type.Running.Tip.Shot., X.action_type.Driving.Slam.Dunk.Shot., X.action_type.Reverse.Slam.Dunk.Shot., X.action_type.Putback.Slam.Dunk.Shot., X.action_type.Running.Slam.Dunk.Shot., X.action_type.Tip.Layup.Shot., X.action_type.Driving.Floating.Bank.Jump.Shot.\n",
      " \n"
     ]
    },
    {
     "name": "stderr",
     "output_type": "stream",
     "text": [
      "Warning message in eval(expr, envir, enclos):\n",
      "\"model fit failed for Fold05.Rep1: usekernel=FALSE, fL=0, adjust=1 Error in NaiveBayes.default(x, y, usekernel = FALSE, fL = param$fL, ...) : \n",
      "  Zero variances for at least one class in variables: X.action_type.Running.Finger.Roll.Shot., X.action_type.Turnaround.Finger.Roll.Shot., X.action_type.Hook.Bank.Shot., X.action_type.Running.Tip.Shot., X.action_type.Driving.Slam.Dunk.Shot., X.action_type.Reverse.Slam.Dunk.Shot., X.action_type.Putback.Slam.Dunk.Shot., X.action_type.Running.Slam.Dunk.Shot., X.action_type.Tip.Layup.Shot., X.action_type.Driving.Floating.Bank.Jump.Shot.\n",
      "\""
     ]
    },
    {
     "name": "stdout",
     "output_type": "stream",
     "text": [
      "- Fold05.Rep1: usekernel=FALSE, fL=0, adjust=1 \n",
      "+ Fold06.Rep1: usekernel= TRUE, fL=0, adjust=1 \n",
      "- Fold06.Rep1: usekernel= TRUE, fL=0, adjust=1 \n",
      "+ Fold06.Rep1: usekernel=FALSE, fL=0, adjust=1 \n",
      "model fit failed for Fold06.Rep1: usekernel=FALSE, fL=0, adjust=1 Error in NaiveBayes.default(x, y, usekernel = FALSE, fL = param$fL, ...) : \n",
      "  Zero variances for at least one class in variables: X.action_type.Turnaround.Hook.Shot., X.action_type.Turnaround.Finger.Roll.Shot., X.action_type.Hook.Bank.Shot., X.action_type.Running.Tip.Shot., X.action_type.Driving.Slam.Dunk.Shot., X.action_type.Reverse.Slam.Dunk.Shot., X.action_type.Putback.Slam.Dunk.Shot., X.action_type.Running.Slam.Dunk.Shot., X.action_type.Driving.Floating.Bank.Jump.Shot.\n",
      " \n"
     ]
    },
    {
     "name": "stderr",
     "output_type": "stream",
     "text": [
      "Warning message in eval(expr, envir, enclos):\n",
      "\"model fit failed for Fold06.Rep1: usekernel=FALSE, fL=0, adjust=1 Error in NaiveBayes.default(x, y, usekernel = FALSE, fL = param$fL, ...) : \n",
      "  Zero variances for at least one class in variables: X.action_type.Turnaround.Hook.Shot., X.action_type.Turnaround.Finger.Roll.Shot., X.action_type.Hook.Bank.Shot., X.action_type.Running.Tip.Shot., X.action_type.Driving.Slam.Dunk.Shot., X.action_type.Reverse.Slam.Dunk.Shot., X.action_type.Putback.Slam.Dunk.Shot., X.action_type.Running.Slam.Dunk.Shot., X.action_type.Driving.Floating.Bank.Jump.Shot.\n",
      "\""
     ]
    },
    {
     "name": "stdout",
     "output_type": "stream",
     "text": [
      "- Fold06.Rep1: usekernel=FALSE, fL=0, adjust=1 \n",
      "+ Fold07.Rep1: usekernel= TRUE, fL=0, adjust=1 \n",
      "- Fold07.Rep1: usekernel= TRUE, fL=0, adjust=1 \n",
      "+ Fold07.Rep1: usekernel=FALSE, fL=0, adjust=1 \n",
      "model fit failed for Fold07.Rep1: usekernel=FALSE, fL=0, adjust=1 Error in NaiveBayes.default(x, y, usekernel = FALSE, fL = param$fL, ...) : \n",
      "  Zero variances for at least one class in variables: X.action_type.Turnaround.Finger.Roll.Shot., X.action_type.Hook.Bank.Shot., X.action_type.Running.Tip.Shot., X.action_type.Driving.Slam.Dunk.Shot., X.action_type.Reverse.Slam.Dunk.Shot., X.action_type.Putback.Slam.Dunk.Shot., X.action_type.Running.Slam.Dunk.Shot., X.action_type.Running.Pull.Up.Jump.Shot., X.action_type.Driving.Floating.Bank.Jump.Shot.\n",
      " \n"
     ]
    },
    {
     "name": "stderr",
     "output_type": "stream",
     "text": [
      "Warning message in eval(expr, envir, enclos):\n",
      "\"model fit failed for Fold07.Rep1: usekernel=FALSE, fL=0, adjust=1 Error in NaiveBayes.default(x, y, usekernel = FALSE, fL = param$fL, ...) : \n",
      "  Zero variances for at least one class in variables: X.action_type.Turnaround.Finger.Roll.Shot., X.action_type.Hook.Bank.Shot., X.action_type.Running.Tip.Shot., X.action_type.Driving.Slam.Dunk.Shot., X.action_type.Reverse.Slam.Dunk.Shot., X.action_type.Putback.Slam.Dunk.Shot., X.action_type.Running.Slam.Dunk.Shot., X.action_type.Running.Pull.Up.Jump.Shot., X.action_type.Driving.Floating.Bank.Jump.Shot.\n",
      "\""
     ]
    },
    {
     "name": "stdout",
     "output_type": "stream",
     "text": [
      "- Fold07.Rep1: usekernel=FALSE, fL=0, adjust=1 \n",
      "+ Fold08.Rep1: usekernel= TRUE, fL=0, adjust=1 \n",
      "- Fold08.Rep1: usekernel= TRUE, fL=0, adjust=1 \n",
      "+ Fold08.Rep1: usekernel=FALSE, fL=0, adjust=1 \n",
      "model fit failed for Fold08.Rep1: usekernel=FALSE, fL=0, adjust=1 Error in NaiveBayes.default(x, y, usekernel = FALSE, fL = param$fL, ...) : \n",
      "  Zero variances for at least one class in variables: X.action_type.Follow.Up.Dunk.Shot., X.action_type.Turnaround.Finger.Roll.Shot., X.action_type.Hook.Bank.Shot., X.action_type.Running.Tip.Shot., X.action_type.Driving.Slam.Dunk.Shot., X.action_type.Reverse.Slam.Dunk.Shot., X.action_type.Putback.Slam.Dunk.Shot., X.action_type.Putback.Dunk.Shot., X.action_type.Running.Slam.Dunk.Shot., X.action_type.Driving.Floating.Bank.Jump.Shot.\n",
      " \n"
     ]
    },
    {
     "name": "stderr",
     "output_type": "stream",
     "text": [
      "Warning message in eval(expr, envir, enclos):\n",
      "\"model fit failed for Fold08.Rep1: usekernel=FALSE, fL=0, adjust=1 Error in NaiveBayes.default(x, y, usekernel = FALSE, fL = param$fL, ...) : \n",
      "  Zero variances for at least one class in variables: X.action_type.Follow.Up.Dunk.Shot., X.action_type.Turnaround.Finger.Roll.Shot., X.action_type.Hook.Bank.Shot., X.action_type.Running.Tip.Shot., X.action_type.Driving.Slam.Dunk.Shot., X.action_type.Reverse.Slam.Dunk.Shot., X.action_type.Putback.Slam.Dunk.Shot., X.action_type.Putback.Dunk.Shot., X.action_type.Running.Slam.Dunk.Shot., X.action_type.Driving.Floating.Bank.Jump.Shot.\n",
      "\""
     ]
    },
    {
     "name": "stdout",
     "output_type": "stream",
     "text": [
      "- Fold08.Rep1: usekernel=FALSE, fL=0, adjust=1 \n",
      "+ Fold09.Rep1: usekernel= TRUE, fL=0, adjust=1 \n",
      "- Fold09.Rep1: usekernel= TRUE, fL=0, adjust=1 \n",
      "+ Fold09.Rep1: usekernel=FALSE, fL=0, adjust=1 \n",
      "model fit failed for Fold09.Rep1: usekernel=FALSE, fL=0, adjust=1 Error in NaiveBayes.default(x, y, usekernel = FALSE, fL = param$fL, ...) : \n",
      "  Zero variances for at least one class in variables: X.action_type.Turnaround.Finger.Roll.Shot., X.action_type.Hook.Bank.Shot., X.action_type.Running.Tip.Shot., X.action_type.Driving.Slam.Dunk.Shot., X.action_type.Reverse.Slam.Dunk.Shot., X.action_type.Putback.Slam.Dunk.Shot., X.action_type.Running.Slam.Dunk.Shot., X.action_type.Driving.Floating.Bank.Jump.Shot.\n",
      " \n"
     ]
    },
    {
     "name": "stderr",
     "output_type": "stream",
     "text": [
      "Warning message in eval(expr, envir, enclos):\n",
      "\"model fit failed for Fold09.Rep1: usekernel=FALSE, fL=0, adjust=1 Error in NaiveBayes.default(x, y, usekernel = FALSE, fL = param$fL, ...) : \n",
      "  Zero variances for at least one class in variables: X.action_type.Turnaround.Finger.Roll.Shot., X.action_type.Hook.Bank.Shot., X.action_type.Running.Tip.Shot., X.action_type.Driving.Slam.Dunk.Shot., X.action_type.Reverse.Slam.Dunk.Shot., X.action_type.Putback.Slam.Dunk.Shot., X.action_type.Running.Slam.Dunk.Shot., X.action_type.Driving.Floating.Bank.Jump.Shot.\n",
      "\""
     ]
    },
    {
     "name": "stdout",
     "output_type": "stream",
     "text": [
      "- Fold09.Rep1: usekernel=FALSE, fL=0, adjust=1 \n",
      "+ Fold10.Rep1: usekernel= TRUE, fL=0, adjust=1 \n",
      "- Fold10.Rep1: usekernel= TRUE, fL=0, adjust=1 \n",
      "+ Fold10.Rep1: usekernel=FALSE, fL=0, adjust=1 \n",
      "model fit failed for Fold10.Rep1: usekernel=FALSE, fL=0, adjust=1 Error in NaiveBayes.default(x, y, usekernel = FALSE, fL = param$fL, ...) : \n",
      "  Zero variances for at least one class in variables: X.action_type.Turnaround.Finger.Roll.Shot., X.action_type.Hook.Bank.Shot., X.action_type.Running.Tip.Shot., X.action_type.Driving.Slam.Dunk.Shot., X.action_type.Reverse.Slam.Dunk.Shot., X.action_type.Putback.Slam.Dunk.Shot., X.action_type.Running.Slam.Dunk.Shot., X.action_type.Cutting.Layup.Shot., X.action_type.Running.Pull.Up.Jump.Shot., X.action_type.Driving.Floating.Bank.Jump.Shot.\n",
      " \n"
     ]
    },
    {
     "name": "stderr",
     "output_type": "stream",
     "text": [
      "Warning message in eval(expr, envir, enclos):\n",
      "\"model fit failed for Fold10.Rep1: usekernel=FALSE, fL=0, adjust=1 Error in NaiveBayes.default(x, y, usekernel = FALSE, fL = param$fL, ...) : \n",
      "  Zero variances for at least one class in variables: X.action_type.Turnaround.Finger.Roll.Shot., X.action_type.Hook.Bank.Shot., X.action_type.Running.Tip.Shot., X.action_type.Driving.Slam.Dunk.Shot., X.action_type.Reverse.Slam.Dunk.Shot., X.action_type.Putback.Slam.Dunk.Shot., X.action_type.Running.Slam.Dunk.Shot., X.action_type.Cutting.Layup.Shot., X.action_type.Running.Pull.Up.Jump.Shot., X.action_type.Driving.Floating.Bank.Jump.Shot.\n",
      "\""
     ]
    },
    {
     "name": "stdout",
     "output_type": "stream",
     "text": [
      "- Fold10.Rep1: usekernel=FALSE, fL=0, adjust=1 \n"
     ]
    },
    {
     "name": "stderr",
     "output_type": "stream",
     "text": [
      "Warning message in nominalTrainWorkflow(x = x, y = y, wts = weights, info = trainInfo, :\n",
      "\"There were missing values in resampled performance measures.\""
     ]
    },
    {
     "name": "stdout",
     "output_type": "stream",
     "text": [
      "Aggregating results\n"
     ]
    },
    {
     "name": "stderr",
     "output_type": "stream",
     "text": [
      "Warning message in train.default(x, y, weights = w, ...):\n",
      "\"missing values found in aggregated results\""
     ]
    },
    {
     "name": "stdout",
     "output_type": "stream",
     "text": [
      "Selecting tuning parameters\n",
      "Fitting fL = 0, usekernel = TRUE, adjust = 1 on full training set\n"
     ]
    },
    {
     "data": {
      "text/plain": [
       "Naive Bayes \n",
       "\n",
       "20558 samples\n",
       "  147 predictor\n",
       "    2 classes: 'No', 'Yes' \n",
       "\n",
       "No pre-processing\n",
       "Resampling: Cross-Validated (10 fold, repeated 1 times) \n",
       "Summary of sample sizes: 18502, 18502, 18503, 18502, 18503, 18502, ... \n",
       "Resampling results across tuning parameters:\n",
       "\n",
       "  usekernel  Accuracy  Kappa     \n",
       "  FALSE           NaN         NaN\n",
       "   TRUE      0.560657  0.01846162\n",
       "\n",
       "Tuning parameter 'fL' was held constant at a value of 0\n",
       "Tuning\n",
       " parameter 'adjust' was held constant at a value of 1\n",
       "Accuracy was used to select the optimal model using  the largest value.\n",
       "The final values used for the model were fL = 0, usekernel = TRUE and adjust\n",
       " = 1. "
      ]
     },
     "metadata": {},
     "output_type": "display_data"
    },
    {
     "data": {
      "text/plain": [
       "Time difference of 4.909849 mins"
      ]
     },
     "metadata": {},
     "output_type": "display_data"
    }
   ],
   "source": [
    "start.time <- Sys.time()\n",
    "NBfit <- caret:::train(shot_made_flag ~ ., data = training, method = \"nb\", trControl = ctrl)\n",
    "\n",
    "#Output of NB fit\n",
    "NBfit\n",
    "\n",
    "# Time elapsed\n",
    "end.time <- Sys.time()\n",
    "time.taken <- end.time - start.time\n",
    "time.taken"
   ]
  },
  {
   "cell_type": "code",
   "execution_count": 40,
   "metadata": {
    "collapsed": false
   },
   "outputs": [
    {
     "data": {
      "text/plain": [
       "Confusion Matrix and Statistics\n",
       "\n",
       "          Reference\n",
       "Prediction   No  Yes\n",
       "       No  2846 2293\n",
       "       Yes    0    0\n",
       "                                          \n",
       "               Accuracy : 0.5538          \n",
       "                 95% CI : (0.5401, 0.5675)\n",
       "    No Information Rate : 0.5538          \n",
       "    P-Value [Acc > NIR] : 0.5058          \n",
       "                                          \n",
       "                  Kappa : 0               \n",
       " Mcnemar's Test P-Value : <2e-16          \n",
       "                                          \n",
       "            Sensitivity : 0.0000          \n",
       "            Specificity : 1.0000          \n",
       "         Pos Pred Value :    NaN          \n",
       "         Neg Pred Value : 0.5538          \n",
       "             Prevalence : 0.4462          \n",
       "         Detection Rate : 0.0000          \n",
       "   Detection Prevalence : 0.0000          \n",
       "      Balanced Accuracy : 0.5000          \n",
       "                                          \n",
       "       'Positive' Class : Yes             \n",
       "                                          "
      ]
     },
     "metadata": {},
     "output_type": "display_data"
    }
   ],
   "source": [
    "# Now predict on test set\n",
    "NBPredict <- predict(NBfit, newdata = testing)\n",
    "# Get the confusion matrix to see accuracy value and other parameter values\n",
    "caret:::confusionMatrix(NBPredict, testing$shot_made_flag, positive = \"Yes\")\n"
   ]
  },
  {
   "cell_type": "markdown",
   "metadata": {},
   "source": [
    "### Linear SVM"
   ]
  },
  {
   "cell_type": "code",
   "execution_count": 41,
   "metadata": {
    "collapsed": false
   },
   "outputs": [
    {
     "name": "stdout",
     "output_type": "stream",
     "text": [
      "+ Fold01.Rep1: cost=0.25 \n"
     ]
    },
    {
     "name": "stderr",
     "output_type": "stream",
     "text": [
      "Warning message in svm.default(x = as.matrix(x), y = y, kernel = \"linear\", cost = param$cost, :\n",
      "\"Variable(s) 'X.action_type.Driving.Floating.Bank.Jump.Shot.' constant. Cannot scale data.\""
     ]
    },
    {
     "name": "stdout",
     "output_type": "stream",
     "text": [
      "- Fold01.Rep1: cost=0.25 \n",
      "+ Fold01.Rep1: cost=0.50 \n"
     ]
    },
    {
     "name": "stderr",
     "output_type": "stream",
     "text": [
      "Warning message in svm.default(x = as.matrix(x), y = y, kernel = \"linear\", cost = param$cost, :\n",
      "\"Variable(s) 'X.action_type.Driving.Floating.Bank.Jump.Shot.' constant. Cannot scale data.\""
     ]
    },
    {
     "name": "stdout",
     "output_type": "stream",
     "text": [
      "- Fold01.Rep1: cost=0.50 \n",
      "+ Fold01.Rep1: cost=1.00 \n"
     ]
    },
    {
     "name": "stderr",
     "output_type": "stream",
     "text": [
      "Warning message in svm.default(x = as.matrix(x), y = y, kernel = \"linear\", cost = param$cost, :\n",
      "\"Variable(s) 'X.action_type.Driving.Floating.Bank.Jump.Shot.' constant. Cannot scale data.\""
     ]
    },
    {
     "name": "stdout",
     "output_type": "stream",
     "text": [
      "- Fold01.Rep1: cost=1.00 \n",
      "+ Fold02.Rep1: cost=0.25 \n"
     ]
    },
    {
     "name": "stderr",
     "output_type": "stream",
     "text": [
      "Warning message in svm.default(x = as.matrix(x), y = y, kernel = \"linear\", cost = param$cost, :\n",
      "\"Variable(s) 'X.action_type.Running.Tip.Shot.' and 'X.action_type.Driving.Floating.Bank.Jump.Shot.' constant. Cannot scale data.\""
     ]
    },
    {
     "name": "stdout",
     "output_type": "stream",
     "text": [
      "- Fold02.Rep1: cost=0.25 \n",
      "+ Fold02.Rep1: cost=0.50 \n"
     ]
    },
    {
     "name": "stderr",
     "output_type": "stream",
     "text": [
      "Warning message in svm.default(x = as.matrix(x), y = y, kernel = \"linear\", cost = param$cost, :\n",
      "\"Variable(s) 'X.action_type.Running.Tip.Shot.' and 'X.action_type.Driving.Floating.Bank.Jump.Shot.' constant. Cannot scale data.\""
     ]
    },
    {
     "name": "stdout",
     "output_type": "stream",
     "text": [
      "- Fold02.Rep1: cost=0.50 \n",
      "+ Fold02.Rep1: cost=1.00 \n"
     ]
    },
    {
     "name": "stderr",
     "output_type": "stream",
     "text": [
      "Warning message in svm.default(x = as.matrix(x), y = y, kernel = \"linear\", cost = param$cost, :\n",
      "\"Variable(s) 'X.action_type.Running.Tip.Shot.' and 'X.action_type.Driving.Floating.Bank.Jump.Shot.' constant. Cannot scale data.\""
     ]
    },
    {
     "name": "stdout",
     "output_type": "stream",
     "text": [
      "- Fold02.Rep1: cost=1.00 \n",
      "+ Fold03.Rep1: cost=0.25 \n"
     ]
    },
    {
     "name": "stderr",
     "output_type": "stream",
     "text": [
      "Warning message in svm.default(x = as.matrix(x), y = y, kernel = \"linear\", cost = param$cost, :\n",
      "\"Variable(s) 'X.action_type.Putback.Slam.Dunk.Shot.' and 'X.action_type.Driving.Floating.Bank.Jump.Shot.' constant. Cannot scale data.\""
     ]
    },
    {
     "name": "stdout",
     "output_type": "stream",
     "text": [
      "- Fold03.Rep1: cost=0.25 \n",
      "+ Fold03.Rep1: cost=0.50 \n"
     ]
    },
    {
     "name": "stderr",
     "output_type": "stream",
     "text": [
      "Warning message in svm.default(x = as.matrix(x), y = y, kernel = \"linear\", cost = param$cost, :\n",
      "\"Variable(s) 'X.action_type.Putback.Slam.Dunk.Shot.' and 'X.action_type.Driving.Floating.Bank.Jump.Shot.' constant. Cannot scale data.\""
     ]
    },
    {
     "name": "stdout",
     "output_type": "stream",
     "text": [
      "- Fold03.Rep1: cost=0.50 \n",
      "+ Fold03.Rep1: cost=1.00 \n"
     ]
    },
    {
     "name": "stderr",
     "output_type": "stream",
     "text": [
      "Warning message in svm.default(x = as.matrix(x), y = y, kernel = \"linear\", cost = param$cost, :\n",
      "\"Variable(s) 'X.action_type.Putback.Slam.Dunk.Shot.' and 'X.action_type.Driving.Floating.Bank.Jump.Shot.' constant. Cannot scale data.\""
     ]
    },
    {
     "name": "stdout",
     "output_type": "stream",
     "text": [
      "- Fold03.Rep1: cost=1.00 \n",
      "+ Fold04.Rep1: cost=0.25 \n"
     ]
    },
    {
     "name": "stderr",
     "output_type": "stream",
     "text": [
      "Warning message in svm.default(x = as.matrix(x), y = y, kernel = \"linear\", cost = param$cost, :\n",
      "\"Variable(s) 'X.action_type.Driving.Floating.Jump.Shot.' and 'X.action_type.Driving.Floating.Bank.Jump.Shot.' constant. Cannot scale data.\""
     ]
    },
    {
     "name": "stdout",
     "output_type": "stream",
     "text": [
      "- Fold04.Rep1: cost=0.25 \n",
      "+ Fold04.Rep1: cost=0.50 \n"
     ]
    },
    {
     "name": "stderr",
     "output_type": "stream",
     "text": [
      "Warning message in svm.default(x = as.matrix(x), y = y, kernel = \"linear\", cost = param$cost, :\n",
      "\"Variable(s) 'X.action_type.Driving.Floating.Jump.Shot.' and 'X.action_type.Driving.Floating.Bank.Jump.Shot.' constant. Cannot scale data.\""
     ]
    },
    {
     "name": "stdout",
     "output_type": "stream",
     "text": [
      "- Fold04.Rep1: cost=0.50 \n",
      "+ Fold04.Rep1: cost=1.00 \n"
     ]
    },
    {
     "name": "stderr",
     "output_type": "stream",
     "text": [
      "Warning message in svm.default(x = as.matrix(x), y = y, kernel = \"linear\", cost = param$cost, :\n",
      "\"Variable(s) 'X.action_type.Driving.Floating.Jump.Shot.' and 'X.action_type.Driving.Floating.Bank.Jump.Shot.' constant. Cannot scale data.\""
     ]
    },
    {
     "name": "stdout",
     "output_type": "stream",
     "text": [
      "- Fold04.Rep1: cost=1.00 \n",
      "+ Fold05.Rep1: cost=0.25 \n"
     ]
    },
    {
     "name": "stderr",
     "output_type": "stream",
     "text": [
      "Warning message in svm.default(x = as.matrix(x), y = y, kernel = \"linear\", cost = param$cost, :\n",
      "\"Variable(s) 'X.action_type.Driving.Floating.Bank.Jump.Shot.' constant. Cannot scale data.\""
     ]
    },
    {
     "name": "stdout",
     "output_type": "stream",
     "text": [
      "- Fold05.Rep1: cost=0.25 \n",
      "+ Fold05.Rep1: cost=0.50 \n"
     ]
    },
    {
     "name": "stderr",
     "output_type": "stream",
     "text": [
      "Warning message in svm.default(x = as.matrix(x), y = y, kernel = \"linear\", cost = param$cost, :\n",
      "\"Variable(s) 'X.action_type.Driving.Floating.Bank.Jump.Shot.' constant. Cannot scale data.\""
     ]
    },
    {
     "name": "stdout",
     "output_type": "stream",
     "text": [
      "- Fold05.Rep1: cost=0.50 \n",
      "+ Fold05.Rep1: cost=1.00 \n"
     ]
    },
    {
     "name": "stderr",
     "output_type": "stream",
     "text": [
      "Warning message in svm.default(x = as.matrix(x), y = y, kernel = \"linear\", cost = param$cost, :\n",
      "\"Variable(s) 'X.action_type.Driving.Floating.Bank.Jump.Shot.' constant. Cannot scale data.\""
     ]
    },
    {
     "name": "stdout",
     "output_type": "stream",
     "text": [
      "- Fold05.Rep1: cost=1.00 \n",
      "+ Fold06.Rep1: cost=0.25 \n"
     ]
    },
    {
     "name": "stderr",
     "output_type": "stream",
     "text": [
      "Warning message in svm.default(x = as.matrix(x), y = y, kernel = \"linear\", cost = param$cost, :\n",
      "\"Variable(s) 'X.action_type.Driving.Floating.Bank.Jump.Shot.' constant. Cannot scale data.\""
     ]
    },
    {
     "name": "stdout",
     "output_type": "stream",
     "text": [
      "- Fold06.Rep1: cost=0.25 \n",
      "+ Fold06.Rep1: cost=0.50 \n"
     ]
    },
    {
     "name": "stderr",
     "output_type": "stream",
     "text": [
      "Warning message in svm.default(x = as.matrix(x), y = y, kernel = \"linear\", cost = param$cost, :\n",
      "\"Variable(s) 'X.action_type.Driving.Floating.Bank.Jump.Shot.' constant. Cannot scale data.\""
     ]
    },
    {
     "name": "stdout",
     "output_type": "stream",
     "text": [
      "- Fold06.Rep1: cost=0.50 \n",
      "+ Fold06.Rep1: cost=1.00 \n"
     ]
    },
    {
     "name": "stderr",
     "output_type": "stream",
     "text": [
      "Warning message in svm.default(x = as.matrix(x), y = y, kernel = \"linear\", cost = param$cost, :\n",
      "\"Variable(s) 'X.action_type.Driving.Floating.Bank.Jump.Shot.' constant. Cannot scale data.\""
     ]
    },
    {
     "name": "stdout",
     "output_type": "stream",
     "text": [
      "- Fold06.Rep1: cost=1.00 \n",
      "+ Fold07.Rep1: cost=0.25 \n"
     ]
    },
    {
     "name": "stderr",
     "output_type": "stream",
     "text": [
      "Warning message in svm.default(x = as.matrix(x), y = y, kernel = \"linear\", cost = param$cost, :\n",
      "\"Variable(s) 'X.action_type.Driving.Floating.Bank.Jump.Shot.' constant. Cannot scale data.\""
     ]
    },
    {
     "name": "stdout",
     "output_type": "stream",
     "text": [
      "- Fold07.Rep1: cost=0.25 \n",
      "+ Fold07.Rep1: cost=0.50 \n"
     ]
    },
    {
     "name": "stderr",
     "output_type": "stream",
     "text": [
      "Warning message in svm.default(x = as.matrix(x), y = y, kernel = \"linear\", cost = param$cost, :\n",
      "\"Variable(s) 'X.action_type.Driving.Floating.Bank.Jump.Shot.' constant. Cannot scale data.\""
     ]
    },
    {
     "name": "stdout",
     "output_type": "stream",
     "text": [
      "- Fold07.Rep1: cost=0.50 \n",
      "+ Fold07.Rep1: cost=1.00 \n"
     ]
    },
    {
     "name": "stderr",
     "output_type": "stream",
     "text": [
      "Warning message in svm.default(x = as.matrix(x), y = y, kernel = \"linear\", cost = param$cost, :\n",
      "\"Variable(s) 'X.action_type.Driving.Floating.Bank.Jump.Shot.' constant. Cannot scale data.\""
     ]
    },
    {
     "name": "stdout",
     "output_type": "stream",
     "text": [
      "- Fold07.Rep1: cost=1.00 \n",
      "+ Fold08.Rep1: cost=0.25 \n"
     ]
    },
    {
     "name": "stderr",
     "output_type": "stream",
     "text": [
      "Warning message in svm.default(x = as.matrix(x), y = y, kernel = \"linear\", cost = param$cost, :\n",
      "\"Variable(s) 'X.action_type.Running.Slam.Dunk.Shot.' and 'X.action_type.Driving.Floating.Bank.Jump.Shot.' constant. Cannot scale data.\""
     ]
    },
    {
     "name": "stdout",
     "output_type": "stream",
     "text": [
      "- Fold08.Rep1: cost=0.25 \n",
      "+ Fold08.Rep1: cost=0.50 \n"
     ]
    },
    {
     "name": "stderr",
     "output_type": "stream",
     "text": [
      "Warning message in svm.default(x = as.matrix(x), y = y, kernel = \"linear\", cost = param$cost, :\n",
      "\"Variable(s) 'X.action_type.Running.Slam.Dunk.Shot.' and 'X.action_type.Driving.Floating.Bank.Jump.Shot.' constant. Cannot scale data.\""
     ]
    },
    {
     "name": "stdout",
     "output_type": "stream",
     "text": [
      "- Fold08.Rep1: cost=0.50 \n",
      "+ Fold08.Rep1: cost=1.00 \n"
     ]
    },
    {
     "name": "stderr",
     "output_type": "stream",
     "text": [
      "Warning message in svm.default(x = as.matrix(x), y = y, kernel = \"linear\", cost = param$cost, :\n",
      "\"Variable(s) 'X.action_type.Running.Slam.Dunk.Shot.' and 'X.action_type.Driving.Floating.Bank.Jump.Shot.' constant. Cannot scale data.\""
     ]
    },
    {
     "name": "stdout",
     "output_type": "stream",
     "text": [
      "- Fold08.Rep1: cost=1.00 \n",
      "+ Fold09.Rep1: cost=0.25 \n"
     ]
    },
    {
     "name": "stderr",
     "output_type": "stream",
     "text": [
      "Warning message in svm.default(x = as.matrix(x), y = y, kernel = \"linear\", cost = param$cost, :\n",
      "\"Variable(s) 'X.action_type.Driving.Floating.Bank.Jump.Shot.' constant. Cannot scale data.\""
     ]
    },
    {
     "name": "stdout",
     "output_type": "stream",
     "text": [
      "- Fold09.Rep1: cost=0.25 \n",
      "+ Fold09.Rep1: cost=0.50 \n"
     ]
    },
    {
     "name": "stderr",
     "output_type": "stream",
     "text": [
      "Warning message in svm.default(x = as.matrix(x), y = y, kernel = \"linear\", cost = param$cost, :\n",
      "\"Variable(s) 'X.action_type.Driving.Floating.Bank.Jump.Shot.' constant. Cannot scale data.\""
     ]
    },
    {
     "name": "stdout",
     "output_type": "stream",
     "text": [
      "- Fold09.Rep1: cost=0.50 \n",
      "+ Fold09.Rep1: cost=1.00 \n"
     ]
    },
    {
     "name": "stderr",
     "output_type": "stream",
     "text": [
      "Warning message in svm.default(x = as.matrix(x), y = y, kernel = \"linear\", cost = param$cost, :\n",
      "\"Variable(s) 'X.action_type.Driving.Floating.Bank.Jump.Shot.' constant. Cannot scale data.\""
     ]
    },
    {
     "name": "stdout",
     "output_type": "stream",
     "text": [
      "- Fold09.Rep1: cost=1.00 \n",
      "+ Fold10.Rep1: cost=0.25 \n"
     ]
    },
    {
     "name": "stderr",
     "output_type": "stream",
     "text": [
      "Warning message in svm.default(x = as.matrix(x), y = y, kernel = \"linear\", cost = param$cost, :\n",
      "\"Variable(s) 'X.action_type.Driving.Floating.Bank.Jump.Shot.' constant. Cannot scale data.\""
     ]
    },
    {
     "name": "stdout",
     "output_type": "stream",
     "text": [
      "- Fold10.Rep1: cost=0.25 \n",
      "+ Fold10.Rep1: cost=0.50 \n"
     ]
    },
    {
     "name": "stderr",
     "output_type": "stream",
     "text": [
      "Warning message in svm.default(x = as.matrix(x), y = y, kernel = \"linear\", cost = param$cost, :\n",
      "\"Variable(s) 'X.action_type.Driving.Floating.Bank.Jump.Shot.' constant. Cannot scale data.\""
     ]
    },
    {
     "name": "stdout",
     "output_type": "stream",
     "text": [
      "- Fold10.Rep1: cost=0.50 \n",
      "+ Fold10.Rep1: cost=1.00 \n"
     ]
    },
    {
     "name": "stderr",
     "output_type": "stream",
     "text": [
      "Warning message in svm.default(x = as.matrix(x), y = y, kernel = \"linear\", cost = param$cost, :\n",
      "\"Variable(s) 'X.action_type.Driving.Floating.Bank.Jump.Shot.' constant. Cannot scale data.\""
     ]
    },
    {
     "name": "stdout",
     "output_type": "stream",
     "text": [
      "- Fold10.Rep1: cost=1.00 \n",
      "Aggregating results\n",
      "Selecting tuning parameters\n",
      "Fitting cost = 0.5 on full training set\n"
     ]
    },
    {
     "name": "stderr",
     "output_type": "stream",
     "text": [
      "Warning message in svm.default(x = as.matrix(x), y = y, kernel = \"linear\", cost = param$cost, :\n",
      "\"Variable(s) 'X.action_type.Driving.Floating.Bank.Jump.Shot.' constant. Cannot scale data.\""
     ]
    },
    {
     "data": {
      "text/plain": [
       "Support Vector Machines with Linear Kernel \n",
       "\n",
       "20558 samples\n",
       "  147 predictor\n",
       "    2 classes: 'No', 'Yes' \n",
       "\n",
       "No pre-processing\n",
       "Resampling: Cross-Validated (10 fold, repeated 1 times) \n",
       "Summary of sample sizes: 18502, 18502, 18502, 18502, 18503, 18501, ... \n",
       "Resampling results across tuning parameters:\n",
       "\n",
       "  cost  Accuracy   Kappa    \n",
       "  0.25  0.6769614  0.3224712\n",
       "  0.50  0.6774964  0.3236201\n",
       "  1.00  0.6774964  0.3239375\n",
       "\n",
       "Accuracy was used to select the optimal model using  the largest value.\n",
       "The final value used for the model was cost = 0.5. "
      ]
     },
     "metadata": {},
     "output_type": "display_data"
    },
    {
     "data": {
      "text/plain": [
       "Time difference of 21.50802 mins"
      ]
     },
     "metadata": {},
     "output_type": "display_data"
    },
    {
     "data": {},
     "metadata": {},
     "output_type": "display_data"
    },
    {
     "data": {
      "image/png": "[encoded data removed]",
      "text/plain": [
       "plot without title"
      ]
     },
     "metadata": {},
     "output_type": "display_data"
    }
   ],
   "source": [
    "start.time <- Sys.time()\n",
    "SVMfit <- caret:::train(shot_made_flag ~ ., data = training, method = \"svmLinear2\", trControl = ctrl)\n",
    "\n",
    "#Output of NB fit\n",
    "SVMfit\n",
    "\n",
    "# Time elapsed\n",
    "end.time <- Sys.time()\n",
    "time.taken <- end.time - start.time\n",
    "time.taken\n",
    "\n",
    "# Plot the tuning\n",
    "plot(SVMfit)"
   ]
  },
  {
   "cell_type": "code",
   "execution_count": 43,
   "metadata": {
    "collapsed": false
   },
   "outputs": [
    {
     "data": {
      "text/plain": [
       "Confusion Matrix and Statistics\n",
       "\n",
       "          Reference\n",
       "Prediction   No  Yes\n",
       "       No  2449 1181\n",
       "       Yes  397 1112\n",
       "                                          \n",
       "               Accuracy : 0.6929          \n",
       "                 95% CI : (0.6801, 0.7055)\n",
       "    No Information Rate : 0.5538          \n",
       "    P-Value [Acc > NIR] : < 2.2e-16       \n",
       "                                          \n",
       "                  Kappa : 0.3573          \n",
       " Mcnemar's Test P-Value : < 2.2e-16       \n",
       "                                          \n",
       "            Sensitivity : 0.4850          \n",
       "            Specificity : 0.8605          \n",
       "         Pos Pred Value : 0.7369          \n",
       "         Neg Pred Value : 0.6747          \n",
       "             Prevalence : 0.4462          \n",
       "         Detection Rate : 0.2164          \n",
       "   Detection Prevalence : 0.2936          \n",
       "      Balanced Accuracy : 0.6727          \n",
       "                                          \n",
       "       'Positive' Class : Yes             \n",
       "                                          "
      ]
     },
     "metadata": {},
     "output_type": "display_data"
    }
   ],
   "source": [
    "# Now predict on test set\n",
    "SVMPredict <- predict(SVMfit, newdata = testing)\n",
    "# Get the confusion matrix to see accuracy value and other parameter values\n",
    "caret:::confusionMatrix(SVMPredict, testing$shot_made_flag, positive = \"Yes\")"
   ]
  },
  {
   "cell_type": "markdown",
   "metadata": {},
   "source": [
    "### Random Forest"
   ]
  },
  {
   "cell_type": "code",
   "execution_count": null,
   "metadata": {
    "collapsed": false
   },
   "outputs": [
    {
     "name": "stderr",
     "output_type": "stream",
     "text": [
      "Warning message in train.default(x, y, weights = w, ...):\n",
      "\"The metric \"ROC\" was not in the result set. Accuracy will be used instead.\""
     ]
    }
   ],
   "source": [
    "start.time <- Sys.time()\n",
    "rfctrl <- trainControl(method=\"repeatedcv\", number = 10, repeats = 1, verboseIter = TRUE, classProbs = TRUE)\n",
    "RFfit <- caret:::train(shot_made_flag ~ ., data = training, method = \"rf\", tuneLength = 10, metric=\"ROC\", trControl = rfctrl)\n",
    "\n",
    "#Output of NB fit\n",
    "RFfit\n",
    "\n",
    "# Time elapsed\n",
    "end.time <- Sys.time()\n",
    "time.taken <- end.time - start.time\n",
    "time.taken\n",
    "\n",
    "# Plot the tuning\n",
    "plot(RFfit)"
   ]
  },
  {
   "cell_type": "code",
   "execution_count": null,
   "metadata": {
    "collapsed": true
   },
   "outputs": [],
   "source": [
    "# Now predict on test set\n",
    "RFPredict <- predict(RFfit, newdata = testing)\n",
    "# Get the confusion matrix to see accuracy value and other parameter values\n",
    "caret:::confusionMatrix(RFPredict, testing$shot_made_flag, positive = \"Yes\")"
   ]
  },
  {
   "cell_type": "markdown",
   "metadata": {},
   "source": [
    "### Neural Networks"
   ]
  },
  {
   "cell_type": "markdown",
   "metadata": {},
   "source": [
    "#### 1 Hidden Layer - 1:6 Units"
   ]
  },
  {
   "cell_type": "code",
   "execution_count": null,
   "metadata": {
    "collapsed": true
   },
   "outputs": [],
   "source": [
    "start.time <- Sys.time()\n",
    "my.grid <- expand.grid(.decay = c(2, 1), .size = c(1,2,3,4,5,6))\n",
    "NNETfit <- caret:::train(shot_made_flag ~ ., data = training, method = \"nnet\", maxit = 10000, tuneGrid = my.grid, trace = F, trControl = rfctrl)\n",
    "\n",
    "#Output of NB fit\n",
    "NNETfit\n",
    "\n",
    "# Time elapsed\n",
    "end.time <- Sys.time()\n",
    "time.taken <- end.time - start.time\n",
    "time.taken\n",
    "\n",
    "# Plot optimization\n",
    "plot(NNETfit)"
   ]
  },
  {
   "cell_type": "code",
   "execution_count": null,
   "metadata": {
    "collapsed": true
   },
   "outputs": [],
   "source": [
    "# Now predict on test set\n",
    "NNETPredict <- predict(NNETfit, newdata = testing)\n",
    "# Get the confusion matrix to see accuracy value and other parameter values\n",
    "caret:::confusionMatrix(NNETPredict, testing$shot_made_flag, positive = \"Yes\")"
   ]
  },
  {
   "cell_type": "markdown",
   "metadata": {},
   "source": [
    "#### MLP"
   ]
  },
  {
   "cell_type": "code",
   "execution_count": null,
   "metadata": {
    "collapsed": true
   },
   "outputs": [],
   "source": [
    "start.time <- Sys.time()\n",
    "\n",
    "seeds <- vector(mode = \"list\", length = nrow(training) + 1)\n",
    "seeds <- lapply(seeds, function(x) 1:54)\n",
    "cctrl1 <- trainControl(method = \"cv\", number = 10, verboseIter = TRUE)\n",
    "\n",
    "grid <- expand.grid(decay = c(0, .01), layer1 = 1:3, layer2 = 1:3, layer3 = 1:3)\n",
    "\n",
    "NEURALNETfit <- caret:::train(data_cl[, !(colnames(data_cl) %in% c(\"shot_made_flag\"))],\n",
    "                                     data_cl$shot_made_flag,\n",
    "                                     method = \"mlpWeightDecayML\",\n",
    "                                     trControl = cctrl1,\n",
    "                                     tuneGrid = grid)\n",
    "\n",
    "\n",
    "# Time elapsed\n",
    "end.time <- Sys.time()\n",
    "time.taken <- end.time - start.time\n",
    "time.taken"
   ]
  },
  {
   "cell_type": "code",
   "execution_count": null,
   "metadata": {
    "collapsed": true
   },
   "outputs": [],
   "source": [
    "# Now predict on test set\n",
    "NEURALNETPredict <- predict(NEURALNETfit, newdata = testing)\n",
    "# Get the confusion matrix to see accuracy value and other parameter values\n",
    "caret:::confusionMatrix(NEURALNETPredict, testing$shot_made_flag, positive = \"Yes\")"
   ]
  }
 ],
 "metadata": {
  "anaconda-cloud": {},
  "kernelspec": {
   "display_name": "R",
   "language": "R",
   "name": "ir"
  },
  "language_info": {
   "codemirror_mode": "r",
   "file_extension": ".r",
   "mimetype": "text/x-r-source",
   "name": "R",
   "pygments_lexer": "r",
   "version": "3.3.1"
  }
 },
 "nbformat": 4,
 "nbformat_minor": 1
}
