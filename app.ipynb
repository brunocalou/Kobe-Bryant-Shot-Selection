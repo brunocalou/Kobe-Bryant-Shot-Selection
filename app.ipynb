{
 "cells": [
  {
   "cell_type": "markdown",
   "metadata": {},
   "source": [
    "# Kobe Bryant Shot Selection"
   ]
  },
  {
   "cell_type": "markdown",
   "metadata": {},
   "source": [
    "## Import custom R modules"
   ]
  },
  {
   "cell_type": "code",
   "execution_count": 1,
   "metadata": {
    "collapsed": false
   },
   "outputs": [],
   "source": [
    "source('R/utils/devdependencies.R');\n",
    "source('R/pre-processing/preprocessing.R');\n",
    "source('R/pre-processing/datavis.R');"
   ]
  },
  {
   "cell_type": "markdown",
   "metadata": {},
   "source": [
    "## Install dependencies"
   ]
  },
  {
   "cell_type": "code",
   "execution_count": 2,
   "metadata": {
    "collapsed": false
   },
   "outputs": [
    {
     "name": "stdout",
     "output_type": "stream",
     "text": [
      "[1] \"Installing Project dependencies/libraries... Please wait\"\n"
     ]
    },
    {
     "name": "stderr",
     "output_type": "stream",
     "text": [
      "Installing package into 'C:/Users/bruno/OneDrive/Documentos/R/win-library/3.3'\n",
      "(as 'lib' is unspecified)\n"
     ]
    },
    {
     "name": "stdout",
     "output_type": "stream",
     "text": [
      "package 'GGally' successfully unpacked and MD5 sums checked\n",
      "\n",
      "The downloaded binary packages are in\n",
      "\tC:\\Users\\bruno\\AppData\\Local\\Temp\\RtmpSE0FBo\\downloaded_packages\n",
      "[1] \"Status: Success\"\n"
     ]
    }
   ],
   "source": [
    "install_dependencies();"
   ]
  },
  {
   "cell_type": "code",
   "execution_count": 3,
   "metadata": {
    "collapsed": false
   },
   "outputs": [],
   "source": [
    "# Loading libraries\n",
    "library(ggplot2)\n",
    "library(GGally)"
   ]
  },
  {
   "cell_type": "markdown",
   "metadata": {},
   "source": [
    "## Read the data into memory"
   ]
  },
  {
   "cell_type": "code",
   "execution_count": 4,
   "metadata": {
    "collapsed": false
   },
   "outputs": [
    {
     "data": {
      "text/html": [
       "<table>\n",
       "<thead><tr><th scope=col>action_type</th><th scope=col>combined_shot_type</th><th scope=col>game_event_id</th><th scope=col>game_id</th><th scope=col>lat</th><th scope=col>loc_x</th><th scope=col>loc_y</th><th scope=col>lon</th><th scope=col>minutes_remaining</th><th scope=col>period</th><th scope=col>...</th><th scope=col>shot_type</th><th scope=col>shot_zone_area</th><th scope=col>shot_zone_basic</th><th scope=col>shot_zone_range</th><th scope=col>team_id</th><th scope=col>team_name</th><th scope=col>game_date</th><th scope=col>matchup</th><th scope=col>opponent</th><th scope=col>shot_id</th></tr></thead>\n",
       "<tbody>\n",
       "\t<tr><td>Jump Shot            </td><td>Jump Shot            </td><td> 10                  </td><td>20000012             </td><td>33.9723              </td><td> 167                 </td><td> 72                  </td><td>-118.1028            </td><td>10                   </td><td>1                    </td><td>...                  </td><td>2PT Field Goal       </td><td>Right Side(R)        </td><td>Mid-Range            </td><td>16-24 ft.            </td><td>1610612747           </td><td>Los Angeles Lakers   </td><td>2000-10-31           </td><td>LAL @ POR            </td><td>POR                  </td><td>1                    </td></tr>\n",
       "\t<tr><td>Jump Shot            </td><td>Jump Shot            </td><td> 12                  </td><td>20000012             </td><td>34.0443              </td><td>-157                 </td><td>  0                  </td><td>-118.4268            </td><td>10                   </td><td>1                    </td><td>...                  </td><td>2PT Field Goal       </td><td>Left Side(L)         </td><td>Mid-Range            </td><td>8-16 ft.             </td><td>1610612747           </td><td>Los Angeles Lakers   </td><td>2000-10-31           </td><td>LAL @ POR            </td><td>POR                  </td><td>2                    </td></tr>\n",
       "\t<tr><td>Jump Shot            </td><td>Jump Shot            </td><td> 35                  </td><td>20000012             </td><td>33.9093              </td><td>-101                 </td><td>135                  </td><td>-118.3708            </td><td> 7                   </td><td>1                    </td><td>...                  </td><td>2PT Field Goal       </td><td>Left Side Center(LC) </td><td>Mid-Range            </td><td>16-24 ft.            </td><td>1610612747           </td><td>Los Angeles Lakers   </td><td>2000-10-31           </td><td>LAL @ POR            </td><td>POR                  </td><td>3                    </td></tr>\n",
       "\t<tr><td>Jump Shot            </td><td>Jump Shot            </td><td> 43                  </td><td>20000012             </td><td>33.8693              </td><td> 138                 </td><td>175                  </td><td>-118.1318            </td><td> 6                   </td><td>1                    </td><td>...                  </td><td>2PT Field Goal       </td><td>Right Side Center(RC)</td><td>Mid-Range            </td><td>16-24 ft.            </td><td>1610612747           </td><td>Los Angeles Lakers   </td><td>2000-10-31           </td><td>LAL @ POR            </td><td>POR                  </td><td>4                    </td></tr>\n",
       "\t<tr><td>Driving Dunk Shot    </td><td>Dunk                 </td><td>155                  </td><td>20000012             </td><td>34.0443              </td><td>   0                 </td><td>  0                  </td><td>-118.2698            </td><td> 6                   </td><td>2                    </td><td>...                  </td><td>2PT Field Goal       </td><td>Center(C)            </td><td>Restricted Area      </td><td>Less Than 8 ft.      </td><td>1610612747           </td><td>Los Angeles Lakers   </td><td>2000-10-31           </td><td>LAL @ POR            </td><td>POR                  </td><td>5                    </td></tr>\n",
       "\t<tr><td>Jump Shot            </td><td>Jump Shot            </td><td>244                  </td><td>20000012             </td><td>34.0553              </td><td>-145                 </td><td>-11                  </td><td>-118.4148            </td><td> 9                   </td><td>3                    </td><td>...                  </td><td>2PT Field Goal       </td><td>Left Side(L)         </td><td>Mid-Range            </td><td>8-16 ft.             </td><td>1610612747           </td><td>Los Angeles Lakers   </td><td>2000-10-31           </td><td>LAL @ POR            </td><td>POR                  </td><td>6                    </td></tr>\n",
       "</tbody>\n",
       "</table>\n"
      ],
      "text/latex": [
       "\\begin{tabular}{r|lllllllllllllllllllllllll}\n",
       " action\\_type & combined\\_shot\\_type & game\\_event\\_id & game\\_id & lat & loc\\_x & loc\\_y & lon & minutes\\_remaining & period & ... & shot\\_type & shot\\_zone\\_area & shot\\_zone\\_basic & shot\\_zone\\_range & team\\_id & team\\_name & game\\_date & matchup & opponent & shot\\_id\\\\\n",
       "\\hline\n",
       "\t Jump Shot             & Jump Shot             &  10                   & 20000012              & 33.9723               &  167                  &  72                   & -118.1028             & 10                    & 1                     & ...                   & 2PT Field Goal        & Right Side(R)         & Mid-Range             & 16-24 ft.             & 1610612747            & Los Angeles Lakers    & 2000-10-31            & LAL @ POR             & POR                   & 1                    \\\\\n",
       "\t Jump Shot             & Jump Shot             &  12                   & 20000012              & 34.0443               & -157                  &   0                   & -118.4268             & 10                    & 1                     & ...                   & 2PT Field Goal        & Left Side(L)          & Mid-Range             & 8-16 ft.              & 1610612747            & Los Angeles Lakers    & 2000-10-31            & LAL @ POR             & POR                   & 2                    \\\\\n",
       "\t Jump Shot             & Jump Shot             &  35                   & 20000012              & 33.9093               & -101                  & 135                   & -118.3708             &  7                    & 1                     & ...                   & 2PT Field Goal        & Left Side Center(LC)  & Mid-Range             & 16-24 ft.             & 1610612747            & Los Angeles Lakers    & 2000-10-31            & LAL @ POR             & POR                   & 3                    \\\\\n",
       "\t Jump Shot             & Jump Shot             &  43                   & 20000012              & 33.8693               &  138                  & 175                   & -118.1318             &  6                    & 1                     & ...                   & 2PT Field Goal        & Right Side Center(RC) & Mid-Range             & 16-24 ft.             & 1610612747            & Los Angeles Lakers    & 2000-10-31            & LAL @ POR             & POR                   & 4                    \\\\\n",
       "\t Driving Dunk Shot     & Dunk                  & 155                   & 20000012              & 34.0443               &    0                  &   0                   & -118.2698             &  6                    & 2                     & ...                   & 2PT Field Goal        & Center(C)             & Restricted Area       & Less Than 8 ft.       & 1610612747            & Los Angeles Lakers    & 2000-10-31            & LAL @ POR             & POR                   & 5                    \\\\\n",
       "\t Jump Shot             & Jump Shot             & 244                   & 20000012              & 34.0553               & -145                  & -11                   & -118.4148             &  9                    & 3                     & ...                   & 2PT Field Goal        & Left Side(L)          & Mid-Range             & 8-16 ft.              & 1610612747            & Los Angeles Lakers    & 2000-10-31            & LAL @ POR             & POR                   & 6                    \\\\\n",
       "\\end{tabular}\n"
      ],
      "text/plain": [
       "  action_type       combined_shot_type game_event_id game_id  lat     loc_x\n",
       "1 Jump Shot         Jump Shot           10           20000012 33.9723  167 \n",
       "2 Jump Shot         Jump Shot           12           20000012 34.0443 -157 \n",
       "3 Jump Shot         Jump Shot           35           20000012 33.9093 -101 \n",
       "4 Jump Shot         Jump Shot           43           20000012 33.8693  138 \n",
       "5 Driving Dunk Shot Dunk               155           20000012 34.0443    0 \n",
       "6 Jump Shot         Jump Shot          244           20000012 34.0553 -145 \n",
       "  loc_y lon       minutes_remaining period ... shot_type     \n",
       "1  72   -118.1028 10                1      ... 2PT Field Goal\n",
       "2   0   -118.4268 10                1      ... 2PT Field Goal\n",
       "3 135   -118.3708  7                1      ... 2PT Field Goal\n",
       "4 175   -118.1318  6                1      ... 2PT Field Goal\n",
       "5   0   -118.2698  6                2      ... 2PT Field Goal\n",
       "6 -11   -118.4148  9                3      ... 2PT Field Goal\n",
       "  shot_zone_area        shot_zone_basic shot_zone_range team_id   \n",
       "1 Right Side(R)         Mid-Range       16-24 ft.       1610612747\n",
       "2 Left Side(L)          Mid-Range       8-16 ft.        1610612747\n",
       "3 Left Side Center(LC)  Mid-Range       16-24 ft.       1610612747\n",
       "4 Right Side Center(RC) Mid-Range       16-24 ft.       1610612747\n",
       "5 Center(C)             Restricted Area Less Than 8 ft. 1610612747\n",
       "6 Left Side(L)          Mid-Range       8-16 ft.        1610612747\n",
       "  team_name          game_date  matchup   opponent shot_id\n",
       "1 Los Angeles Lakers 2000-10-31 LAL @ POR POR      1      \n",
       "2 Los Angeles Lakers 2000-10-31 LAL @ POR POR      2      \n",
       "3 Los Angeles Lakers 2000-10-31 LAL @ POR POR      3      \n",
       "4 Los Angeles Lakers 2000-10-31 LAL @ POR POR      4      \n",
       "5 Los Angeles Lakers 2000-10-31 LAL @ POR POR      5      \n",
       "6 Los Angeles Lakers 2000-10-31 LAL @ POR POR      6      "
      ]
     },
     "metadata": {},
     "output_type": "display_data"
    }
   ],
   "source": [
    "# Get the csv file from the zip file\n",
    "raw_data <- read.table(unz(\"data/rawdata_csv.zip\", \"data.csv\"), header=T, quote=\"\\\"\", sep=\",\");\n",
    "\n",
    "# Print the head of the dataframe to understand the data structure\n",
    "head(raw_data)"
   ]
  },
  {
   "cell_type": "markdown",
   "metadata": {},
   "source": [
    "## Understanding the variables"
   ]
  },
  {
   "cell_type": "code",
   "execution_count": 5,
   "metadata": {
    "collapsed": false,
    "scrolled": false
   },
   "outputs": [
    {
     "data": {
      "text/html": [
       "<ol class=list-inline>\n",
       "\t<li>'action_type'</li>\n",
       "\t<li>'combined_shot_type'</li>\n",
       "\t<li>'game_event_id'</li>\n",
       "\t<li>'game_id'</li>\n",
       "\t<li>'lat'</li>\n",
       "\t<li>'loc_x'</li>\n",
       "\t<li>'loc_y'</li>\n",
       "\t<li>'lon'</li>\n",
       "\t<li>'minutes_remaining'</li>\n",
       "\t<li>'period'</li>\n",
       "\t<li>'playoffs'</li>\n",
       "\t<li>'season'</li>\n",
       "\t<li>'seconds_remaining'</li>\n",
       "\t<li>'shot_distance'</li>\n",
       "\t<li>'shot_made_flag'</li>\n",
       "\t<li>'shot_type'</li>\n",
       "\t<li>'shot_zone_area'</li>\n",
       "\t<li>'shot_zone_basic'</li>\n",
       "\t<li>'shot_zone_range'</li>\n",
       "\t<li>'team_id'</li>\n",
       "\t<li>'team_name'</li>\n",
       "\t<li>'game_date'</li>\n",
       "\t<li>'matchup'</li>\n",
       "\t<li>'opponent'</li>\n",
       "\t<li>'shot_id'</li>\n",
       "</ol>\n"
      ],
      "text/latex": [
       "\\begin{enumerate*}\n",
       "\\item 'action\\_type'\n",
       "\\item 'combined\\_shot\\_type'\n",
       "\\item 'game\\_event\\_id'\n",
       "\\item 'game\\_id'\n",
       "\\item 'lat'\n",
       "\\item 'loc\\_x'\n",
       "\\item 'loc\\_y'\n",
       "\\item 'lon'\n",
       "\\item 'minutes\\_remaining'\n",
       "\\item 'period'\n",
       "\\item 'playoffs'\n",
       "\\item 'season'\n",
       "\\item 'seconds\\_remaining'\n",
       "\\item 'shot\\_distance'\n",
       "\\item 'shot\\_made\\_flag'\n",
       "\\item 'shot\\_type'\n",
       "\\item 'shot\\_zone\\_area'\n",
       "\\item 'shot\\_zone\\_basic'\n",
       "\\item 'shot\\_zone\\_range'\n",
       "\\item 'team\\_id'\n",
       "\\item 'team\\_name'\n",
       "\\item 'game\\_date'\n",
       "\\item 'matchup'\n",
       "\\item 'opponent'\n",
       "\\item 'shot\\_id'\n",
       "\\end{enumerate*}\n"
      ],
      "text/markdown": [
       "1. 'action_type'\n",
       "2. 'combined_shot_type'\n",
       "3. 'game_event_id'\n",
       "4. 'game_id'\n",
       "5. 'lat'\n",
       "6. 'loc_x'\n",
       "7. 'loc_y'\n",
       "8. 'lon'\n",
       "9. 'minutes_remaining'\n",
       "10. 'period'\n",
       "11. 'playoffs'\n",
       "12. 'season'\n",
       "13. 'seconds_remaining'\n",
       "14. 'shot_distance'\n",
       "15. 'shot_made_flag'\n",
       "16. 'shot_type'\n",
       "17. 'shot_zone_area'\n",
       "18. 'shot_zone_basic'\n",
       "19. 'shot_zone_range'\n",
       "20. 'team_id'\n",
       "21. 'team_name'\n",
       "22. 'game_date'\n",
       "23. 'matchup'\n",
       "24. 'opponent'\n",
       "25. 'shot_id'\n",
       "\n",
       "\n"
      ],
      "text/plain": [
       " [1] \"action_type\"        \"combined_shot_type\" \"game_event_id\"     \n",
       " [4] \"game_id\"            \"lat\"                \"loc_x\"             \n",
       " [7] \"loc_y\"              \"lon\"                \"minutes_remaining\" \n",
       "[10] \"period\"             \"playoffs\"           \"season\"            \n",
       "[13] \"seconds_remaining\"  \"shot_distance\"      \"shot_made_flag\"    \n",
       "[16] \"shot_type\"          \"shot_zone_area\"     \"shot_zone_basic\"   \n",
       "[19] \"shot_zone_range\"    \"team_id\"            \"team_name\"         \n",
       "[22] \"game_date\"          \"matchup\"            \"opponent\"          \n",
       "[25] \"shot_id\"           "
      ]
     },
     "metadata": {},
     "output_type": "display_data"
    }
   ],
   "source": [
    "colnames(raw_data)"
   ]
  },
  {
   "cell_type": "markdown",
   "metadata": {
    "collapsed": true
   },
   "source": [
    "## Separating data from submission samples"
   ]
  },
  {
   "cell_type": "code",
   "execution_count": 6,
   "metadata": {
    "collapsed": true
   },
   "outputs": [],
   "source": [
    "dataframe <- na.omit(raw_data)\n",
    "submission_sample <- raw_data[is.na(raw_data$shot_made_flag),]"
   ]
  },
  {
   "cell_type": "markdown",
   "metadata": {},
   "source": [
    "## Statistical Analysis (Descriptive statistics)"
   ]
  },
  {
   "cell_type": "code",
   "execution_count": 7,
   "metadata": {
    "collapsed": false,
    "scrolled": false
   },
   "outputs": [
    {
     "data": {
      "text/plain": [
       " game_event_id      game_id              lat            loc_x         \n",
       " Min.   :  2.0   Min.   :20000012   Min.   :33.25   Min.   :-250.000  \n",
       " 1st Qu.:111.0   1st Qu.:20500064   1st Qu.:33.88   1st Qu.: -67.000  \n",
       " Median :253.0   Median :20900337   Median :33.97   Median :   0.000  \n",
       " Mean   :249.3   Mean   :24741091   Mean   :33.95   Mean   :   7.148  \n",
       " 3rd Qu.:367.0   3rd Qu.:29600270   3rd Qu.:34.04   3rd Qu.:  94.000  \n",
       " Max.   :653.0   Max.   :49900088   Max.   :34.09   Max.   : 248.000  \n",
       "     loc_y             lon         minutes_remaining     period     \n",
       " Min.   :-44.00   Min.   :-118.5   Min.   : 0.000    Min.   :1.000  \n",
       " 1st Qu.:  4.00   1st Qu.:-118.3   1st Qu.: 2.000    1st Qu.:1.000  \n",
       " Median : 74.00   Median :-118.3   Median : 5.000    Median :3.000  \n",
       " Mean   : 91.26   Mean   :-118.3   Mean   : 4.887    Mean   :2.521  \n",
       " 3rd Qu.:160.00   3rd Qu.:-118.2   3rd Qu.: 8.000    3rd Qu.:3.000  \n",
       " Max.   :791.00   Max.   :-118.0   Max.   :11.000    Max.   :7.000  \n",
       "    playoffs      seconds_remaining shot_distance   shot_made_flag  \n",
       " Min.   :0.0000   Min.   : 0.00     Min.   : 0.00   Min.   :0.0000  \n",
       " 1st Qu.:0.0000   1st Qu.:13.00     1st Qu.: 5.00   1st Qu.:0.0000  \n",
       " Median :0.0000   Median :28.00     Median :15.00   Median :0.0000  \n",
       " Mean   :0.1462   Mean   :28.31     Mean   :13.46   Mean   :0.4462  \n",
       " 3rd Qu.:0.0000   3rd Qu.:43.00     3rd Qu.:21.00   3rd Qu.:1.0000  \n",
       " Max.   :1.0000   Max.   :59.00     Max.   :79.00   Max.   :1.0000  \n",
       "    team_id             shot_id     \n",
       " Min.   :1.611e+09   Min.   :    2  \n",
       " 1st Qu.:1.611e+09   1st Qu.: 7646  \n",
       " Median :1.611e+09   Median :15336  \n",
       " Mean   :1.611e+09   Mean   :15328  \n",
       " 3rd Qu.:1.611e+09   3rd Qu.:22976  \n",
       " Max.   :1.611e+09   Max.   :30697  "
      ]
     },
     "metadata": {},
     "output_type": "display_data"
    }
   ],
   "source": [
    "# Pick the numeric variables only\n",
    "numeric_columns <- dataframe[,sapply(dataframe, class) != 'factor']\n",
    "summary(numeric_columns)"
   ]
  },
  {
   "cell_type": "code",
   "execution_count": 8,
   "metadata": {
    "collapsed": false
   },
   "outputs": [
    {
     "data": {
      "text/plain": [
       "               action_type    combined_shot_type     season     \n",
       " Jump Shot           :15836   Bank Shot:  120    2005-06: 1924  \n",
       " Layup Shot          : 2154   Dunk     : 1056    2002-03: 1852  \n",
       " Driving Layup Shot  : 1628   Hook Shot:  127    2008-09: 1851  \n",
       " Turnaround Jump Shot:  891   Jump Shot:19710    2007-08: 1819  \n",
       " Fadeaway Jump Shot  :  872   Layup    : 4532    2009-10: 1772  \n",
       " Running Jump Shot   :  779   Tip Shot :  152    2001-02: 1708  \n",
       " (Other)             : 3537                      (Other):14771  \n",
       "          shot_type                   shot_zone_area \n",
       " 2PT Field Goal:20285   Back Court(BC)       :   72  \n",
       " 3PT Field Goal: 5412   Center(C)            :11289  \n",
       "                        Left Side Center(LC) : 3364  \n",
       "                        Left Side(L)         : 3132  \n",
       "                        Right Side Center(RC): 3981  \n",
       "                        Right Side(R)        : 3859  \n",
       "                                                     \n",
       "              shot_zone_basic         shot_zone_range\n",
       " Above the Break 3    : 4720   16-24 ft.      :6907  \n",
       " Backcourt            :   60   24+ ft.        :5281  \n",
       " In The Paint (Non-RA): 3880   8-16 ft.       :5580  \n",
       " Left Corner 3        :  240   Back Court Shot:  72  \n",
       " Mid-Range            :10532   Less Than 8 ft.:7857  \n",
       " Restricted Area      : 5932                         \n",
       " Right Corner 3       :  333                         \n",
       "              team_name          game_date            matchup     \n",
       " Los Angeles Lakers:25697   2016-04-13:   43   LAL @ SAS  :  853  \n",
       "                            2007-03-30:   41   LAL vs. SAS:  765  \n",
       "                            2002-11-07:   39   LAL @ PHX  :  751  \n",
       "                            2006-01-22:   39   LAL @ SAC  :  751  \n",
       "                            2008-01-14:   37   LAL vs. HOU:  722  \n",
       "                            2010-01-08:   36   LAL vs. PHX:  721  \n",
       "                            (Other)   :25462   (Other)    :21134  \n",
       "    opponent    \n",
       " SAS    : 1638  \n",
       " PHX    : 1535  \n",
       " HOU    : 1399  \n",
       " SAC    : 1397  \n",
       " DEN    : 1352  \n",
       " POR    : 1292  \n",
       " (Other):17084  "
      ]
     },
     "metadata": {},
     "output_type": "display_data"
    }
   ],
   "source": [
    "categorical_columns <- dataframe[,sapply(dataframe, class) == 'factor']\n",
    "summary(categorical_columns)"
   ]
  },
  {
   "cell_type": "markdown",
   "metadata": {},
   "source": [
    "## Data visualization"
   ]
  },
  {
   "cell_type": "code",
   "execution_count": 9,
   "metadata": {
    "collapsed": false
   },
   "outputs": [
    {
     "data": {
      "image/png": "[encoded data removed]",
      "text/plain": [
       "Plot with title \"Class distribution\""
      ]
     },
     "metadata": {},
     "output_type": "display_data"
    }
   ],
   "source": [
    "# Class distribution\n",
    "prop <- c(sum(dataframe$shot_made_flag == 0), sum(dataframe$shot_made_flag == 1))/nrow(dataframe)\n",
    "lbls <- c(\"0 - \", \"1 - \")\n",
    "lbls <- paste(lbls, format(round(prop*100, 2), nsmall = 2))\n",
    "lbls <- paste(lbls, \"%\", sep=\"\")\n",
    "#options(repr.plot.width=4, repr.plot.height=4)\n",
    "pie(prop, labels=lbls, col=rainbow(length(lbls)), main=\"Class distribution\")"
   ]
  },
  {
   "cell_type": "markdown",
   "metadata": {},
   "source": [
    "### Spatial variables"
   ]
  },
  {
   "cell_type": "code",
   "execution_count": 10,
   "metadata": {
    "collapsed": false,
    "scrolled": true
   },
   "outputs": [
    {
     "data": {},
     "metadata": {},
     "output_type": "display_data"
    },
    {
     "data": {
      "image/png": "[encoded data removed]",
      "text/plain": [
       "plot without title"
      ]
     },
     "metadata": {},
     "output_type": "display_data"
    }
   ],
   "source": [
    "# Quartiles and scatter matrix of 'loc_x', 'loc_y', 'lat', 'lon', 'shot_distance'\n",
    "pm <- ggpairs(dataframe, columns = c('loc_x', 'loc_y', 'lat', 'lon', 'shot_distance'))\n",
    "pm"
   ]
  },
  {
   "cell_type": "markdown",
   "metadata": {},
   "source": [
    "### Correlation Matrix"
   ]
  },
  {
   "cell_type": "code",
   "execution_count": 11,
   "metadata": {
    "collapsed": true
   },
   "outputs": [],
   "source": [
    "# Print and save the correlation matrix"
   ]
  },
  {
   "cell_type": "markdown",
   "metadata": {},
   "source": [
    "### Histograms"
   ]
  },
  {
   "cell_type": "code",
   "execution_count": 12,
   "metadata": {
    "collapsed": false
   },
   "outputs": [
    {
     "data": {
      "image/png": "[encoded data removed]",
      "text/plain": [
       "Plot with title \"Histogram of raw_data$lat\""
      ]
     },
     "metadata": {},
     "output_type": "display_data"
    },
    {
     "data": {
      "image/png": "[encoded data removed]",
      "text/plain": [
       "Plot with title \"Histogram of raw_data$lon\""
      ]
     },
     "metadata": {},
     "output_type": "display_data"
    },
    {
     "data": {
      "image/png": "[encoded data removed]",
      "text/plain": [
       "Plot with title \"Histogram of raw_data$minutes_remaining\""
      ]
     },
     "metadata": {},
     "output_type": "display_data"
    }
   ],
   "source": [
    "options(repr.plot.width=5, repr.plot.height=3)\n",
    "hist(raw_data$lat, col=blues9)\n",
    "hist(raw_data$lon, col=blues9)\n",
    "hist(raw_data$minutes_remaining, col=blues9)"
   ]
  },
  {
   "cell_type": "code",
   "execution_count": 13,
   "metadata": {
    "collapsed": false
   },
   "outputs": [
    {
     "data": {
      "image/png": "[encoded data removed]",
      "text/plain": [
       "Plot with title \"Histogram of raw_data$period\""
      ]
     },
     "metadata": {},
     "output_type": "display_data"
    },
    {
     "data": {
      "image/png": "[encoded data removed]",
      "text/plain": [
       "Plot with title \"Histogram of raw_data$seconds_remaining\""
      ]
     },
     "metadata": {},
     "output_type": "display_data"
    },
    {
     "data": {
      "image/png": "[encoded data removed]",
      "text/plain": [
       "Plot with title \"Histogram of raw_data$shot_distance\""
      ]
     },
     "metadata": {},
     "output_type": "display_data"
    }
   ],
   "source": [
    "options(repr.plot.width=5, repr.plot.height=3)\n",
    "hist(raw_data$period, col=blues9)\n",
    "hist(raw_data$seconds_remaining, col=blues9)\n",
    "hist(raw_data$shot_distance, col=blues9)"
   ]
  },
  {
   "cell_type": "markdown",
   "metadata": {
    "collapsed": true
   },
   "source": [
    "## Prepare Data"
   ]
  },
  {
   "cell_type": "markdown",
   "metadata": {},
   "source": [
    "### Data Cleaning"
   ]
  },
  {
   "cell_type": "code",
   "execution_count": 14,
   "metadata": {
    "collapsed": false
   },
   "outputs": [],
   "source": [
    "#Remove unnecessary columns. Note that lat and lon are correlated with loc_x and loc_y\n",
    "data_cl <- subset(raw_data, select = -c(team_id, lat, lon, game_id, game_event_id, team_name))"
   ]
  },
  {
   "cell_type": "markdown",
   "metadata": {},
   "source": [
    "## Data Transformation"
   ]
  },
  {
   "cell_type": "code",
   "execution_count": 15,
   "metadata": {
    "collapsed": true
   },
   "outputs": [],
   "source": [
    "#Time\n",
    "data_cl['seconds_to_end'] = data_cl['minutes_remaining'] * 60 + data_cl['seconds_remaining']\n",
    "data_cl <- subset(data_cl, select = -c(minutes_remaining, seconds_remaining))"
   ]
  },
  {
   "cell_type": "code",
   "execution_count": 16,
   "metadata": {
    "collapsed": false
   },
   "outputs": [
    {
     "data": {
      "text/html": [
       "<table>\n",
       "<thead><tr><th scope=col>action_type</th><th scope=col>combined_shot_type</th><th scope=col>loc_x</th><th scope=col>loc_y</th><th scope=col>period</th><th scope=col>playoffs</th><th scope=col>season</th><th scope=col>shot_distance</th><th scope=col>shot_made_flag</th><th scope=col>shot_type</th><th scope=col>shot_zone_area</th><th scope=col>shot_zone_basic</th><th scope=col>shot_zone_range</th><th scope=col>game_date</th><th scope=col>matchup</th><th scope=col>opponent</th><th scope=col>shot_id</th><th scope=col>seconds_to_end</th></tr></thead>\n",
       "<tbody>\n",
       "\t<tr><td>Jump Shot            </td><td>Jump Shot            </td><td> 167                 </td><td> 72                  </td><td>1                    </td><td>0                    </td><td>2000-01              </td><td>18                   </td><td>NA                   </td><td>2PT Field Goal       </td><td>Right Side(R)        </td><td>Mid-Range            </td><td>16-24 ft.            </td><td>2000-10-31           </td><td>LAL @ POR            </td><td>POR                  </td><td>1                    </td><td>627                  </td></tr>\n",
       "\t<tr><td>Jump Shot            </td><td>Jump Shot            </td><td>-157                 </td><td>  0                  </td><td>1                    </td><td>0                    </td><td>2000-01              </td><td>15                   </td><td> 0                   </td><td>2PT Field Goal       </td><td>Left Side(L)         </td><td>Mid-Range            </td><td>8-16 ft.             </td><td>2000-10-31           </td><td>LAL @ POR            </td><td>POR                  </td><td>2                    </td><td>622                  </td></tr>\n",
       "\t<tr><td>Jump Shot            </td><td>Jump Shot            </td><td>-101                 </td><td>135                  </td><td>1                    </td><td>0                    </td><td>2000-01              </td><td>16                   </td><td> 1                   </td><td>2PT Field Goal       </td><td>Left Side Center(LC) </td><td>Mid-Range            </td><td>16-24 ft.            </td><td>2000-10-31           </td><td>LAL @ POR            </td><td>POR                  </td><td>3                    </td><td>465                  </td></tr>\n",
       "\t<tr><td>Jump Shot            </td><td>Jump Shot            </td><td> 138                 </td><td>175                  </td><td>1                    </td><td>0                    </td><td>2000-01              </td><td>22                   </td><td> 0                   </td><td>2PT Field Goal       </td><td>Right Side Center(RC)</td><td>Mid-Range            </td><td>16-24 ft.            </td><td>2000-10-31           </td><td>LAL @ POR            </td><td>POR                  </td><td>4                    </td><td>412                  </td></tr>\n",
       "\t<tr><td>Driving Dunk Shot    </td><td>Dunk                 </td><td>   0                 </td><td>  0                  </td><td>2                    </td><td>0                    </td><td>2000-01              </td><td> 0                   </td><td> 1                   </td><td>2PT Field Goal       </td><td>Center(C)            </td><td>Restricted Area      </td><td>Less Than 8 ft.      </td><td>2000-10-31           </td><td>LAL @ POR            </td><td>POR                  </td><td>5                    </td><td>379                  </td></tr>\n",
       "\t<tr><td>Jump Shot            </td><td>Jump Shot            </td><td>-145                 </td><td>-11                  </td><td>3                    </td><td>0                    </td><td>2000-01              </td><td>14                   </td><td> 0                   </td><td>2PT Field Goal       </td><td>Left Side(L)         </td><td>Mid-Range            </td><td>8-16 ft.             </td><td>2000-10-31           </td><td>LAL @ POR            </td><td>POR                  </td><td>6                    </td><td>572                  </td></tr>\n",
       "</tbody>\n",
       "</table>\n"
      ],
      "text/latex": [
       "\\begin{tabular}{r|llllllllllllllllll}\n",
       " action\\_type & combined\\_shot\\_type & loc\\_x & loc\\_y & period & playoffs & season & shot\\_distance & shot\\_made\\_flag & shot\\_type & shot\\_zone\\_area & shot\\_zone\\_basic & shot\\_zone\\_range & game\\_date & matchup & opponent & shot\\_id & seconds\\_to\\_end\\\\\n",
       "\\hline\n",
       "\t Jump Shot             & Jump Shot             &  167                  &  72                   & 1                     & 0                     & 2000-01               & 18                    & NA                    & 2PT Field Goal        & Right Side(R)         & Mid-Range             & 16-24 ft.             & 2000-10-31            & LAL @ POR             & POR                   & 1                     & 627                  \\\\\n",
       "\t Jump Shot             & Jump Shot             & -157                  &   0                   & 1                     & 0                     & 2000-01               & 15                    &  0                    & 2PT Field Goal        & Left Side(L)          & Mid-Range             & 8-16 ft.              & 2000-10-31            & LAL @ POR             & POR                   & 2                     & 622                  \\\\\n",
       "\t Jump Shot             & Jump Shot             & -101                  & 135                   & 1                     & 0                     & 2000-01               & 16                    &  1                    & 2PT Field Goal        & Left Side Center(LC)  & Mid-Range             & 16-24 ft.             & 2000-10-31            & LAL @ POR             & POR                   & 3                     & 465                  \\\\\n",
       "\t Jump Shot             & Jump Shot             &  138                  & 175                   & 1                     & 0                     & 2000-01               & 22                    &  0                    & 2PT Field Goal        & Right Side Center(RC) & Mid-Range             & 16-24 ft.             & 2000-10-31            & LAL @ POR             & POR                   & 4                     & 412                  \\\\\n",
       "\t Driving Dunk Shot     & Dunk                  &    0                  &   0                   & 2                     & 0                     & 2000-01               &  0                    &  1                    & 2PT Field Goal        & Center(C)             & Restricted Area       & Less Than 8 ft.       & 2000-10-31            & LAL @ POR             & POR                   & 5                     & 379                  \\\\\n",
       "\t Jump Shot             & Jump Shot             & -145                  & -11                   & 3                     & 0                     & 2000-01               & 14                    &  0                    & 2PT Field Goal        & Left Side(L)          & Mid-Range             & 8-16 ft.              & 2000-10-31            & LAL @ POR             & POR                   & 6                     & 572                  \\\\\n",
       "\\end{tabular}\n"
      ],
      "text/plain": [
       "  action_type       combined_shot_type loc_x loc_y period playoffs season \n",
       "1 Jump Shot         Jump Shot           167   72   1      0        2000-01\n",
       "2 Jump Shot         Jump Shot          -157    0   1      0        2000-01\n",
       "3 Jump Shot         Jump Shot          -101  135   1      0        2000-01\n",
       "4 Jump Shot         Jump Shot           138  175   1      0        2000-01\n",
       "5 Driving Dunk Shot Dunk                  0    0   2      0        2000-01\n",
       "6 Jump Shot         Jump Shot          -145  -11   3      0        2000-01\n",
       "  shot_distance shot_made_flag shot_type      shot_zone_area       \n",
       "1 18            NA             2PT Field Goal Right Side(R)        \n",
       "2 15             0             2PT Field Goal Left Side(L)         \n",
       "3 16             1             2PT Field Goal Left Side Center(LC) \n",
       "4 22             0             2PT Field Goal Right Side Center(RC)\n",
       "5  0             1             2PT Field Goal Center(C)            \n",
       "6 14             0             2PT Field Goal Left Side(L)         \n",
       "  shot_zone_basic shot_zone_range game_date  matchup   opponent shot_id\n",
       "1 Mid-Range       16-24 ft.       2000-10-31 LAL @ POR POR      1      \n",
       "2 Mid-Range       8-16 ft.        2000-10-31 LAL @ POR POR      2      \n",
       "3 Mid-Range       16-24 ft.       2000-10-31 LAL @ POR POR      3      \n",
       "4 Mid-Range       16-24 ft.       2000-10-31 LAL @ POR POR      4      \n",
       "5 Restricted Area Less Than 8 ft. 2000-10-31 LAL @ POR POR      5      \n",
       "6 Mid-Range       8-16 ft.        2000-10-31 LAL @ POR POR      6      \n",
       "  seconds_to_end\n",
       "1 627           \n",
       "2 622           \n",
       "3 465           \n",
       "4 412           \n",
       "5 379           \n",
       "6 572           "
      ]
     },
     "metadata": {},
     "output_type": "display_data"
    }
   ],
   "source": [
    "# Check the clean data\n",
    "head(data_cl)"
   ]
  },
  {
   "cell_type": "markdown",
   "metadata": {},
   "source": [
    "## Clean Data Visualization"
   ]
  },
  {
   "cell_type": "markdown",
   "metadata": {},
   "source": [
    "### Spatial variables "
   ]
  },
  {
   "cell_type": "code",
   "execution_count": 17,
   "metadata": {
    "collapsed": false
   },
   "outputs": [
    {
     "data": {},
     "metadata": {},
     "output_type": "display_data"
    },
    {
     "data": {
      "image/png": "[encoded data removed]",
      "text/plain": [
       "plot without title"
      ]
     },
     "metadata": {},
     "output_type": "display_data"
    }
   ],
   "source": [
    "# Quartiles and scatter matrix of 'loc_x', 'loc_y', 'lat', 'lon', 'shot_distance'\n",
    "pm <- ggpairs(dataframe, columns = c('loc_x', 'loc_y', 'shot_distance'))\n",
    "pm"
   ]
  },
  {
   "cell_type": "markdown",
   "metadata": {},
   "source": [
    "### Histograms"
   ]
  },
  {
   "cell_type": "code",
   "execution_count": 18,
   "metadata": {
    "collapsed": false
   },
   "outputs": [
    {
     "data": {
      "image/png": "[encoded data removed]",
      "text/plain": [
       "Plot with title \"Histogram of data_cl$seconds_to_end\""
      ]
     },
     "metadata": {},
     "output_type": "display_data"
    }
   ],
   "source": [
    "options(repr.plot.width=5, repr.plot.height=3)\n",
    "hist(data_cl$seconds_to_end, col=blues9)"
   ]
  }
 ],
 "metadata": {
  "anaconda-cloud": {},
  "kernelspec": {
   "display_name": "R",
   "language": "R",
   "name": "ir"
  },
  "language_info": {
   "codemirror_mode": "r",
   "file_extension": ".r",
   "mimetype": "text/x-r-source",
   "name": "R",
   "pygments_lexer": "r",
   "version": "3.3.1"
  }
 },
 "nbformat": 4,
 "nbformat_minor": 1
}
