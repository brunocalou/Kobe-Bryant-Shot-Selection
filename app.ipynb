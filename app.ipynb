{
 "cells": [
  {
   "cell_type": "markdown",
   "metadata": {},
   "source": [
    "# Kobe Bryant Shot Selection"
   ]
  },
  {
   "cell_type": "markdown",
   "metadata": {},
   "source": [
    "## Import custom R modules"
   ]
  },
  {
   "cell_type": "code",
   "execution_count": 1,
   "metadata": {
    "collapsed": false
   },
   "outputs": [],
   "source": [
    "source('R/utils/devdependencies.R');\n",
    "source('R/pre-processing/preprocessing.R');\n",
    "source('R/pre-processing/datavis.R');"
   ]
  },
  {
   "cell_type": "markdown",
   "metadata": {},
   "source": [
    "## Install dependencies"
   ]
  },
  {
   "cell_type": "code",
   "execution_count": 2,
   "metadata": {
    "collapsed": false
   },
   "outputs": [
    {
     "name": "stdout",
     "output_type": "stream",
     "text": [
      "[1] \"Installing Project dependencies/libraries... Please wait\"\n",
      "[1] \"Status: Success\"\n"
     ]
    }
   ],
   "source": [
    "install_dependencies();"
   ]
  },
  {
   "cell_type": "markdown",
   "metadata": {},
   "source": [
    "## Read the data into memory"
   ]
  },
  {
   "cell_type": "code",
   "execution_count": 3,
   "metadata": {
    "collapsed": false
   },
   "outputs": [
    {
     "data": {
      "text/html": [
       "<table>\n",
       "<thead><tr><th scope=col>action_type</th><th scope=col>combined_shot_type</th><th scope=col>game_event_id</th><th scope=col>game_id</th><th scope=col>lat</th><th scope=col>loc_x</th><th scope=col>loc_y</th><th scope=col>lon</th><th scope=col>minutes_remaining</th><th scope=col>period</th><th scope=col>...</th><th scope=col>shot_type</th><th scope=col>shot_zone_area</th><th scope=col>shot_zone_basic</th><th scope=col>shot_zone_range</th><th scope=col>team_id</th><th scope=col>team_name</th><th scope=col>game_date</th><th scope=col>matchup</th><th scope=col>opponent</th><th scope=col>shot_id</th></tr></thead>\n",
       "<tbody>\n",
       "\t<tr><td>Jump Shot            </td><td>Jump Shot            </td><td> 10                  </td><td>20000012             </td><td>33.9723              </td><td> 167                 </td><td> 72                  </td><td>-118.1028            </td><td>10                   </td><td>1                    </td><td>...                  </td><td>2PT Field Goal       </td><td>Right Side(R)        </td><td>Mid-Range            </td><td>16-24 ft.            </td><td>1610612747           </td><td>Los Angeles Lakers   </td><td>2000-10-31           </td><td>LAL @ POR            </td><td>POR                  </td><td>1                    </td></tr>\n",
       "\t<tr><td>Jump Shot            </td><td>Jump Shot            </td><td> 12                  </td><td>20000012             </td><td>34.0443              </td><td>-157                 </td><td>  0                  </td><td>-118.4268            </td><td>10                   </td><td>1                    </td><td>...                  </td><td>2PT Field Goal       </td><td>Left Side(L)         </td><td>Mid-Range            </td><td>8-16 ft.             </td><td>1610612747           </td><td>Los Angeles Lakers   </td><td>2000-10-31           </td><td>LAL @ POR            </td><td>POR                  </td><td>2                    </td></tr>\n",
       "\t<tr><td>Jump Shot            </td><td>Jump Shot            </td><td> 35                  </td><td>20000012             </td><td>33.9093              </td><td>-101                 </td><td>135                  </td><td>-118.3708            </td><td> 7                   </td><td>1                    </td><td>...                  </td><td>2PT Field Goal       </td><td>Left Side Center(LC) </td><td>Mid-Range            </td><td>16-24 ft.            </td><td>1610612747           </td><td>Los Angeles Lakers   </td><td>2000-10-31           </td><td>LAL @ POR            </td><td>POR                  </td><td>3                    </td></tr>\n",
       "\t<tr><td>Jump Shot            </td><td>Jump Shot            </td><td> 43                  </td><td>20000012             </td><td>33.8693              </td><td> 138                 </td><td>175                  </td><td>-118.1318            </td><td> 6                   </td><td>1                    </td><td>...                  </td><td>2PT Field Goal       </td><td>Right Side Center(RC)</td><td>Mid-Range            </td><td>16-24 ft.            </td><td>1610612747           </td><td>Los Angeles Lakers   </td><td>2000-10-31           </td><td>LAL @ POR            </td><td>POR                  </td><td>4                    </td></tr>\n",
       "\t<tr><td>Driving Dunk Shot    </td><td>Dunk                 </td><td>155                  </td><td>20000012             </td><td>34.0443              </td><td>   0                 </td><td>  0                  </td><td>-118.2698            </td><td> 6                   </td><td>2                    </td><td>...                  </td><td>2PT Field Goal       </td><td>Center(C)            </td><td>Restricted Area      </td><td>Less Than 8 ft.      </td><td>1610612747           </td><td>Los Angeles Lakers   </td><td>2000-10-31           </td><td>LAL @ POR            </td><td>POR                  </td><td>5                    </td></tr>\n",
       "\t<tr><td>Jump Shot            </td><td>Jump Shot            </td><td>244                  </td><td>20000012             </td><td>34.0553              </td><td>-145                 </td><td>-11                  </td><td>-118.4148            </td><td> 9                   </td><td>3                    </td><td>...                  </td><td>2PT Field Goal       </td><td>Left Side(L)         </td><td>Mid-Range            </td><td>8-16 ft.             </td><td>1610612747           </td><td>Los Angeles Lakers   </td><td>2000-10-31           </td><td>LAL @ POR            </td><td>POR                  </td><td>6                    </td></tr>\n",
       "</tbody>\n",
       "</table>\n"
      ],
      "text/latex": [
       "\\begin{tabular}{r|lllllllllllllllllllllllll}\n",
       " action\\_type & combined\\_shot\\_type & game\\_event\\_id & game\\_id & lat & loc\\_x & loc\\_y & lon & minutes\\_remaining & period & ... & shot\\_type & shot\\_zone\\_area & shot\\_zone\\_basic & shot\\_zone\\_range & team\\_id & team\\_name & game\\_date & matchup & opponent & shot\\_id\\\\\n",
       "\\hline\n",
       "\t Jump Shot             & Jump Shot             &  10                   & 20000012              & 33.9723               &  167                  &  72                   & -118.1028             & 10                    & 1                     & ...                   & 2PT Field Goal        & Right Side(R)         & Mid-Range             & 16-24 ft.             & 1610612747            & Los Angeles Lakers    & 2000-10-31            & LAL @ POR             & POR                   & 1                    \\\\\n",
       "\t Jump Shot             & Jump Shot             &  12                   & 20000012              & 34.0443               & -157                  &   0                   & -118.4268             & 10                    & 1                     & ...                   & 2PT Field Goal        & Left Side(L)          & Mid-Range             & 8-16 ft.              & 1610612747            & Los Angeles Lakers    & 2000-10-31            & LAL @ POR             & POR                   & 2                    \\\\\n",
       "\t Jump Shot             & Jump Shot             &  35                   & 20000012              & 33.9093               & -101                  & 135                   & -118.3708             &  7                    & 1                     & ...                   & 2PT Field Goal        & Left Side Center(LC)  & Mid-Range             & 16-24 ft.             & 1610612747            & Los Angeles Lakers    & 2000-10-31            & LAL @ POR             & POR                   & 3                    \\\\\n",
       "\t Jump Shot             & Jump Shot             &  43                   & 20000012              & 33.8693               &  138                  & 175                   & -118.1318             &  6                    & 1                     & ...                   & 2PT Field Goal        & Right Side Center(RC) & Mid-Range             & 16-24 ft.             & 1610612747            & Los Angeles Lakers    & 2000-10-31            & LAL @ POR             & POR                   & 4                    \\\\\n",
       "\t Driving Dunk Shot     & Dunk                  & 155                   & 20000012              & 34.0443               &    0                  &   0                   & -118.2698             &  6                    & 2                     & ...                   & 2PT Field Goal        & Center(C)             & Restricted Area       & Less Than 8 ft.       & 1610612747            & Los Angeles Lakers    & 2000-10-31            & LAL @ POR             & POR                   & 5                    \\\\\n",
       "\t Jump Shot             & Jump Shot             & 244                   & 20000012              & 34.0553               & -145                  & -11                   & -118.4148             &  9                    & 3                     & ...                   & 2PT Field Goal        & Left Side(L)          & Mid-Range             & 8-16 ft.              & 1610612747            & Los Angeles Lakers    & 2000-10-31            & LAL @ POR             & POR                   & 6                    \\\\\n",
       "\\end{tabular}\n"
      ],
      "text/plain": [
       "  action_type       combined_shot_type game_event_id game_id  lat     loc_x\n",
       "1 Jump Shot         Jump Shot           10           20000012 33.9723  167 \n",
       "2 Jump Shot         Jump Shot           12           20000012 34.0443 -157 \n",
       "3 Jump Shot         Jump Shot           35           20000012 33.9093 -101 \n",
       "4 Jump Shot         Jump Shot           43           20000012 33.8693  138 \n",
       "5 Driving Dunk Shot Dunk               155           20000012 34.0443    0 \n",
       "6 Jump Shot         Jump Shot          244           20000012 34.0553 -145 \n",
       "  loc_y lon       minutes_remaining period ... shot_type     \n",
       "1  72   -118.1028 10                1      ... 2PT Field Goal\n",
       "2   0   -118.4268 10                1      ... 2PT Field Goal\n",
       "3 135   -118.3708  7                1      ... 2PT Field Goal\n",
       "4 175   -118.1318  6                1      ... 2PT Field Goal\n",
       "5   0   -118.2698  6                2      ... 2PT Field Goal\n",
       "6 -11   -118.4148  9                3      ... 2PT Field Goal\n",
       "  shot_zone_area        shot_zone_basic shot_zone_range team_id   \n",
       "1 Right Side(R)         Mid-Range       16-24 ft.       1610612747\n",
       "2 Left Side(L)          Mid-Range       8-16 ft.        1610612747\n",
       "3 Left Side Center(LC)  Mid-Range       16-24 ft.       1610612747\n",
       "4 Right Side Center(RC) Mid-Range       16-24 ft.       1610612747\n",
       "5 Center(C)             Restricted Area Less Than 8 ft. 1610612747\n",
       "6 Left Side(L)          Mid-Range       8-16 ft.        1610612747\n",
       "  team_name          game_date  matchup   opponent shot_id\n",
       "1 Los Angeles Lakers 2000-10-31 LAL @ POR POR      1      \n",
       "2 Los Angeles Lakers 2000-10-31 LAL @ POR POR      2      \n",
       "3 Los Angeles Lakers 2000-10-31 LAL @ POR POR      3      \n",
       "4 Los Angeles Lakers 2000-10-31 LAL @ POR POR      4      \n",
       "5 Los Angeles Lakers 2000-10-31 LAL @ POR POR      5      \n",
       "6 Los Angeles Lakers 2000-10-31 LAL @ POR POR      6      "
      ]
     },
     "metadata": {},
     "output_type": "display_data"
    }
   ],
   "source": [
    "# Get the csv file from the zip file\n",
    "raw_data <- read.table(unz(\"data/rawdata_csv.zip\", \"data.csv\"), header=T, quote=\"\\\"\", sep=\",\");\n",
    "\n",
    "# Print the head of the dataframe to understand the data structure\n",
    "head(raw_data)"
   ]
  },
  {
   "cell_type": "markdown",
   "metadata": {},
   "source": [
    "## Understanding the variables"
   ]
  },
  {
   "cell_type": "code",
   "execution_count": 4,
   "metadata": {
    "collapsed": false,
    "scrolled": false
   },
   "outputs": [
    {
     "data": {
      "text/html": [
       "<ol class=list-inline>\n",
       "\t<li>'action_type'</li>\n",
       "\t<li>'combined_shot_type'</li>\n",
       "\t<li>'game_event_id'</li>\n",
       "\t<li>'game_id'</li>\n",
       "\t<li>'lat'</li>\n",
       "\t<li>'loc_x'</li>\n",
       "\t<li>'loc_y'</li>\n",
       "\t<li>'lon'</li>\n",
       "\t<li>'minutes_remaining'</li>\n",
       "\t<li>'period'</li>\n",
       "\t<li>'playoffs'</li>\n",
       "\t<li>'season'</li>\n",
       "\t<li>'seconds_remaining'</li>\n",
       "\t<li>'shot_distance'</li>\n",
       "\t<li>'shot_made_flag'</li>\n",
       "\t<li>'shot_type'</li>\n",
       "\t<li>'shot_zone_area'</li>\n",
       "\t<li>'shot_zone_basic'</li>\n",
       "\t<li>'shot_zone_range'</li>\n",
       "\t<li>'team_id'</li>\n",
       "\t<li>'team_name'</li>\n",
       "\t<li>'game_date'</li>\n",
       "\t<li>'matchup'</li>\n",
       "\t<li>'opponent'</li>\n",
       "\t<li>'shot_id'</li>\n",
       "</ol>\n"
      ],
      "text/latex": [
       "\\begin{enumerate*}\n",
       "\\item 'action\\_type'\n",
       "\\item 'combined\\_shot\\_type'\n",
       "\\item 'game\\_event\\_id'\n",
       "\\item 'game\\_id'\n",
       "\\item 'lat'\n",
       "\\item 'loc\\_x'\n",
       "\\item 'loc\\_y'\n",
       "\\item 'lon'\n",
       "\\item 'minutes\\_remaining'\n",
       "\\item 'period'\n",
       "\\item 'playoffs'\n",
       "\\item 'season'\n",
       "\\item 'seconds\\_remaining'\n",
       "\\item 'shot\\_distance'\n",
       "\\item 'shot\\_made\\_flag'\n",
       "\\item 'shot\\_type'\n",
       "\\item 'shot\\_zone\\_area'\n",
       "\\item 'shot\\_zone\\_basic'\n",
       "\\item 'shot\\_zone\\_range'\n",
       "\\item 'team\\_id'\n",
       "\\item 'team\\_name'\n",
       "\\item 'game\\_date'\n",
       "\\item 'matchup'\n",
       "\\item 'opponent'\n",
       "\\item 'shot\\_id'\n",
       "\\end{enumerate*}\n"
      ],
      "text/markdown": [
       "1. 'action_type'\n",
       "2. 'combined_shot_type'\n",
       "3. 'game_event_id'\n",
       "4. 'game_id'\n",
       "5. 'lat'\n",
       "6. 'loc_x'\n",
       "7. 'loc_y'\n",
       "8. 'lon'\n",
       "9. 'minutes_remaining'\n",
       "10. 'period'\n",
       "11. 'playoffs'\n",
       "12. 'season'\n",
       "13. 'seconds_remaining'\n",
       "14. 'shot_distance'\n",
       "15. 'shot_made_flag'\n",
       "16. 'shot_type'\n",
       "17. 'shot_zone_area'\n",
       "18. 'shot_zone_basic'\n",
       "19. 'shot_zone_range'\n",
       "20. 'team_id'\n",
       "21. 'team_name'\n",
       "22. 'game_date'\n",
       "23. 'matchup'\n",
       "24. 'opponent'\n",
       "25. 'shot_id'\n",
       "\n",
       "\n"
      ],
      "text/plain": [
       " [1] \"action_type\"        \"combined_shot_type\" \"game_event_id\"     \n",
       " [4] \"game_id\"            \"lat\"                \"loc_x\"             \n",
       " [7] \"loc_y\"              \"lon\"                \"minutes_remaining\" \n",
       "[10] \"period\"             \"playoffs\"           \"season\"            \n",
       "[13] \"seconds_remaining\"  \"shot_distance\"      \"shot_made_flag\"    \n",
       "[16] \"shot_type\"          \"shot_zone_area\"     \"shot_zone_basic\"   \n",
       "[19] \"shot_zone_range\"    \"team_id\"            \"team_name\"         \n",
       "[22] \"game_date\"          \"matchup\"            \"opponent\"          \n",
       "[25] \"shot_id\"           "
      ]
     },
     "metadata": {},
     "output_type": "display_data"
    }
   ],
   "source": [
    "colnames(raw_data)"
   ]
  },
  {
   "cell_type": "markdown",
   "metadata": {
    "collapsed": true
   },
   "source": [
    "## Separing data from submission samples"
   ]
  },
  {
   "cell_type": "code",
   "execution_count": 5,
   "metadata": {
    "collapsed": true
   },
   "outputs": [],
   "source": [
    "dataframe <- na.omit(raw_data)\n",
    "submission_sample <- raw_data[is.na(raw_data$shot_made_flag),]"
   ]
  },
  {
   "cell_type": "markdown",
   "metadata": {},
   "source": [
    "## Statistical Analysis (Descriptive statistics)"
   ]
  },
  {
   "cell_type": "code",
   "execution_count": 6,
   "metadata": {
    "collapsed": true
   },
   "outputs": [],
   "source": [
    "# Insert descriptive analysis here"
   ]
  },
  {
   "cell_type": "markdown",
   "metadata": {},
   "source": [
    "## Data visualization"
   ]
  },
  {
   "cell_type": "code",
   "execution_count": 11,
   "metadata": {
    "collapsed": false
   },
   "outputs": [
    {
     "data": {
      "image/png": "[encoded data removed]",
      "text/plain": [
       "Plot with title \"Class distribution\""
      ]
     },
     "metadata": {},
     "output_type": "display_data"
    }
   ],
   "source": [
    "# Class distribution\n",
    "prop <- c(sum(dataframe$shot_made_flag == 0), sum(dataframe$shot_made_flag == 1))/nrow(dataframe)\n",
    "lbls <- c(\"0 - \", \"1 - \")\n",
    "lbls <- paste(lbls, format(round(prop*100, 2), nsmall = 2))\n",
    "lbls <- paste(lbls, \"%\", sep=\"\")\n",
    "pie(prop, labels=lbls, col=rainbow(length(lbls)), main=\"Class distribution\")"
   ]
  },
  {
   "cell_type": "markdown",
   "metadata": {},
   "source": [
    "### Scatter Matrix"
   ]
  },
  {
   "cell_type": "code",
   "execution_count": 8,
   "metadata": {
    "collapsed": true
   },
   "outputs": [],
   "source": [
    "# Print and save the scatter matrix"
   ]
  },
  {
   "cell_type": "markdown",
   "metadata": {},
   "source": [
    "### Correlation Matrix"
   ]
  },
  {
   "cell_type": "code",
   "execution_count": 9,
   "metadata": {
    "collapsed": true
   },
   "outputs": [],
   "source": [
    "# Print and save the correlation matrix"
   ]
  }
 ],
 "metadata": {
  "anaconda-cloud": {},
  "kernelspec": {
   "display_name": "R",
   "language": "R",
   "name": "ir"
  },
  "language_info": {
   "codemirror_mode": "r",
   "file_extension": ".r",
   "mimetype": "text/x-r-source",
   "name": "R",
   "pygments_lexer": "r",
   "version": "3.3.1"
  }
 },
 "nbformat": 4,
 "nbformat_minor": 1
}
